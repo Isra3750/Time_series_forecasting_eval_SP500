{
 "cells": [
  {
   "cell_type": "markdown",
   "id": "91f84963",
   "metadata": {},
   "source": [
    "### Test on 2017"
   ]
  },
  {
   "cell_type": "code",
   "execution_count": 1,
   "id": "4d1d2914",
   "metadata": {},
   "outputs": [
    {
     "name": "stderr",
     "output_type": "stream",
     "text": [
      "Importing plotly failed. Interactive plots will not work.\n",
      "c:\\Users\\USER\\Desktop\\Time_series_evaluation\\.venv\\Lib\\site-packages\\fs\\__init__.py:4: UserWarning: pkg_resources is deprecated as an API. See https://setuptools.pypa.io/en/latest/pkg_resources.html. The pkg_resources package is slated for removal as early as 2025-11-30. Refrain from using this package or pin to Setuptools<81.\n",
      "  __import__(\"pkg_resources\").declare_namespace(__name__)  # type: ignore\n",
      "C:\\Users\\USER\\AppData\\Local\\Temp\\ipykernel_55048\\3176073347.py:19: FutureWarning: A value is trying to be set on a copy of a DataFrame or Series through chained assignment using an inplace method.\n",
      "The behavior will change in pandas 3.0. This inplace method will never work because the intermediate object on which we are setting values always behaves as a copy.\n",
      "\n",
      "For example, when doing 'df[col].method(value, inplace=True)', try using 'df.method({col: value}, inplace=True)' or df[col] = df[col].method(value) instead, to perform the operation inplace on the original object.\n",
      "\n",
      "\n",
      "  df[\"Close\"].ffill(inplace=True)\n"
     ]
    }
   ],
   "source": [
    "import yfinance as yf\n",
    "import pandas as pd\n",
    "import numpy as np\n",
    "import matplotlib.pyplot as plt\n",
    "\n",
    "from darts import TimeSeries\n",
    "from darts.models import TransformerModel\n",
    "from darts.metrics import mape, mae, rmse\n",
    "from darts.dataprocessing.transformers import Scaler\n",
    "from darts.utils.missing_values import fill_missing_values\n",
    "\n",
    "sp500 = yf.Ticker(\"^GSPC\")\n",
    "df = sp500.history(start=\"2010-01-01\", end=\"2017-12-31\")[[\"Close\"]].dropna()\n",
    "df.index = pd.to_datetime(df.index).tz_localize(None)\n",
    "\n",
    "# reindex and ffill\n",
    "all_bd = pd.date_range(df.index.min(), df.index.max(), freq=\"B\")\n",
    "df = df.reindex(all_bd)\n",
    "df[\"Close\"].ffill(inplace=True)\n",
    "\n",
    "weekly = df[\"Close\"].resample(\"W-FRI\").last().to_frame()\n",
    "\n",
    "# convert to a darts TimeSeries\n",
    "series = TimeSeries.from_series(\n",
    "    weekly[\"Close\"],\n",
    "    fill_missing_dates=True,\n",
    "    freq=\"W\"\n",
    ")\n",
    "\n",
    "# fill missing values\n",
    "series = fill_missing_values(series)\n",
    "\n",
    "# Create weekly time covariate \n",
    "time_vals = pd.Series(np.arange(len(series)), index=series.time_index)\n",
    "covariate = TimeSeries.from_series(time_vals, freq=\"W\")\n",
    "\n",
    "# split into train (up to 2012-2016) and test (2017)\n",
    "train_ts, test_ts = series.split_before(pd.Timestamp(\"2017-01-01\"))\n",
    "train_cov, test_cov = covariate.split_before(pd.Timestamp(\"2017-01-01\"))\n",
    "\n",
    "# Scale both target and covariate\n",
    "scaler = Scaler()\n",
    "train_scaled = scaler.fit_transform(train_ts) # scale train, no to scale test\n",
    "\n",
    "cov_scaler = Scaler()\n",
    "train_cov_s= cov_scaler.fit_transform(train_cov)\n",
    "test_cov_s = cov_scaler.transform(test_cov)\n",
    "\n",
    "# create full covariate by concatenating train and test\n",
    "full_cov_scaled = train_cov_s.concatenate(test_cov_s)"
   ]
  },
  {
   "cell_type": "code",
   "execution_count": 2,
   "id": "d8f8ef3d",
   "metadata": {},
   "outputs": [
    {
     "name": "stderr",
     "output_type": "stream",
     "text": [
      "c:\\Users\\USER\\Desktop\\Time_series_evaluation\\.venv\\Lib\\site-packages\\torch\\nn\\modules\\transformer.py:382: UserWarning: enable_nested_tensor is True, but self.use_nested_tensor is False because encoder_layer.self_attn.batch_first was not True(use batch_first for better inference performance)\n",
      "  warnings.warn(\n",
      "GPU available: True (cuda), used: True\n",
      "TPU available: False, using: 0 TPU cores\n",
      "HPU available: False, using: 0 HPUs\n",
      "You are using a CUDA device ('NVIDIA GeForce RTX 4070 Laptop GPU') that has Tensor Cores. To properly utilize them, you should set `torch.set_float32_matmul_precision('medium' | 'high')` which will trade-off precision for performance. For more details, read https://pytorch.org/docs/stable/generated/torch.set_float32_matmul_precision.html#torch.set_float32_matmul_precision\n",
      "LOCAL_RANK: 0 - CUDA_VISIBLE_DEVICES: [0]\n",
      "\n",
      "  | Name                | Type                | Params | Mode \n",
      "--------------------------------------------------------------------\n",
      "0 | criterion           | MSELoss             | 0      | train\n",
      "1 | train_criterion     | MSELoss             | 0      | train\n",
      "2 | val_criterion       | MSELoss             | 0      | train\n",
      "3 | train_metrics       | MetricCollection    | 0      | train\n",
      "4 | val_metrics         | MetricCollection    | 0      | train\n",
      "5 | encoder             | Linear              | 192    | train\n",
      "6 | positional_encoding | _PositionalEncoding | 0      | train\n",
      "7 | transformer         | Transformer         | 350 K  | train\n",
      "8 | decoder             | Linear              | 65     | train\n",
      "--------------------------------------------------------------------\n",
      "350 K     Trainable params\n",
      "0         Non-trainable params\n",
      "350 K     Total params\n",
      "1.403     Total estimated model params size (MB)\n",
      "88        Modules in train mode\n",
      "0         Modules in eval mode\n"
     ]
    },
    {
     "data": {
      "application/vnd.jupyter.widget-view+json": {
       "model_id": "cee7c44e807145b5af9b1d602fc59c81",
       "version_major": 2,
       "version_minor": 0
      },
      "text/plain": [
       "Training: |          | 0/? [00:00<?, ?it/s]"
      ]
     },
     "metadata": {},
     "output_type": "display_data"
    },
    {
     "name": "stderr",
     "output_type": "stream",
     "text": [
      "`Trainer.fit` stopped: `max_epochs=100` reached.\n",
      "`predict()` was called with `n > output_chunk_length`: using auto-regression to forecast the values after `output_chunk_length` points. The model will access `(n - output_chunk_length)` future values of your `past_covariates` (relative to the first predicted time step). To hide this warning, set `show_warnings=False`.\n",
      "GPU available: True (cuda), used: True\n",
      "TPU available: False, using: 0 TPU cores\n",
      "HPU available: False, using: 0 HPUs\n",
      "LOCAL_RANK: 0 - CUDA_VISIBLE_DEVICES: [0]\n"
     ]
    },
    {
     "data": {
      "application/vnd.jupyter.widget-view+json": {
       "model_id": "a816c1725f94402c9801c7e992c277ff",
       "version_major": 2,
       "version_minor": 0
      },
      "text/plain": [
       "Predicting: |          | 0/? [00:00<?, ?it/s]"
      ]
     },
     "metadata": {},
     "output_type": "display_data"
    }
   ],
   "source": [
    "model = TransformerModel(\n",
    "    input_chunk_length=52,        # look back 52 weeks\n",
    "    output_chunk_length=1,\n",
    "    batch_size=32,\n",
    "    n_epochs=100,\n",
    "    \n",
    "    # Transformer-specific hyperparameters\n",
    "    d_model=64,                   # embedding size\n",
    "    nhead=8,                      # attention heads\n",
    "    num_encoder_layers=3,\n",
    "    num_decoder_layers=3,\n",
    "    dim_feedforward=256,          # inner‐layer size of feedforward networks\n",
    "    dropout=0.1,\n",
    "    activation=\"relu\",\n",
    "    \n",
    "    # training and optimizer\n",
    "    optimizer_kwargs={\"lr\": 1e-3},\n",
    "    lr_scheduler_kwargs={\"factor\": 0.5, \"patience\": 10},\n",
    "    nr_epochs_val_period=5,\n",
    "    \n",
    "    pl_trainer_kwargs={\n",
    "        \"gradient_clip_val\": 1.0,  # prevent exploding gradients\n",
    "        \"accelerator\": \"gpu\",      # use GPU\n",
    "        \"devices\": 1\n",
    "    },\n",
    "    random_state=42\n",
    ")\n",
    "\n",
    "# fit and forecast\n",
    "h = len(test_ts)\n",
    "model.fit(\n",
    "    train_scaled,\n",
    "    past_covariates=train_cov_s,\n",
    "    verbose=True\n",
    ")\n",
    "\n",
    "# Forecast 2017 recursively, feeding the full covariate as past_covariates\n",
    "forecast_scaled = model.predict(\n",
    "    n=h,\n",
    "    series=train_scaled,\n",
    "    past_covariates=full_cov_scaled\n",
    ")\n",
    "\n",
    "forecast = scaler.inverse_transform(forecast_scaled)"
   ]
  },
  {
   "cell_type": "code",
   "execution_count": 3,
   "id": "466b5bc4",
   "metadata": {},
   "outputs": [
    {
     "data": {
      "image/png": "[encoded data removed]",
      "text/plain": [
       "<Figure size 1200x600 with 1 Axes>"
      ]
     },
     "metadata": {},
     "output_type": "display_data"
    },
    {
     "name": "stdout",
     "output_type": "stream",
     "text": [
      "MAPE: 5.64%\n",
      "MAE:  142.80\n",
      "RMSE: 180.82\n",
      "\n"
     ]
    }
   ],
   "source": [
    "# get only the part of train_ts from 2014-01-01 onward\n",
    "train_slice = train_ts.slice(pd.Timestamp(\"2014-01-01\"), train_ts.end_time())\n",
    "\n",
    "# plot train, test, and forecast\n",
    "plt.figure(figsize=(12, 6))\n",
    "plt.plot(train_slice.time_index, train_slice.values(), label=\"Training\")\n",
    "plt.plot(test_ts.time_index, test_ts.values(), label=\"Test\", color=\"green\")\n",
    "plt.plot(forecast.time_index, forecast.values(), label=\"Forecast\", color=\"red\")\n",
    "\n",
    "plt.title(\"Transformer Forecast vs. Test Set\")\n",
    "plt.xlabel(\"Date\")\n",
    "plt.ylabel(\"S&P 500 Close\")\n",
    "plt.legend()\n",
    "plt.tight_layout()\n",
    "plt.show()\n",
    "\n",
    "print(f\"MAPE: {mape(test_ts, forecast):.2f}%\")\n",
    "print(f\"MAE:  {mae(test_ts, forecast):.2f}\")\n",
    "print(f\"RMSE: {rmse(test_ts, forecast):.2f}\\n\")"
   ]
  },
  {
   "cell_type": "markdown",
   "id": "3f704ee2",
   "metadata": {},
   "source": [
    "### Test on 2023 and 2024"
   ]
  },
  {
   "cell_type": "code",
   "execution_count": 4,
   "id": "66938696",
   "metadata": {},
   "outputs": [
    {
     "name": "stderr",
     "output_type": "stream",
     "text": [
      "C:\\Users\\USER\\AppData\\Local\\Temp\\ipykernel_55048\\1124677393.py:8: FutureWarning: A value is trying to be set on a copy of a DataFrame or Series through chained assignment using an inplace method.\n",
      "The behavior will change in pandas 3.0. This inplace method will never work because the intermediate object on which we are setting values always behaves as a copy.\n",
      "\n",
      "For example, when doing 'df[col].method(value, inplace=True)', try using 'df.method({col: value}, inplace=True)' or df[col] = df[col].method(value) instead, to perform the operation inplace on the original object.\n",
      "\n",
      "\n",
      "  df[\"Close\"].ffill(inplace=True)\n"
     ]
    }
   ],
   "source": [
    "# load data\n",
    "df = sp500.history(start=\"2014-01-01\", end=\"2024-12-31\")[[\"Close\"]].dropna()\n",
    "df.index = pd.to_datetime(df.index).tz_localize(None)\n",
    "\n",
    "# Fix missing data\n",
    "all_bd = pd.date_range(df.index.min(), df.index.max(), freq=\"B\")\n",
    "df = df.reindex(all_bd)\n",
    "df[\"Close\"].ffill(inplace=True)\n",
    "\n",
    "weekly = df[\"Close\"].resample(\"W-FRI\").last().to_frame()\n",
    "\n",
    "# convert to a darts TimeSeries\n",
    "series = TimeSeries.from_series(\n",
    "    weekly[\"Close\"],\n",
    "    fill_missing_dates=True,\n",
    "    freq=\"W\"\n",
    ")\n",
    "\n",
    "series = fill_missing_values(series) # fill missing values\n",
    "\n",
    "# Create time covariate \n",
    "time_vals = pd.Series(np.arange(len(series)), index=series.time_index)\n",
    "covariate = TimeSeries.from_series(time_vals, freq=\"W\")\n",
    "\n",
    "# split into train (up to 2012-2022) and test (2023-2024)\n",
    "train_ts_2, test_ts_2 = series.split_before(pd.Timestamp(\"2023-01-01\"))\n",
    "train_cov_2, test_cov_2 = covariate.split_before(pd.Timestamp(\"2023-01-01\"))\n",
    "\n",
    "# Scaling\n",
    "scaler = Scaler()\n",
    "train_scaled_2 = scaler.fit_transform(train_ts_2)\n",
    "\n",
    "cov_scaler = Scaler()\n",
    "train_cov_s_2 = cov_scaler.fit_transform(train_cov_2)\n",
    "test_cov_s_2 = cov_scaler.transform(test_cov_2)\n",
    "\n",
    "# create full covariate by concatenating train and test\n",
    "full_cov_scaled_2 = train_cov_s_2.concatenate(test_cov_s_2)"
   ]
  },
  {
   "cell_type": "code",
   "execution_count": 5,
   "id": "28d64dc4",
   "metadata": {},
   "outputs": [
    {
     "name": "stderr",
     "output_type": "stream",
     "text": [
      "GPU available: True (cuda), used: True\n",
      "TPU available: False, using: 0 TPU cores\n",
      "HPU available: False, using: 0 HPUs\n",
      "LOCAL_RANK: 0 - CUDA_VISIBLE_DEVICES: [0]\n",
      "\n",
      "  | Name                | Type                | Params | Mode \n",
      "--------------------------------------------------------------------\n",
      "0 | criterion           | MSELoss             | 0      | train\n",
      "1 | train_criterion     | MSELoss             | 0      | train\n",
      "2 | val_criterion       | MSELoss             | 0      | train\n",
      "3 | train_metrics       | MetricCollection    | 0      | train\n",
      "4 | val_metrics         | MetricCollection    | 0      | train\n",
      "5 | encoder             | Linear              | 192    | train\n",
      "6 | positional_encoding | _PositionalEncoding | 0      | train\n",
      "7 | transformer         | Transformer         | 350 K  | train\n",
      "8 | decoder             | Linear              | 65     | train\n",
      "--------------------------------------------------------------------\n",
      "350 K     Trainable params\n",
      "0         Non-trainable params\n",
      "350 K     Total params\n",
      "1.403     Total estimated model params size (MB)\n",
      "88        Modules in train mode\n",
      "0         Modules in eval mode\n"
     ]
    },
    {
     "data": {
      "application/vnd.jupyter.widget-view+json": {
       "model_id": "e9147dc3523847809bdf4152f03fc84d",
       "version_major": 2,
       "version_minor": 0
      },
      "text/plain": [
       "Training: |          | 0/? [00:00<?, ?it/s]"
      ]
     },
     "metadata": {},
     "output_type": "display_data"
    },
    {
     "name": "stderr",
     "output_type": "stream",
     "text": [
      "`Trainer.fit` stopped: `max_epochs=100` reached.\n",
      "`predict()` was called with `n > output_chunk_length`: using auto-regression to forecast the values after `output_chunk_length` points. The model will access `(n - output_chunk_length)` future values of your `past_covariates` (relative to the first predicted time step). To hide this warning, set `show_warnings=False`.\n",
      "GPU available: True (cuda), used: True\n",
      "TPU available: False, using: 0 TPU cores\n",
      "HPU available: False, using: 0 HPUs\n",
      "LOCAL_RANK: 0 - CUDA_VISIBLE_DEVICES: [0]\n"
     ]
    },
    {
     "data": {
      "application/vnd.jupyter.widget-view+json": {
       "model_id": "066d2e50b52146b5b74e3f3654b22aa8",
       "version_major": 2,
       "version_minor": 0
      },
      "text/plain": [
       "Predicting: |          | 0/? [00:00<?, ?it/s]"
      ]
     },
     "metadata": {},
     "output_type": "display_data"
    }
   ],
   "source": [
    "# fit and forecast\n",
    "h = len(test_ts_2)\n",
    "\n",
    "model.fit(\n",
    "    train_scaled_2,\n",
    "    past_covariates=train_cov_s_2,\n",
    "    verbose=True\n",
    ")\n",
    "\n",
    "forecast_scaled = model.predict(\n",
    "    n=h,\n",
    "    series=train_scaled_2,\n",
    "    past_covariates=full_cov_scaled_2\n",
    ")\n",
    "\n",
    "forecast_2 = scaler.inverse_transform(forecast_scaled)"
   ]
  },
  {
   "cell_type": "code",
   "execution_count": 7,
   "id": "7ca7f009",
   "metadata": {},
   "outputs": [
    {
     "data": {
      "image/png": "[encoded data removed]",
      "text/plain": [
       "<Figure size 1200x600 with 1 Axes>"
      ]
     },
     "metadata": {},
     "output_type": "display_data"
    },
    {
     "name": "stdout",
     "output_type": "stream",
     "text": [
      "MAPE: 13.49%\n",
      "MAE:  724.97\n",
      "RMSE: 984.26\n",
      "\n"
     ]
    }
   ],
   "source": [
    "# get only the part of train_ts from 2016-01-01 onward\n",
    "train_slice_2 = train_ts_2.slice(pd.Timestamp(\"2016-01-01\"), train_ts_2.end_time())\n",
    "\n",
    "# plot train, test, and forecast\n",
    "plt.figure(figsize=(12, 6))\n",
    "plt.plot(train_slice_2.time_index, train_slice_2.values(), label=\"Training\")\n",
    "plt.plot(test_ts_2.time_index, test_ts_2.values(), label=\"Test\", color=\"green\")\n",
    "plt.plot(forecast_2.time_index, forecast_2.values(), label=\"Forecast\", color=\"red\")\n",
    "\n",
    "plt.title(\"Transformer Forecast vs. Test Set\")\n",
    "plt.xlabel(\"Date\")\n",
    "plt.ylabel(\"S&P 500 Close\")\n",
    "plt.legend()\n",
    "plt.tight_layout()\n",
    "plt.show()\n",
    "\n",
    "print(f\"MAPE: {mape(test_ts_2, forecast_2):.2f}%\")\n",
    "print(f\"MAE:  {mae(test_ts_2, forecast_2):.2f}\")\n",
    "print(f\"RMSE: {rmse(test_ts_2, forecast_2):.2f}\\n\")"
   ]
  },
  {
   "cell_type": "markdown",
   "id": "553c3a47",
   "metadata": {},
   "source": [
    "### Backtesting"
   ]
  },
  {
   "cell_type": "code",
   "execution_count": 8,
   "id": "cb412b76",
   "metadata": {},
   "outputs": [
    {
     "name": "stderr",
     "output_type": "stream",
     "text": [
      "C:\\Users\\USER\\AppData\\Local\\Temp\\ipykernel_55048\\1063830691.py:5: FutureWarning: A value is trying to be set on a copy of a DataFrame or Series through chained assignment using an inplace method.\n",
      "The behavior will change in pandas 3.0. This inplace method will never work because the intermediate object on which we are setting values always behaves as a copy.\n",
      "\n",
      "For example, when doing 'df[col].method(value, inplace=True)', try using 'df.method({col: value}, inplace=True)' or df[col] = df[col].method(value) instead, to perform the operation inplace on the original object.\n",
      "\n",
      "\n",
      "  df[\"Close\"].ffill(inplace=True)\n"
     ]
    }
   ],
   "source": [
    "df = sp500.history(start=\"2016-01-01\", end=\"2024-12-31\")[[\"Close\"]].dropna()\n",
    "df.index = pd.to_datetime(df.index).tz_localize(None)\n",
    "all_bd = pd.date_range(df.index.min(), df.index.max(), freq=\"B\")\n",
    "df = df.reindex(all_bd)\n",
    "df[\"Close\"].ffill(inplace=True)\n",
    "\n",
    "# resample to weekly\n",
    "weekly = df[\"Close\"].resample(\"W-FRI\").last().to_frame()\n",
    "\n",
    "# convert to a darts TimeSeries\n",
    "series = TimeSeries.from_series(\n",
    "    weekly[\"Close\"],\n",
    "    fill_missing_dates=True,\n",
    "    freq=\"W\"\n",
    ")\n",
    "series = fill_missing_values(series) # fill missing values\n",
    "\n",
    "# Create time covariate\n",
    "time_vals = pd.Series(np.arange(len(series)), index=series.time_index)\n",
    "covariate = TimeSeries.from_series(time_vals, freq=\"W\")\n",
    "\n",
    "scaler = Scaler()  \n",
    "scaled_series = scaler.fit_transform(series)\n",
    "\n",
    "cov_scaler = Scaler()\n",
    "scaled_cov = cov_scaler.fit_transform(covariate)"
   ]
  },
  {
   "cell_type": "code",
   "execution_count": 9,
   "id": "fb5b0ca4",
   "metadata": {},
   "outputs": [
    {
     "name": "stderr",
     "output_type": "stream",
     "text": [
      "GPU available: True (cuda), used: True\n",
      "TPU available: False, using: 0 TPU cores\n",
      "HPU available: False, using: 0 HPUs\n",
      "LOCAL_RANK: 0 - CUDA_VISIBLE_DEVICES: [0]\n",
      "\n",
      "  | Name                | Type                | Params | Mode \n",
      "--------------------------------------------------------------------\n",
      "0 | criterion           | MSELoss             | 0      | train\n",
      "1 | train_criterion     | MSELoss             | 0      | train\n",
      "2 | val_criterion       | MSELoss             | 0      | train\n",
      "3 | train_metrics       | MetricCollection    | 0      | train\n",
      "4 | val_metrics         | MetricCollection    | 0      | train\n",
      "5 | encoder             | Linear              | 192    | train\n",
      "6 | positional_encoding | _PositionalEncoding | 0      | train\n",
      "7 | transformer         | Transformer         | 350 K  | train\n",
      "8 | decoder             | Linear              | 65     | train\n",
      "--------------------------------------------------------------------\n",
      "350 K     Trainable params\n",
      "0         Non-trainable params\n",
      "350 K     Total params\n",
      "1.403     Total estimated model params size (MB)\n",
      "88        Modules in train mode\n",
      "0         Modules in eval mode\n"
     ]
    },
    {
     "data": {
      "application/vnd.jupyter.widget-view+json": {
       "model_id": "a40976ddf7814461a017924ae562c762",
       "version_major": 2,
       "version_minor": 0
      },
      "text/plain": [
       "Training: |          | 0/? [00:00<?, ?it/s]"
      ]
     },
     "metadata": {},
     "output_type": "display_data"
    },
    {
     "name": "stderr",
     "output_type": "stream",
     "text": [
      "`Trainer.fit` stopped: `max_epochs=100` reached.\n"
     ]
    },
    {
     "data": {
      "text/plain": [
       "TransformerModel(output_chunk_shift=0, d_model=64, nhead=8, num_encoder_layers=3, num_decoder_layers=3, dim_feedforward=256, dropout=0.1, activation=relu, norm_type=None, custom_encoder=None, custom_decoder=None, input_chunk_length=52, output_chunk_length=1, batch_size=32, n_epochs=100, optimizer_kwargs={'lr': 0.001}, lr_scheduler_kwargs={'factor': 0.5, 'patience': 10}, nr_epochs_val_period=5, pl_trainer_kwargs={'gradient_clip_val': 1.0, 'accelerator': 'gpu', 'devices': 1}, random_state=42)"
      ]
     },
     "execution_count": 9,
     "metadata": {},
     "output_type": "execute_result"
    }
   ],
   "source": [
    "# back test period\n",
    "backtest_start = pd.Timestamp(\"2024-01-01\")\n",
    "backtest_end   = pd.Timestamp(\"2024-12-31\")\n",
    "\n",
    "model.fit(\n",
    "    scaled_series[:backtest_start],\n",
    "    past_covariates=scaled_cov[:backtest_start],\n",
    "    verbose=True\n",
    ")"
   ]
  },
  {
   "cell_type": "code",
   "execution_count": 10,
   "id": "d30e6c52",
   "metadata": {},
   "outputs": [
    {
     "name": "stderr",
     "output_type": "stream",
     "text": [
      "`enable_optimization=True` is ignored because `retrain` is not `False` or `0`. To hide this warning, set `show_warnings=False` or `enable_optimization=False`.\n"
     ]
    },
    {
     "data": {
      "application/vnd.jupyter.widget-view+json": {
       "model_id": "c89b74823e1345768ddaf55ec040cd89",
       "version_major": 2,
       "version_minor": 0
      },
      "text/plain": [
       "historical forecasts:   0%|          | 0/53 [00:00<?, ?it/s]"
      ]
     },
     "metadata": {},
     "output_type": "display_data"
    },
    {
     "name": "stderr",
     "output_type": "stream",
     "text": [
      "c:\\Users\\USER\\Desktop\\Time_series_evaluation\\.venv\\Lib\\site-packages\\torch\\nn\\modules\\transformer.py:382: UserWarning: enable_nested_tensor is True, but self.use_nested_tensor is False because encoder_layer.self_attn.batch_first was not True(use batch_first for better inference performance)\n",
      "  warnings.warn(\n",
      "GPU available: True (cuda), used: True\n",
      "TPU available: False, using: 0 TPU cores\n",
      "HPU available: False, using: 0 HPUs\n",
      "LOCAL_RANK: 0 - CUDA_VISIBLE_DEVICES: [0]\n",
      "\n",
      "  | Name                | Type                | Params | Mode \n",
      "--------------------------------------------------------------------\n",
      "0 | criterion           | MSELoss             | 0      | train\n",
      "1 | train_criterion     | MSELoss             | 0      | train\n",
      "2 | val_criterion       | MSELoss             | 0      | train\n",
      "3 | train_metrics       | MetricCollection    | 0      | train\n",
      "4 | val_metrics         | MetricCollection    | 0      | train\n",
      "5 | encoder             | Linear              | 192    | train\n",
      "6 | positional_encoding | _PositionalEncoding | 0      | train\n",
      "7 | transformer         | Transformer         | 350 K  | train\n",
      "8 | decoder             | Linear              | 65     | train\n",
      "--------------------------------------------------------------------\n",
      "350 K     Trainable params\n",
      "0         Non-trainable params\n",
      "350 K     Total params\n",
      "1.403     Total estimated model params size (MB)\n",
      "88        Modules in train mode\n",
      "0         Modules in eval mode\n"
     ]
    },
    {
     "data": {
      "application/vnd.jupyter.widget-view+json": {
       "model_id": "866e0ab5b63b4e68bfb120716c413dc1",
       "version_major": 2,
       "version_minor": 0
      },
      "text/plain": [
       "Training: |          | 0/? [00:00<?, ?it/s]"
      ]
     },
     "metadata": {},
     "output_type": "display_data"
    },
    {
     "name": "stderr",
     "output_type": "stream",
     "text": [
      "`Trainer.fit` stopped: `max_epochs=100` reached.\n",
      "GPU available: True (cuda), used: True\n",
      "TPU available: False, using: 0 TPU cores\n",
      "HPU available: False, using: 0 HPUs\n",
      "LOCAL_RANK: 0 - CUDA_VISIBLE_DEVICES: [0]\n"
     ]
    },
    {
     "data": {
      "application/vnd.jupyter.widget-view+json": {
       "model_id": "e332a5dc883a4e359199ab87f21ac137",
       "version_major": 2,
       "version_minor": 0
      },
      "text/plain": [
       "Predicting: |          | 0/? [00:00<?, ?it/s]"
      ]
     },
     "metadata": {},
     "output_type": "display_data"
    },
    {
     "data": {
      "application/vnd.jupyter.widget-view+json": {
       "model_id": "e6b9e1f2f7b04539baa0a0f5e875dcb0",
       "version_major": 2,
       "version_minor": 0
      },
      "text/plain": [
       "Generating TimeSeries:   0%|          | 0/1 [00:00<?, ?it/s]"
      ]
     },
     "metadata": {},
     "output_type": "display_data"
    },
    {
     "name": "stderr",
     "output_type": "stream",
     "text": [
      "c:\\Users\\USER\\Desktop\\Time_series_evaluation\\.venv\\Lib\\site-packages\\torch\\nn\\modules\\transformer.py:382: UserWarning: enable_nested_tensor is True, but self.use_nested_tensor is False because encoder_layer.self_attn.batch_first was not True(use batch_first for better inference performance)\n",
      "  warnings.warn(\n",
      "GPU available: True (cuda), used: True\n",
      "TPU available: False, using: 0 TPU cores\n",
      "HPU available: False, using: 0 HPUs\n",
      "LOCAL_RANK: 0 - CUDA_VISIBLE_DEVICES: [0]\n",
      "\n",
      "  | Name                | Type                | Params | Mode \n",
      "--------------------------------------------------------------------\n",
      "0 | criterion           | MSELoss             | 0      | train\n",
      "1 | train_criterion     | MSELoss             | 0      | train\n",
      "2 | val_criterion       | MSELoss             | 0      | train\n",
      "3 | train_metrics       | MetricCollection    | 0      | train\n",
      "4 | val_metrics         | MetricCollection    | 0      | train\n",
      "5 | encoder             | Linear              | 192    | train\n",
      "6 | positional_encoding | _PositionalEncoding | 0      | train\n",
      "7 | transformer         | Transformer         | 350 K  | train\n",
      "8 | decoder             | Linear              | 65     | train\n",
      "--------------------------------------------------------------------\n",
      "350 K     Trainable params\n",
      "0         Non-trainable params\n",
      "350 K     Total params\n",
      "1.403     Total estimated model params size (MB)\n",
      "88        Modules in train mode\n",
      "0         Modules in eval mode\n"
     ]
    },
    {
     "data": {
      "application/vnd.jupyter.widget-view+json": {
       "model_id": "6702830362df4534b904cb04cab55a1d",
       "version_major": 2,
       "version_minor": 0
      },
      "text/plain": [
       "Training: |          | 0/? [00:00<?, ?it/s]"
      ]
     },
     "metadata": {},
     "output_type": "display_data"
    },
    {
     "name": "stderr",
     "output_type": "stream",
     "text": [
      "`Trainer.fit` stopped: `max_epochs=100` reached.\n",
      "GPU available: True (cuda), used: True\n",
      "TPU available: False, using: 0 TPU cores\n",
      "HPU available: False, using: 0 HPUs\n",
      "LOCAL_RANK: 0 - CUDA_VISIBLE_DEVICES: [0]\n"
     ]
    },
    {
     "data": {
      "application/vnd.jupyter.widget-view+json": {
       "model_id": "1ae7e7d444b04ecd800bf31af796e8d1",
       "version_major": 2,
       "version_minor": 0
      },
      "text/plain": [
       "Predicting: |          | 0/? [00:00<?, ?it/s]"
      ]
     },
     "metadata": {},
     "output_type": "display_data"
    },
    {
     "data": {
      "application/vnd.jupyter.widget-view+json": {
       "model_id": "fe9a2d592efa40f8a8cd2c4f3ff46cda",
       "version_major": 2,
       "version_minor": 0
      },
      "text/plain": [
       "Generating TimeSeries:   0%|          | 0/1 [00:00<?, ?it/s]"
      ]
     },
     "metadata": {},
     "output_type": "display_data"
    },
    {
     "name": "stderr",
     "output_type": "stream",
     "text": [
      "c:\\Users\\USER\\Desktop\\Time_series_evaluation\\.venv\\Lib\\site-packages\\torch\\nn\\modules\\transformer.py:382: UserWarning: enable_nested_tensor is True, but self.use_nested_tensor is False because encoder_layer.self_attn.batch_first was not True(use batch_first for better inference performance)\n",
      "  warnings.warn(\n",
      "GPU available: True (cuda), used: True\n",
      "TPU available: False, using: 0 TPU cores\n",
      "HPU available: False, using: 0 HPUs\n",
      "LOCAL_RANK: 0 - CUDA_VISIBLE_DEVICES: [0]\n",
      "\n",
      "  | Name                | Type                | Params | Mode \n",
      "--------------------------------------------------------------------\n",
      "0 | criterion           | MSELoss             | 0      | train\n",
      "1 | train_criterion     | MSELoss             | 0      | train\n",
      "2 | val_criterion       | MSELoss             | 0      | train\n",
      "3 | train_metrics       | MetricCollection    | 0      | train\n",
      "4 | val_metrics         | MetricCollection    | 0      | train\n",
      "5 | encoder             | Linear              | 192    | train\n",
      "6 | positional_encoding | _PositionalEncoding | 0      | train\n",
      "7 | transformer         | Transformer         | 350 K  | train\n",
      "8 | decoder             | Linear              | 65     | train\n",
      "--------------------------------------------------------------------\n",
      "350 K     Trainable params\n",
      "0         Non-trainable params\n",
      "350 K     Total params\n",
      "1.403     Total estimated model params size (MB)\n",
      "88        Modules in train mode\n",
      "0         Modules in eval mode\n"
     ]
    },
    {
     "data": {
      "application/vnd.jupyter.widget-view+json": {
       "model_id": "4131e57606154b57ab5113bd14c275f3",
       "version_major": 2,
       "version_minor": 0
      },
      "text/plain": [
       "Training: |          | 0/? [00:00<?, ?it/s]"
      ]
     },
     "metadata": {},
     "output_type": "display_data"
    },
    {
     "name": "stderr",
     "output_type": "stream",
     "text": [
      "`Trainer.fit` stopped: `max_epochs=100` reached.\n",
      "GPU available: True (cuda), used: True\n",
      "TPU available: False, using: 0 TPU cores\n",
      "HPU available: False, using: 0 HPUs\n",
      "LOCAL_RANK: 0 - CUDA_VISIBLE_DEVICES: [0]\n"
     ]
    },
    {
     "data": {
      "application/vnd.jupyter.widget-view+json": {
       "model_id": "b3d50dd2693248029ef7438d520ebe33",
       "version_major": 2,
       "version_minor": 0
      },
      "text/plain": [
       "Predicting: |          | 0/? [00:00<?, ?it/s]"
      ]
     },
     "metadata": {},
     "output_type": "display_data"
    },
    {
     "data": {
      "application/vnd.jupyter.widget-view+json": {
       "model_id": "1c33576854694414a2f0671e364de976",
       "version_major": 2,
       "version_minor": 0
      },
      "text/plain": [
       "Generating TimeSeries:   0%|          | 0/1 [00:00<?, ?it/s]"
      ]
     },
     "metadata": {},
     "output_type": "display_data"
    },
    {
     "name": "stderr",
     "output_type": "stream",
     "text": [
      "c:\\Users\\USER\\Desktop\\Time_series_evaluation\\.venv\\Lib\\site-packages\\torch\\nn\\modules\\transformer.py:382: UserWarning: enable_nested_tensor is True, but self.use_nested_tensor is False because encoder_layer.self_attn.batch_first was not True(use batch_first for better inference performance)\n",
      "  warnings.warn(\n",
      "GPU available: True (cuda), used: True\n",
      "TPU available: False, using: 0 TPU cores\n",
      "HPU available: False, using: 0 HPUs\n",
      "LOCAL_RANK: 0 - CUDA_VISIBLE_DEVICES: [0]\n",
      "\n",
      "  | Name                | Type                | Params | Mode \n",
      "--------------------------------------------------------------------\n",
      "0 | criterion           | MSELoss             | 0      | train\n",
      "1 | train_criterion     | MSELoss             | 0      | train\n",
      "2 | val_criterion       | MSELoss             | 0      | train\n",
      "3 | train_metrics       | MetricCollection    | 0      | train\n",
      "4 | val_metrics         | MetricCollection    | 0      | train\n",
      "5 | encoder             | Linear              | 192    | train\n",
      "6 | positional_encoding | _PositionalEncoding | 0      | train\n",
      "7 | transformer         | Transformer         | 350 K  | train\n",
      "8 | decoder             | Linear              | 65     | train\n",
      "--------------------------------------------------------------------\n",
      "350 K     Trainable params\n",
      "0         Non-trainable params\n",
      "350 K     Total params\n",
      "1.403     Total estimated model params size (MB)\n",
      "88        Modules in train mode\n",
      "0         Modules in eval mode\n"
     ]
    },
    {
     "data": {
      "application/vnd.jupyter.widget-view+json": {
       "model_id": "8d6c875ac9004db29be79e18e4fe2205",
       "version_major": 2,
       "version_minor": 0
      },
      "text/plain": [
       "Training: |          | 0/? [00:00<?, ?it/s]"
      ]
     },
     "metadata": {},
     "output_type": "display_data"
    },
    {
     "name": "stderr",
     "output_type": "stream",
     "text": [
      "`Trainer.fit` stopped: `max_epochs=100` reached.\n",
      "GPU available: True (cuda), used: True\n",
      "TPU available: False, using: 0 TPU cores\n",
      "HPU available: False, using: 0 HPUs\n",
      "LOCAL_RANK: 0 - CUDA_VISIBLE_DEVICES: [0]\n"
     ]
    },
    {
     "data": {
      "application/vnd.jupyter.widget-view+json": {
       "model_id": "a6b4f0c678db474291498b46df20307b",
       "version_major": 2,
       "version_minor": 0
      },
      "text/plain": [
       "Predicting: |          | 0/? [00:00<?, ?it/s]"
      ]
     },
     "metadata": {},
     "output_type": "display_data"
    },
    {
     "data": {
      "application/vnd.jupyter.widget-view+json": {
       "model_id": "1aa108d11b084e32892ffd1fb83ffba3",
       "version_major": 2,
       "version_minor": 0
      },
      "text/plain": [
       "Generating TimeSeries:   0%|          | 0/1 [00:00<?, ?it/s]"
      ]
     },
     "metadata": {},
     "output_type": "display_data"
    },
    {
     "name": "stderr",
     "output_type": "stream",
     "text": [
      "c:\\Users\\USER\\Desktop\\Time_series_evaluation\\.venv\\Lib\\site-packages\\torch\\nn\\modules\\transformer.py:382: UserWarning: enable_nested_tensor is True, but self.use_nested_tensor is False because encoder_layer.self_attn.batch_first was not True(use batch_first for better inference performance)\n",
      "  warnings.warn(\n",
      "GPU available: True (cuda), used: True\n",
      "TPU available: False, using: 0 TPU cores\n",
      "HPU available: False, using: 0 HPUs\n",
      "LOCAL_RANK: 0 - CUDA_VISIBLE_DEVICES: [0]\n",
      "\n",
      "  | Name                | Type                | Params | Mode \n",
      "--------------------------------------------------------------------\n",
      "0 | criterion           | MSELoss             | 0      | train\n",
      "1 | train_criterion     | MSELoss             | 0      | train\n",
      "2 | val_criterion       | MSELoss             | 0      | train\n",
      "3 | train_metrics       | MetricCollection    | 0      | train\n",
      "4 | val_metrics         | MetricCollection    | 0      | train\n",
      "5 | encoder             | Linear              | 192    | train\n",
      "6 | positional_encoding | _PositionalEncoding | 0      | train\n",
      "7 | transformer         | Transformer         | 350 K  | train\n",
      "8 | decoder             | Linear              | 65     | train\n",
      "--------------------------------------------------------------------\n",
      "350 K     Trainable params\n",
      "0         Non-trainable params\n",
      "350 K     Total params\n",
      "1.403     Total estimated model params size (MB)\n",
      "88        Modules in train mode\n",
      "0         Modules in eval mode\n"
     ]
    },
    {
     "data": {
      "application/vnd.jupyter.widget-view+json": {
       "model_id": "f0784cdb435d4594b2bc4378be718cd1",
       "version_major": 2,
       "version_minor": 0
      },
      "text/plain": [
       "Training: |          | 0/? [00:00<?, ?it/s]"
      ]
     },
     "metadata": {},
     "output_type": "display_data"
    },
    {
     "name": "stderr",
     "output_type": "stream",
     "text": [
      "`Trainer.fit` stopped: `max_epochs=100` reached.\n",
      "GPU available: True (cuda), used: True\n",
      "TPU available: False, using: 0 TPU cores\n",
      "HPU available: False, using: 0 HPUs\n",
      "LOCAL_RANK: 0 - CUDA_VISIBLE_DEVICES: [0]\n"
     ]
    },
    {
     "data": {
      "application/vnd.jupyter.widget-view+json": {
       "model_id": "2c6e2cd7707a4ce3a861960b97b953c5",
       "version_major": 2,
       "version_minor": 0
      },
      "text/plain": [
       "Predicting: |          | 0/? [00:00<?, ?it/s]"
      ]
     },
     "metadata": {},
     "output_type": "display_data"
    },
    {
     "data": {
      "application/vnd.jupyter.widget-view+json": {
       "model_id": "1636fbb93929423cb5a1e8f5a58b61f8",
       "version_major": 2,
       "version_minor": 0
      },
      "text/plain": [
       "Generating TimeSeries:   0%|          | 0/1 [00:00<?, ?it/s]"
      ]
     },
     "metadata": {},
     "output_type": "display_data"
    },
    {
     "name": "stderr",
     "output_type": "stream",
     "text": [
      "c:\\Users\\USER\\Desktop\\Time_series_evaluation\\.venv\\Lib\\site-packages\\torch\\nn\\modules\\transformer.py:382: UserWarning: enable_nested_tensor is True, but self.use_nested_tensor is False because encoder_layer.self_attn.batch_first was not True(use batch_first for better inference performance)\n",
      "  warnings.warn(\n",
      "GPU available: True (cuda), used: True\n",
      "TPU available: False, using: 0 TPU cores\n",
      "HPU available: False, using: 0 HPUs\n",
      "LOCAL_RANK: 0 - CUDA_VISIBLE_DEVICES: [0]\n",
      "\n",
      "  | Name                | Type                | Params | Mode \n",
      "--------------------------------------------------------------------\n",
      "0 | criterion           | MSELoss             | 0      | train\n",
      "1 | train_criterion     | MSELoss             | 0      | train\n",
      "2 | val_criterion       | MSELoss             | 0      | train\n",
      "3 | train_metrics       | MetricCollection    | 0      | train\n",
      "4 | val_metrics         | MetricCollection    | 0      | train\n",
      "5 | encoder             | Linear              | 192    | train\n",
      "6 | positional_encoding | _PositionalEncoding | 0      | train\n",
      "7 | transformer         | Transformer         | 350 K  | train\n",
      "8 | decoder             | Linear              | 65     | train\n",
      "--------------------------------------------------------------------\n",
      "350 K     Trainable params\n",
      "0         Non-trainable params\n",
      "350 K     Total params\n",
      "1.403     Total estimated model params size (MB)\n",
      "88        Modules in train mode\n",
      "0         Modules in eval mode\n"
     ]
    },
    {
     "data": {
      "application/vnd.jupyter.widget-view+json": {
       "model_id": "2ce77e4df2ac43d1b276d3c788edb376",
       "version_major": 2,
       "version_minor": 0
      },
      "text/plain": [
       "Training: |          | 0/? [00:00<?, ?it/s]"
      ]
     },
     "metadata": {},
     "output_type": "display_data"
    },
    {
     "name": "stderr",
     "output_type": "stream",
     "text": [
      "`Trainer.fit` stopped: `max_epochs=100` reached.\n",
      "GPU available: True (cuda), used: True\n",
      "TPU available: False, using: 0 TPU cores\n",
      "HPU available: False, using: 0 HPUs\n",
      "LOCAL_RANK: 0 - CUDA_VISIBLE_DEVICES: [0]\n"
     ]
    },
    {
     "data": {
      "application/vnd.jupyter.widget-view+json": {
       "model_id": "70edb182c1a741059fc1a2c6f5b97410",
       "version_major": 2,
       "version_minor": 0
      },
      "text/plain": [
       "Predicting: |          | 0/? [00:00<?, ?it/s]"
      ]
     },
     "metadata": {},
     "output_type": "display_data"
    },
    {
     "data": {
      "application/vnd.jupyter.widget-view+json": {
       "model_id": "3c47c38e5dd94ec9b1d75605bddf5e02",
       "version_major": 2,
       "version_minor": 0
      },
      "text/plain": [
       "Generating TimeSeries:   0%|          | 0/1 [00:00<?, ?it/s]"
      ]
     },
     "metadata": {},
     "output_type": "display_data"
    },
    {
     "name": "stderr",
     "output_type": "stream",
     "text": [
      "c:\\Users\\USER\\Desktop\\Time_series_evaluation\\.venv\\Lib\\site-packages\\torch\\nn\\modules\\transformer.py:382: UserWarning: enable_nested_tensor is True, but self.use_nested_tensor is False because encoder_layer.self_attn.batch_first was not True(use batch_first for better inference performance)\n",
      "  warnings.warn(\n",
      "GPU available: True (cuda), used: True\n",
      "TPU available: False, using: 0 TPU cores\n",
      "HPU available: False, using: 0 HPUs\n",
      "LOCAL_RANK: 0 - CUDA_VISIBLE_DEVICES: [0]\n",
      "\n",
      "  | Name                | Type                | Params | Mode \n",
      "--------------------------------------------------------------------\n",
      "0 | criterion           | MSELoss             | 0      | train\n",
      "1 | train_criterion     | MSELoss             | 0      | train\n",
      "2 | val_criterion       | MSELoss             | 0      | train\n",
      "3 | train_metrics       | MetricCollection    | 0      | train\n",
      "4 | val_metrics         | MetricCollection    | 0      | train\n",
      "5 | encoder             | Linear              | 192    | train\n",
      "6 | positional_encoding | _PositionalEncoding | 0      | train\n",
      "7 | transformer         | Transformer         | 350 K  | train\n",
      "8 | decoder             | Linear              | 65     | train\n",
      "--------------------------------------------------------------------\n",
      "350 K     Trainable params\n",
      "0         Non-trainable params\n",
      "350 K     Total params\n",
      "1.403     Total estimated model params size (MB)\n",
      "88        Modules in train mode\n",
      "0         Modules in eval mode\n"
     ]
    },
    {
     "data": {
      "application/vnd.jupyter.widget-view+json": {
       "model_id": "59861d356bb4417bbd544fe7d6ca81f2",
       "version_major": 2,
       "version_minor": 0
      },
      "text/plain": [
       "Training: |          | 0/? [00:00<?, ?it/s]"
      ]
     },
     "metadata": {},
     "output_type": "display_data"
    },
    {
     "name": "stderr",
     "output_type": "stream",
     "text": [
      "`Trainer.fit` stopped: `max_epochs=100` reached.\n",
      "GPU available: True (cuda), used: True\n",
      "TPU available: False, using: 0 TPU cores\n",
      "HPU available: False, using: 0 HPUs\n",
      "LOCAL_RANK: 0 - CUDA_VISIBLE_DEVICES: [0]\n"
     ]
    },
    {
     "data": {
      "application/vnd.jupyter.widget-view+json": {
       "model_id": "5af3aab1cade452db568fd2adc8bcea0",
       "version_major": 2,
       "version_minor": 0
      },
      "text/plain": [
       "Predicting: |          | 0/? [00:00<?, ?it/s]"
      ]
     },
     "metadata": {},
     "output_type": "display_data"
    },
    {
     "data": {
      "application/vnd.jupyter.widget-view+json": {
       "model_id": "a84fac18122242ebaa50b5d7e1f0813c",
       "version_major": 2,
       "version_minor": 0
      },
      "text/plain": [
       "Generating TimeSeries:   0%|          | 0/1 [00:00<?, ?it/s]"
      ]
     },
     "metadata": {},
     "output_type": "display_data"
    },
    {
     "name": "stderr",
     "output_type": "stream",
     "text": [
      "c:\\Users\\USER\\Desktop\\Time_series_evaluation\\.venv\\Lib\\site-packages\\torch\\nn\\modules\\transformer.py:382: UserWarning: enable_nested_tensor is True, but self.use_nested_tensor is False because encoder_layer.self_attn.batch_first was not True(use batch_first for better inference performance)\n",
      "  warnings.warn(\n",
      "GPU available: True (cuda), used: True\n",
      "TPU available: False, using: 0 TPU cores\n",
      "HPU available: False, using: 0 HPUs\n",
      "LOCAL_RANK: 0 - CUDA_VISIBLE_DEVICES: [0]\n",
      "\n",
      "  | Name                | Type                | Params | Mode \n",
      "--------------------------------------------------------------------\n",
      "0 | criterion           | MSELoss             | 0      | train\n",
      "1 | train_criterion     | MSELoss             | 0      | train\n",
      "2 | val_criterion       | MSELoss             | 0      | train\n",
      "3 | train_metrics       | MetricCollection    | 0      | train\n",
      "4 | val_metrics         | MetricCollection    | 0      | train\n",
      "5 | encoder             | Linear              | 192    | train\n",
      "6 | positional_encoding | _PositionalEncoding | 0      | train\n",
      "7 | transformer         | Transformer         | 350 K  | train\n",
      "8 | decoder             | Linear              | 65     | train\n",
      "--------------------------------------------------------------------\n",
      "350 K     Trainable params\n",
      "0         Non-trainable params\n",
      "350 K     Total params\n",
      "1.403     Total estimated model params size (MB)\n",
      "88        Modules in train mode\n",
      "0         Modules in eval mode\n"
     ]
    },
    {
     "data": {
      "application/vnd.jupyter.widget-view+json": {
       "model_id": "182de02e662c464abb8ff11b64440659",
       "version_major": 2,
       "version_minor": 0
      },
      "text/plain": [
       "Training: |          | 0/? [00:00<?, ?it/s]"
      ]
     },
     "metadata": {},
     "output_type": "display_data"
    },
    {
     "name": "stderr",
     "output_type": "stream",
     "text": [
      "`Trainer.fit` stopped: `max_epochs=100` reached.\n",
      "GPU available: True (cuda), used: True\n",
      "TPU available: False, using: 0 TPU cores\n",
      "HPU available: False, using: 0 HPUs\n",
      "LOCAL_RANK: 0 - CUDA_VISIBLE_DEVICES: [0]\n"
     ]
    },
    {
     "data": {
      "application/vnd.jupyter.widget-view+json": {
       "model_id": "298904912c6d42769369b17ad6992752",
       "version_major": 2,
       "version_minor": 0
      },
      "text/plain": [
       "Predicting: |          | 0/? [00:00<?, ?it/s]"
      ]
     },
     "metadata": {},
     "output_type": "display_data"
    },
    {
     "data": {
      "application/vnd.jupyter.widget-view+json": {
       "model_id": "c3f9b0cd1ae74ce78b597c0526d6125d",
       "version_major": 2,
       "version_minor": 0
      },
      "text/plain": [
       "Generating TimeSeries:   0%|          | 0/1 [00:00<?, ?it/s]"
      ]
     },
     "metadata": {},
     "output_type": "display_data"
    },
    {
     "name": "stderr",
     "output_type": "stream",
     "text": [
      "c:\\Users\\USER\\Desktop\\Time_series_evaluation\\.venv\\Lib\\site-packages\\torch\\nn\\modules\\transformer.py:382: UserWarning: enable_nested_tensor is True, but self.use_nested_tensor is False because encoder_layer.self_attn.batch_first was not True(use batch_first for better inference performance)\n",
      "  warnings.warn(\n",
      "GPU available: True (cuda), used: True\n",
      "TPU available: False, using: 0 TPU cores\n",
      "HPU available: False, using: 0 HPUs\n",
      "LOCAL_RANK: 0 - CUDA_VISIBLE_DEVICES: [0]\n",
      "\n",
      "  | Name                | Type                | Params | Mode \n",
      "--------------------------------------------------------------------\n",
      "0 | criterion           | MSELoss             | 0      | train\n",
      "1 | train_criterion     | MSELoss             | 0      | train\n",
      "2 | val_criterion       | MSELoss             | 0      | train\n",
      "3 | train_metrics       | MetricCollection    | 0      | train\n",
      "4 | val_metrics         | MetricCollection    | 0      | train\n",
      "5 | encoder             | Linear              | 192    | train\n",
      "6 | positional_encoding | _PositionalEncoding | 0      | train\n",
      "7 | transformer         | Transformer         | 350 K  | train\n",
      "8 | decoder             | Linear              | 65     | train\n",
      "--------------------------------------------------------------------\n",
      "350 K     Trainable params\n",
      "0         Non-trainable params\n",
      "350 K     Total params\n",
      "1.403     Total estimated model params size (MB)\n",
      "88        Modules in train mode\n",
      "0         Modules in eval mode\n"
     ]
    },
    {
     "data": {
      "application/vnd.jupyter.widget-view+json": {
       "model_id": "959a2d5326d848318b4dad968d9d3ee2",
       "version_major": 2,
       "version_minor": 0
      },
      "text/plain": [
       "Training: |          | 0/? [00:00<?, ?it/s]"
      ]
     },
     "metadata": {},
     "output_type": "display_data"
    },
    {
     "name": "stderr",
     "output_type": "stream",
     "text": [
      "`Trainer.fit` stopped: `max_epochs=100` reached.\n",
      "GPU available: True (cuda), used: True\n",
      "TPU available: False, using: 0 TPU cores\n",
      "HPU available: False, using: 0 HPUs\n",
      "LOCAL_RANK: 0 - CUDA_VISIBLE_DEVICES: [0]\n"
     ]
    },
    {
     "data": {
      "application/vnd.jupyter.widget-view+json": {
       "model_id": "1c3ef225ecf84e10a435a0e213c8921a",
       "version_major": 2,
       "version_minor": 0
      },
      "text/plain": [
       "Predicting: |          | 0/? [00:00<?, ?it/s]"
      ]
     },
     "metadata": {},
     "output_type": "display_data"
    },
    {
     "data": {
      "application/vnd.jupyter.widget-view+json": {
       "model_id": "ffc943a7c8be49068878852d6ea5e089",
       "version_major": 2,
       "version_minor": 0
      },
      "text/plain": [
       "Generating TimeSeries:   0%|          | 0/1 [00:00<?, ?it/s]"
      ]
     },
     "metadata": {},
     "output_type": "display_data"
    },
    {
     "name": "stderr",
     "output_type": "stream",
     "text": [
      "c:\\Users\\USER\\Desktop\\Time_series_evaluation\\.venv\\Lib\\site-packages\\torch\\nn\\modules\\transformer.py:382: UserWarning: enable_nested_tensor is True, but self.use_nested_tensor is False because encoder_layer.self_attn.batch_first was not True(use batch_first for better inference performance)\n",
      "  warnings.warn(\n",
      "GPU available: True (cuda), used: True\n",
      "TPU available: False, using: 0 TPU cores\n",
      "HPU available: False, using: 0 HPUs\n",
      "LOCAL_RANK: 0 - CUDA_VISIBLE_DEVICES: [0]\n",
      "\n",
      "  | Name                | Type                | Params | Mode \n",
      "--------------------------------------------------------------------\n",
      "0 | criterion           | MSELoss             | 0      | train\n",
      "1 | train_criterion     | MSELoss             | 0      | train\n",
      "2 | val_criterion       | MSELoss             | 0      | train\n",
      "3 | train_metrics       | MetricCollection    | 0      | train\n",
      "4 | val_metrics         | MetricCollection    | 0      | train\n",
      "5 | encoder             | Linear              | 192    | train\n",
      "6 | positional_encoding | _PositionalEncoding | 0      | train\n",
      "7 | transformer         | Transformer         | 350 K  | train\n",
      "8 | decoder             | Linear              | 65     | train\n",
      "--------------------------------------------------------------------\n",
      "350 K     Trainable params\n",
      "0         Non-trainable params\n",
      "350 K     Total params\n",
      "1.403     Total estimated model params size (MB)\n",
      "88        Modules in train mode\n",
      "0         Modules in eval mode\n"
     ]
    },
    {
     "data": {
      "application/vnd.jupyter.widget-view+json": {
       "model_id": "00f86ebc01504689934cf1841ea5a0d0",
       "version_major": 2,
       "version_minor": 0
      },
      "text/plain": [
       "Training: |          | 0/? [00:00<?, ?it/s]"
      ]
     },
     "metadata": {},
     "output_type": "display_data"
    },
    {
     "name": "stderr",
     "output_type": "stream",
     "text": [
      "`Trainer.fit` stopped: `max_epochs=100` reached.\n",
      "GPU available: True (cuda), used: True\n",
      "TPU available: False, using: 0 TPU cores\n",
      "HPU available: False, using: 0 HPUs\n",
      "LOCAL_RANK: 0 - CUDA_VISIBLE_DEVICES: [0]\n"
     ]
    },
    {
     "data": {
      "application/vnd.jupyter.widget-view+json": {
       "model_id": "3ea38b01e4764218b667fb64e2eca0ac",
       "version_major": 2,
       "version_minor": 0
      },
      "text/plain": [
       "Predicting: |          | 0/? [00:00<?, ?it/s]"
      ]
     },
     "metadata": {},
     "output_type": "display_data"
    },
    {
     "data": {
      "application/vnd.jupyter.widget-view+json": {
       "model_id": "19dee6b87612498c899419000a89825f",
       "version_major": 2,
       "version_minor": 0
      },
      "text/plain": [
       "Generating TimeSeries:   0%|          | 0/1 [00:00<?, ?it/s]"
      ]
     },
     "metadata": {},
     "output_type": "display_data"
    },
    {
     "name": "stderr",
     "output_type": "stream",
     "text": [
      "c:\\Users\\USER\\Desktop\\Time_series_evaluation\\.venv\\Lib\\site-packages\\torch\\nn\\modules\\transformer.py:382: UserWarning: enable_nested_tensor is True, but self.use_nested_tensor is False because encoder_layer.self_attn.batch_first was not True(use batch_first for better inference performance)\n",
      "  warnings.warn(\n",
      "GPU available: True (cuda), used: True\n",
      "TPU available: False, using: 0 TPU cores\n",
      "HPU available: False, using: 0 HPUs\n",
      "LOCAL_RANK: 0 - CUDA_VISIBLE_DEVICES: [0]\n",
      "\n",
      "  | Name                | Type                | Params | Mode \n",
      "--------------------------------------------------------------------\n",
      "0 | criterion           | MSELoss             | 0      | train\n",
      "1 | train_criterion     | MSELoss             | 0      | train\n",
      "2 | val_criterion       | MSELoss             | 0      | train\n",
      "3 | train_metrics       | MetricCollection    | 0      | train\n",
      "4 | val_metrics         | MetricCollection    | 0      | train\n",
      "5 | encoder             | Linear              | 192    | train\n",
      "6 | positional_encoding | _PositionalEncoding | 0      | train\n",
      "7 | transformer         | Transformer         | 350 K  | train\n",
      "8 | decoder             | Linear              | 65     | train\n",
      "--------------------------------------------------------------------\n",
      "350 K     Trainable params\n",
      "0         Non-trainable params\n",
      "350 K     Total params\n",
      "1.403     Total estimated model params size (MB)\n",
      "88        Modules in train mode\n",
      "0         Modules in eval mode\n"
     ]
    },
    {
     "data": {
      "application/vnd.jupyter.widget-view+json": {
       "model_id": "7000c79f87564e7e8d8e8f295422d744",
       "version_major": 2,
       "version_minor": 0
      },
      "text/plain": [
       "Training: |          | 0/? [00:00<?, ?it/s]"
      ]
     },
     "metadata": {},
     "output_type": "display_data"
    },
    {
     "name": "stderr",
     "output_type": "stream",
     "text": [
      "`Trainer.fit` stopped: `max_epochs=100` reached.\n",
      "GPU available: True (cuda), used: True\n",
      "TPU available: False, using: 0 TPU cores\n",
      "HPU available: False, using: 0 HPUs\n",
      "LOCAL_RANK: 0 - CUDA_VISIBLE_DEVICES: [0]\n"
     ]
    },
    {
     "data": {
      "application/vnd.jupyter.widget-view+json": {
       "model_id": "3a92c5a0644e4e1d97e8966dc7a6b7d0",
       "version_major": 2,
       "version_minor": 0
      },
      "text/plain": [
       "Predicting: |          | 0/? [00:00<?, ?it/s]"
      ]
     },
     "metadata": {},
     "output_type": "display_data"
    },
    {
     "data": {
      "application/vnd.jupyter.widget-view+json": {
       "model_id": "039f3752eca349f1bfa0088eb42e714f",
       "version_major": 2,
       "version_minor": 0
      },
      "text/plain": [
       "Generating TimeSeries:   0%|          | 0/1 [00:00<?, ?it/s]"
      ]
     },
     "metadata": {},
     "output_type": "display_data"
    },
    {
     "name": "stderr",
     "output_type": "stream",
     "text": [
      "c:\\Users\\USER\\Desktop\\Time_series_evaluation\\.venv\\Lib\\site-packages\\torch\\nn\\modules\\transformer.py:382: UserWarning: enable_nested_tensor is True, but self.use_nested_tensor is False because encoder_layer.self_attn.batch_first was not True(use batch_first for better inference performance)\n",
      "  warnings.warn(\n",
      "GPU available: True (cuda), used: True\n",
      "TPU available: False, using: 0 TPU cores\n",
      "HPU available: False, using: 0 HPUs\n",
      "LOCAL_RANK: 0 - CUDA_VISIBLE_DEVICES: [0]\n",
      "\n",
      "  | Name                | Type                | Params | Mode \n",
      "--------------------------------------------------------------------\n",
      "0 | criterion           | MSELoss             | 0      | train\n",
      "1 | train_criterion     | MSELoss             | 0      | train\n",
      "2 | val_criterion       | MSELoss             | 0      | train\n",
      "3 | train_metrics       | MetricCollection    | 0      | train\n",
      "4 | val_metrics         | MetricCollection    | 0      | train\n",
      "5 | encoder             | Linear              | 192    | train\n",
      "6 | positional_encoding | _PositionalEncoding | 0      | train\n",
      "7 | transformer         | Transformer         | 350 K  | train\n",
      "8 | decoder             | Linear              | 65     | train\n",
      "--------------------------------------------------------------------\n",
      "350 K     Trainable params\n",
      "0         Non-trainable params\n",
      "350 K     Total params\n",
      "1.403     Total estimated model params size (MB)\n",
      "88        Modules in train mode\n",
      "0         Modules in eval mode\n"
     ]
    },
    {
     "data": {
      "application/vnd.jupyter.widget-view+json": {
       "model_id": "efad2e9ab9a8482888391129c1906298",
       "version_major": 2,
       "version_minor": 0
      },
      "text/plain": [
       "Training: |          | 0/? [00:00<?, ?it/s]"
      ]
     },
     "metadata": {},
     "output_type": "display_data"
    },
    {
     "name": "stderr",
     "output_type": "stream",
     "text": [
      "`Trainer.fit` stopped: `max_epochs=100` reached.\n",
      "GPU available: True (cuda), used: True\n",
      "TPU available: False, using: 0 TPU cores\n",
      "HPU available: False, using: 0 HPUs\n",
      "LOCAL_RANK: 0 - CUDA_VISIBLE_DEVICES: [0]\n"
     ]
    },
    {
     "data": {
      "application/vnd.jupyter.widget-view+json": {
       "model_id": "51e31b0da2c649d093bb5a33c8895c3e",
       "version_major": 2,
       "version_minor": 0
      },
      "text/plain": [
       "Predicting: |          | 0/? [00:00<?, ?it/s]"
      ]
     },
     "metadata": {},
     "output_type": "display_data"
    },
    {
     "data": {
      "application/vnd.jupyter.widget-view+json": {
       "model_id": "6d9a452686a54eb5836a53cd5ebdd6d8",
       "version_major": 2,
       "version_minor": 0
      },
      "text/plain": [
       "Generating TimeSeries:   0%|          | 0/1 [00:00<?, ?it/s]"
      ]
     },
     "metadata": {},
     "output_type": "display_data"
    },
    {
     "name": "stderr",
     "output_type": "stream",
     "text": [
      "c:\\Users\\USER\\Desktop\\Time_series_evaluation\\.venv\\Lib\\site-packages\\torch\\nn\\modules\\transformer.py:382: UserWarning: enable_nested_tensor is True, but self.use_nested_tensor is False because encoder_layer.self_attn.batch_first was not True(use batch_first for better inference performance)\n",
      "  warnings.warn(\n",
      "GPU available: True (cuda), used: True\n",
      "TPU available: False, using: 0 TPU cores\n",
      "HPU available: False, using: 0 HPUs\n",
      "LOCAL_RANK: 0 - CUDA_VISIBLE_DEVICES: [0]\n",
      "\n",
      "  | Name                | Type                | Params | Mode \n",
      "--------------------------------------------------------------------\n",
      "0 | criterion           | MSELoss             | 0      | train\n",
      "1 | train_criterion     | MSELoss             | 0      | train\n",
      "2 | val_criterion       | MSELoss             | 0      | train\n",
      "3 | train_metrics       | MetricCollection    | 0      | train\n",
      "4 | val_metrics         | MetricCollection    | 0      | train\n",
      "5 | encoder             | Linear              | 192    | train\n",
      "6 | positional_encoding | _PositionalEncoding | 0      | train\n",
      "7 | transformer         | Transformer         | 350 K  | train\n",
      "8 | decoder             | Linear              | 65     | train\n",
      "--------------------------------------------------------------------\n",
      "350 K     Trainable params\n",
      "0         Non-trainable params\n",
      "350 K     Total params\n",
      "1.403     Total estimated model params size (MB)\n",
      "88        Modules in train mode\n",
      "0         Modules in eval mode\n"
     ]
    },
    {
     "data": {
      "application/vnd.jupyter.widget-view+json": {
       "model_id": "0bf116a7bb8c46dfba8a30c617220821",
       "version_major": 2,
       "version_minor": 0
      },
      "text/plain": [
       "Training: |          | 0/? [00:00<?, ?it/s]"
      ]
     },
     "metadata": {},
     "output_type": "display_data"
    },
    {
     "name": "stderr",
     "output_type": "stream",
     "text": [
      "`Trainer.fit` stopped: `max_epochs=100` reached.\n",
      "GPU available: True (cuda), used: True\n",
      "TPU available: False, using: 0 TPU cores\n",
      "HPU available: False, using: 0 HPUs\n",
      "LOCAL_RANK: 0 - CUDA_VISIBLE_DEVICES: [0]\n"
     ]
    },
    {
     "data": {
      "application/vnd.jupyter.widget-view+json": {
       "model_id": "e6764f4c77c44cc2a97fbc712cd9aef9",
       "version_major": 2,
       "version_minor": 0
      },
      "text/plain": [
       "Predicting: |          | 0/? [00:00<?, ?it/s]"
      ]
     },
     "metadata": {},
     "output_type": "display_data"
    },
    {
     "data": {
      "application/vnd.jupyter.widget-view+json": {
       "model_id": "e61eea1d93d54771b9b37ed0629c9975",
       "version_major": 2,
       "version_minor": 0
      },
      "text/plain": [
       "Generating TimeSeries:   0%|          | 0/1 [00:00<?, ?it/s]"
      ]
     },
     "metadata": {},
     "output_type": "display_data"
    },
    {
     "name": "stderr",
     "output_type": "stream",
     "text": [
      "c:\\Users\\USER\\Desktop\\Time_series_evaluation\\.venv\\Lib\\site-packages\\torch\\nn\\modules\\transformer.py:382: UserWarning: enable_nested_tensor is True, but self.use_nested_tensor is False because encoder_layer.self_attn.batch_first was not True(use batch_first for better inference performance)\n",
      "  warnings.warn(\n",
      "GPU available: True (cuda), used: True\n",
      "TPU available: False, using: 0 TPU cores\n",
      "HPU available: False, using: 0 HPUs\n",
      "LOCAL_RANK: 0 - CUDA_VISIBLE_DEVICES: [0]\n",
      "\n",
      "  | Name                | Type                | Params | Mode \n",
      "--------------------------------------------------------------------\n",
      "0 | criterion           | MSELoss             | 0      | train\n",
      "1 | train_criterion     | MSELoss             | 0      | train\n",
      "2 | val_criterion       | MSELoss             | 0      | train\n",
      "3 | train_metrics       | MetricCollection    | 0      | train\n",
      "4 | val_metrics         | MetricCollection    | 0      | train\n",
      "5 | encoder             | Linear              | 192    | train\n",
      "6 | positional_encoding | _PositionalEncoding | 0      | train\n",
      "7 | transformer         | Transformer         | 350 K  | train\n",
      "8 | decoder             | Linear              | 65     | train\n",
      "--------------------------------------------------------------------\n",
      "350 K     Trainable params\n",
      "0         Non-trainable params\n",
      "350 K     Total params\n",
      "1.403     Total estimated model params size (MB)\n",
      "88        Modules in train mode\n",
      "0         Modules in eval mode\n"
     ]
    },
    {
     "data": {
      "application/vnd.jupyter.widget-view+json": {
       "model_id": "f26a8f50d23e49be83f9c54cb828b1ac",
       "version_major": 2,
       "version_minor": 0
      },
      "text/plain": [
       "Training: |          | 0/? [00:00<?, ?it/s]"
      ]
     },
     "metadata": {},
     "output_type": "display_data"
    },
    {
     "name": "stderr",
     "output_type": "stream",
     "text": [
      "`Trainer.fit` stopped: `max_epochs=100` reached.\n",
      "GPU available: True (cuda), used: True\n",
      "TPU available: False, using: 0 TPU cores\n",
      "HPU available: False, using: 0 HPUs\n",
      "LOCAL_RANK: 0 - CUDA_VISIBLE_DEVICES: [0]\n"
     ]
    },
    {
     "data": {
      "application/vnd.jupyter.widget-view+json": {
       "model_id": "2bc1059150a74ae9818b718de424a48e",
       "version_major": 2,
       "version_minor": 0
      },
      "text/plain": [
       "Predicting: |          | 0/? [00:00<?, ?it/s]"
      ]
     },
     "metadata": {},
     "output_type": "display_data"
    },
    {
     "data": {
      "application/vnd.jupyter.widget-view+json": {
       "model_id": "279be5c0db0a4e4da6401a2cb2916f7e",
       "version_major": 2,
       "version_minor": 0
      },
      "text/plain": [
       "Generating TimeSeries:   0%|          | 0/1 [00:00<?, ?it/s]"
      ]
     },
     "metadata": {},
     "output_type": "display_data"
    },
    {
     "name": "stderr",
     "output_type": "stream",
     "text": [
      "c:\\Users\\USER\\Desktop\\Time_series_evaluation\\.venv\\Lib\\site-packages\\torch\\nn\\modules\\transformer.py:382: UserWarning: enable_nested_tensor is True, but self.use_nested_tensor is False because encoder_layer.self_attn.batch_first was not True(use batch_first for better inference performance)\n",
      "  warnings.warn(\n",
      "GPU available: True (cuda), used: True\n",
      "TPU available: False, using: 0 TPU cores\n",
      "HPU available: False, using: 0 HPUs\n",
      "LOCAL_RANK: 0 - CUDA_VISIBLE_DEVICES: [0]\n",
      "\n",
      "  | Name                | Type                | Params | Mode \n",
      "--------------------------------------------------------------------\n",
      "0 | criterion           | MSELoss             | 0      | train\n",
      "1 | train_criterion     | MSELoss             | 0      | train\n",
      "2 | val_criterion       | MSELoss             | 0      | train\n",
      "3 | train_metrics       | MetricCollection    | 0      | train\n",
      "4 | val_metrics         | MetricCollection    | 0      | train\n",
      "5 | encoder             | Linear              | 192    | train\n",
      "6 | positional_encoding | _PositionalEncoding | 0      | train\n",
      "7 | transformer         | Transformer         | 350 K  | train\n",
      "8 | decoder             | Linear              | 65     | train\n",
      "--------------------------------------------------------------------\n",
      "350 K     Trainable params\n",
      "0         Non-trainable params\n",
      "350 K     Total params\n",
      "1.403     Total estimated model params size (MB)\n",
      "88        Modules in train mode\n",
      "0         Modules in eval mode\n"
     ]
    },
    {
     "data": {
      "application/vnd.jupyter.widget-view+json": {
       "model_id": "318feb8597f8420d9d82aa8f118b1e26",
       "version_major": 2,
       "version_minor": 0
      },
      "text/plain": [
       "Training: |          | 0/? [00:00<?, ?it/s]"
      ]
     },
     "metadata": {},
     "output_type": "display_data"
    },
    {
     "name": "stderr",
     "output_type": "stream",
     "text": [
      "`Trainer.fit` stopped: `max_epochs=100` reached.\n",
      "GPU available: True (cuda), used: True\n",
      "TPU available: False, using: 0 TPU cores\n",
      "HPU available: False, using: 0 HPUs\n",
      "LOCAL_RANK: 0 - CUDA_VISIBLE_DEVICES: [0]\n"
     ]
    },
    {
     "data": {
      "application/vnd.jupyter.widget-view+json": {
       "model_id": "a7a364b64622438a99963f1c4d894f4c",
       "version_major": 2,
       "version_minor": 0
      },
      "text/plain": [
       "Predicting: |          | 0/? [00:00<?, ?it/s]"
      ]
     },
     "metadata": {},
     "output_type": "display_data"
    },
    {
     "data": {
      "application/vnd.jupyter.widget-view+json": {
       "model_id": "5a66d40a93cf4f8f87ce1097945e8286",
       "version_major": 2,
       "version_minor": 0
      },
      "text/plain": [
       "Generating TimeSeries:   0%|          | 0/1 [00:00<?, ?it/s]"
      ]
     },
     "metadata": {},
     "output_type": "display_data"
    },
    {
     "name": "stderr",
     "output_type": "stream",
     "text": [
      "c:\\Users\\USER\\Desktop\\Time_series_evaluation\\.venv\\Lib\\site-packages\\torch\\nn\\modules\\transformer.py:382: UserWarning: enable_nested_tensor is True, but self.use_nested_tensor is False because encoder_layer.self_attn.batch_first was not True(use batch_first for better inference performance)\n",
      "  warnings.warn(\n",
      "GPU available: True (cuda), used: True\n",
      "TPU available: False, using: 0 TPU cores\n",
      "HPU available: False, using: 0 HPUs\n",
      "LOCAL_RANK: 0 - CUDA_VISIBLE_DEVICES: [0]\n",
      "\n",
      "  | Name                | Type                | Params | Mode \n",
      "--------------------------------------------------------------------\n",
      "0 | criterion           | MSELoss             | 0      | train\n",
      "1 | train_criterion     | MSELoss             | 0      | train\n",
      "2 | val_criterion       | MSELoss             | 0      | train\n",
      "3 | train_metrics       | MetricCollection    | 0      | train\n",
      "4 | val_metrics         | MetricCollection    | 0      | train\n",
      "5 | encoder             | Linear              | 192    | train\n",
      "6 | positional_encoding | _PositionalEncoding | 0      | train\n",
      "7 | transformer         | Transformer         | 350 K  | train\n",
      "8 | decoder             | Linear              | 65     | train\n",
      "--------------------------------------------------------------------\n",
      "350 K     Trainable params\n",
      "0         Non-trainable params\n",
      "350 K     Total params\n",
      "1.403     Total estimated model params size (MB)\n",
      "88        Modules in train mode\n",
      "0         Modules in eval mode\n"
     ]
    },
    {
     "data": {
      "application/vnd.jupyter.widget-view+json": {
       "model_id": "1f8c8293672f447cba86812390d77106",
       "version_major": 2,
       "version_minor": 0
      },
      "text/plain": [
       "Training: |          | 0/? [00:00<?, ?it/s]"
      ]
     },
     "metadata": {},
     "output_type": "display_data"
    },
    {
     "name": "stderr",
     "output_type": "stream",
     "text": [
      "`Trainer.fit` stopped: `max_epochs=100` reached.\n",
      "GPU available: True (cuda), used: True\n",
      "TPU available: False, using: 0 TPU cores\n",
      "HPU available: False, using: 0 HPUs\n",
      "LOCAL_RANK: 0 - CUDA_VISIBLE_DEVICES: [0]\n"
     ]
    },
    {
     "data": {
      "application/vnd.jupyter.widget-view+json": {
       "model_id": "1add0745dae24ae590cf34ed634f799d",
       "version_major": 2,
       "version_minor": 0
      },
      "text/plain": [
       "Predicting: |          | 0/? [00:00<?, ?it/s]"
      ]
     },
     "metadata": {},
     "output_type": "display_data"
    },
    {
     "data": {
      "application/vnd.jupyter.widget-view+json": {
       "model_id": "802cf57a16cd42d797edbabc98819f40",
       "version_major": 2,
       "version_minor": 0
      },
      "text/plain": [
       "Generating TimeSeries:   0%|          | 0/1 [00:00<?, ?it/s]"
      ]
     },
     "metadata": {},
     "output_type": "display_data"
    },
    {
     "name": "stderr",
     "output_type": "stream",
     "text": [
      "c:\\Users\\USER\\Desktop\\Time_series_evaluation\\.venv\\Lib\\site-packages\\torch\\nn\\modules\\transformer.py:382: UserWarning: enable_nested_tensor is True, but self.use_nested_tensor is False because encoder_layer.self_attn.batch_first was not True(use batch_first for better inference performance)\n",
      "  warnings.warn(\n",
      "GPU available: True (cuda), used: True\n",
      "TPU available: False, using: 0 TPU cores\n",
      "HPU available: False, using: 0 HPUs\n",
      "LOCAL_RANK: 0 - CUDA_VISIBLE_DEVICES: [0]\n",
      "\n",
      "  | Name                | Type                | Params | Mode \n",
      "--------------------------------------------------------------------\n",
      "0 | criterion           | MSELoss             | 0      | train\n",
      "1 | train_criterion     | MSELoss             | 0      | train\n",
      "2 | val_criterion       | MSELoss             | 0      | train\n",
      "3 | train_metrics       | MetricCollection    | 0      | train\n",
      "4 | val_metrics         | MetricCollection    | 0      | train\n",
      "5 | encoder             | Linear              | 192    | train\n",
      "6 | positional_encoding | _PositionalEncoding | 0      | train\n",
      "7 | transformer         | Transformer         | 350 K  | train\n",
      "8 | decoder             | Linear              | 65     | train\n",
      "--------------------------------------------------------------------\n",
      "350 K     Trainable params\n",
      "0         Non-trainable params\n",
      "350 K     Total params\n",
      "1.403     Total estimated model params size (MB)\n",
      "88        Modules in train mode\n",
      "0         Modules in eval mode\n"
     ]
    },
    {
     "data": {
      "application/vnd.jupyter.widget-view+json": {
       "model_id": "49f9e5f22130448599ad0fa3d2426624",
       "version_major": 2,
       "version_minor": 0
      },
      "text/plain": [
       "Training: |          | 0/? [00:00<?, ?it/s]"
      ]
     },
     "metadata": {},
     "output_type": "display_data"
    },
    {
     "name": "stderr",
     "output_type": "stream",
     "text": [
      "`Trainer.fit` stopped: `max_epochs=100` reached.\n",
      "GPU available: True (cuda), used: True\n",
      "TPU available: False, using: 0 TPU cores\n",
      "HPU available: False, using: 0 HPUs\n",
      "LOCAL_RANK: 0 - CUDA_VISIBLE_DEVICES: [0]\n"
     ]
    },
    {
     "data": {
      "application/vnd.jupyter.widget-view+json": {
       "model_id": "b71a67b5c9274a41a609de273dc16948",
       "version_major": 2,
       "version_minor": 0
      },
      "text/plain": [
       "Predicting: |          | 0/? [00:00<?, ?it/s]"
      ]
     },
     "metadata": {},
     "output_type": "display_data"
    },
    {
     "data": {
      "application/vnd.jupyter.widget-view+json": {
       "model_id": "eae2ff9189194c1690e719b8a1b90f8e",
       "version_major": 2,
       "version_minor": 0
      },
      "text/plain": [
       "Generating TimeSeries:   0%|          | 0/1 [00:00<?, ?it/s]"
      ]
     },
     "metadata": {},
     "output_type": "display_data"
    },
    {
     "name": "stderr",
     "output_type": "stream",
     "text": [
      "c:\\Users\\USER\\Desktop\\Time_series_evaluation\\.venv\\Lib\\site-packages\\torch\\nn\\modules\\transformer.py:382: UserWarning: enable_nested_tensor is True, but self.use_nested_tensor is False because encoder_layer.self_attn.batch_first was not True(use batch_first for better inference performance)\n",
      "  warnings.warn(\n",
      "GPU available: True (cuda), used: True\n",
      "TPU available: False, using: 0 TPU cores\n",
      "HPU available: False, using: 0 HPUs\n",
      "LOCAL_RANK: 0 - CUDA_VISIBLE_DEVICES: [0]\n",
      "\n",
      "  | Name                | Type                | Params | Mode \n",
      "--------------------------------------------------------------------\n",
      "0 | criterion           | MSELoss             | 0      | train\n",
      "1 | train_criterion     | MSELoss             | 0      | train\n",
      "2 | val_criterion       | MSELoss             | 0      | train\n",
      "3 | train_metrics       | MetricCollection    | 0      | train\n",
      "4 | val_metrics         | MetricCollection    | 0      | train\n",
      "5 | encoder             | Linear              | 192    | train\n",
      "6 | positional_encoding | _PositionalEncoding | 0      | train\n",
      "7 | transformer         | Transformer         | 350 K  | train\n",
      "8 | decoder             | Linear              | 65     | train\n",
      "--------------------------------------------------------------------\n",
      "350 K     Trainable params\n",
      "0         Non-trainable params\n",
      "350 K     Total params\n",
      "1.403     Total estimated model params size (MB)\n",
      "88        Modules in train mode\n",
      "0         Modules in eval mode\n"
     ]
    },
    {
     "data": {
      "application/vnd.jupyter.widget-view+json": {
       "model_id": "bc2edf455b8749f996b255be51d3f26b",
       "version_major": 2,
       "version_minor": 0
      },
      "text/plain": [
       "Training: |          | 0/? [00:00<?, ?it/s]"
      ]
     },
     "metadata": {},
     "output_type": "display_data"
    },
    {
     "name": "stderr",
     "output_type": "stream",
     "text": [
      "`Trainer.fit` stopped: `max_epochs=100` reached.\n",
      "GPU available: True (cuda), used: True\n",
      "TPU available: False, using: 0 TPU cores\n",
      "HPU available: False, using: 0 HPUs\n",
      "LOCAL_RANK: 0 - CUDA_VISIBLE_DEVICES: [0]\n"
     ]
    },
    {
     "data": {
      "application/vnd.jupyter.widget-view+json": {
       "model_id": "2038b1916cb24037a48c07dc60073857",
       "version_major": 2,
       "version_minor": 0
      },
      "text/plain": [
       "Predicting: |          | 0/? [00:00<?, ?it/s]"
      ]
     },
     "metadata": {},
     "output_type": "display_data"
    },
    {
     "data": {
      "application/vnd.jupyter.widget-view+json": {
       "model_id": "970f1b3baeb84808823622e50e3bac24",
       "version_major": 2,
       "version_minor": 0
      },
      "text/plain": [
       "Generating TimeSeries:   0%|          | 0/1 [00:00<?, ?it/s]"
      ]
     },
     "metadata": {},
     "output_type": "display_data"
    },
    {
     "name": "stderr",
     "output_type": "stream",
     "text": [
      "c:\\Users\\USER\\Desktop\\Time_series_evaluation\\.venv\\Lib\\site-packages\\torch\\nn\\modules\\transformer.py:382: UserWarning: enable_nested_tensor is True, but self.use_nested_tensor is False because encoder_layer.self_attn.batch_first was not True(use batch_first for better inference performance)\n",
      "  warnings.warn(\n",
      "GPU available: True (cuda), used: True\n",
      "TPU available: False, using: 0 TPU cores\n",
      "HPU available: False, using: 0 HPUs\n",
      "LOCAL_RANK: 0 - CUDA_VISIBLE_DEVICES: [0]\n",
      "\n",
      "  | Name                | Type                | Params | Mode \n",
      "--------------------------------------------------------------------\n",
      "0 | criterion           | MSELoss             | 0      | train\n",
      "1 | train_criterion     | MSELoss             | 0      | train\n",
      "2 | val_criterion       | MSELoss             | 0      | train\n",
      "3 | train_metrics       | MetricCollection    | 0      | train\n",
      "4 | val_metrics         | MetricCollection    | 0      | train\n",
      "5 | encoder             | Linear              | 192    | train\n",
      "6 | positional_encoding | _PositionalEncoding | 0      | train\n",
      "7 | transformer         | Transformer         | 350 K  | train\n",
      "8 | decoder             | Linear              | 65     | train\n",
      "--------------------------------------------------------------------\n",
      "350 K     Trainable params\n",
      "0         Non-trainable params\n",
      "350 K     Total params\n",
      "1.403     Total estimated model params size (MB)\n",
      "88        Modules in train mode\n",
      "0         Modules in eval mode\n"
     ]
    },
    {
     "data": {
      "application/vnd.jupyter.widget-view+json": {
       "model_id": "72821478133248f1aae2619ece81078e",
       "version_major": 2,
       "version_minor": 0
      },
      "text/plain": [
       "Training: |          | 0/? [00:00<?, ?it/s]"
      ]
     },
     "metadata": {},
     "output_type": "display_data"
    },
    {
     "name": "stderr",
     "output_type": "stream",
     "text": [
      "`Trainer.fit` stopped: `max_epochs=100` reached.\n",
      "GPU available: True (cuda), used: True\n",
      "TPU available: False, using: 0 TPU cores\n",
      "HPU available: False, using: 0 HPUs\n",
      "LOCAL_RANK: 0 - CUDA_VISIBLE_DEVICES: [0]\n"
     ]
    },
    {
     "data": {
      "application/vnd.jupyter.widget-view+json": {
       "model_id": "60a59cc0d20440168894063680da2062",
       "version_major": 2,
       "version_minor": 0
      },
      "text/plain": [
       "Predicting: |          | 0/? [00:00<?, ?it/s]"
      ]
     },
     "metadata": {},
     "output_type": "display_data"
    },
    {
     "data": {
      "application/vnd.jupyter.widget-view+json": {
       "model_id": "3a00dc27289e46c1b46723931ba5e800",
       "version_major": 2,
       "version_minor": 0
      },
      "text/plain": [
       "Generating TimeSeries:   0%|          | 0/1 [00:00<?, ?it/s]"
      ]
     },
     "metadata": {},
     "output_type": "display_data"
    },
    {
     "name": "stderr",
     "output_type": "stream",
     "text": [
      "c:\\Users\\USER\\Desktop\\Time_series_evaluation\\.venv\\Lib\\site-packages\\torch\\nn\\modules\\transformer.py:382: UserWarning: enable_nested_tensor is True, but self.use_nested_tensor is False because encoder_layer.self_attn.batch_first was not True(use batch_first for better inference performance)\n",
      "  warnings.warn(\n",
      "GPU available: True (cuda), used: True\n",
      "TPU available: False, using: 0 TPU cores\n",
      "HPU available: False, using: 0 HPUs\n",
      "LOCAL_RANK: 0 - CUDA_VISIBLE_DEVICES: [0]\n",
      "\n",
      "  | Name                | Type                | Params | Mode \n",
      "--------------------------------------------------------------------\n",
      "0 | criterion           | MSELoss             | 0      | train\n",
      "1 | train_criterion     | MSELoss             | 0      | train\n",
      "2 | val_criterion       | MSELoss             | 0      | train\n",
      "3 | train_metrics       | MetricCollection    | 0      | train\n",
      "4 | val_metrics         | MetricCollection    | 0      | train\n",
      "5 | encoder             | Linear              | 192    | train\n",
      "6 | positional_encoding | _PositionalEncoding | 0      | train\n",
      "7 | transformer         | Transformer         | 350 K  | train\n",
      "8 | decoder             | Linear              | 65     | train\n",
      "--------------------------------------------------------------------\n",
      "350 K     Trainable params\n",
      "0         Non-trainable params\n",
      "350 K     Total params\n",
      "1.403     Total estimated model params size (MB)\n",
      "88        Modules in train mode\n",
      "0         Modules in eval mode\n"
     ]
    },
    {
     "data": {
      "application/vnd.jupyter.widget-view+json": {
       "model_id": "73f450a4919642d784fef59a5a144afa",
       "version_major": 2,
       "version_minor": 0
      },
      "text/plain": [
       "Training: |          | 0/? [00:00<?, ?it/s]"
      ]
     },
     "metadata": {},
     "output_type": "display_data"
    },
    {
     "name": "stderr",
     "output_type": "stream",
     "text": [
      "`Trainer.fit` stopped: `max_epochs=100` reached.\n",
      "GPU available: True (cuda), used: True\n",
      "TPU available: False, using: 0 TPU cores\n",
      "HPU available: False, using: 0 HPUs\n",
      "LOCAL_RANK: 0 - CUDA_VISIBLE_DEVICES: [0]\n"
     ]
    },
    {
     "data": {
      "application/vnd.jupyter.widget-view+json": {
       "model_id": "57975fbf64c940e097c4c189a6a903a9",
       "version_major": 2,
       "version_minor": 0
      },
      "text/plain": [
       "Predicting: |          | 0/? [00:00<?, ?it/s]"
      ]
     },
     "metadata": {},
     "output_type": "display_data"
    },
    {
     "data": {
      "application/vnd.jupyter.widget-view+json": {
       "model_id": "8783a84967694d558900e5c4078e14eb",
       "version_major": 2,
       "version_minor": 0
      },
      "text/plain": [
       "Generating TimeSeries:   0%|          | 0/1 [00:00<?, ?it/s]"
      ]
     },
     "metadata": {},
     "output_type": "display_data"
    },
    {
     "name": "stderr",
     "output_type": "stream",
     "text": [
      "c:\\Users\\USER\\Desktop\\Time_series_evaluation\\.venv\\Lib\\site-packages\\torch\\nn\\modules\\transformer.py:382: UserWarning: enable_nested_tensor is True, but self.use_nested_tensor is False because encoder_layer.self_attn.batch_first was not True(use batch_first for better inference performance)\n",
      "  warnings.warn(\n",
      "GPU available: True (cuda), used: True\n",
      "TPU available: False, using: 0 TPU cores\n",
      "HPU available: False, using: 0 HPUs\n",
      "LOCAL_RANK: 0 - CUDA_VISIBLE_DEVICES: [0]\n",
      "\n",
      "  | Name                | Type                | Params | Mode \n",
      "--------------------------------------------------------------------\n",
      "0 | criterion           | MSELoss             | 0      | train\n",
      "1 | train_criterion     | MSELoss             | 0      | train\n",
      "2 | val_criterion       | MSELoss             | 0      | train\n",
      "3 | train_metrics       | MetricCollection    | 0      | train\n",
      "4 | val_metrics         | MetricCollection    | 0      | train\n",
      "5 | encoder             | Linear              | 192    | train\n",
      "6 | positional_encoding | _PositionalEncoding | 0      | train\n",
      "7 | transformer         | Transformer         | 350 K  | train\n",
      "8 | decoder             | Linear              | 65     | train\n",
      "--------------------------------------------------------------------\n",
      "350 K     Trainable params\n",
      "0         Non-trainable params\n",
      "350 K     Total params\n",
      "1.403     Total estimated model params size (MB)\n",
      "88        Modules in train mode\n",
      "0         Modules in eval mode\n"
     ]
    },
    {
     "data": {
      "application/vnd.jupyter.widget-view+json": {
       "model_id": "7ef5f730e5594bdbacf8d903999419f6",
       "version_major": 2,
       "version_minor": 0
      },
      "text/plain": [
       "Training: |          | 0/? [00:00<?, ?it/s]"
      ]
     },
     "metadata": {},
     "output_type": "display_data"
    },
    {
     "name": "stderr",
     "output_type": "stream",
     "text": [
      "`Trainer.fit` stopped: `max_epochs=100` reached.\n",
      "GPU available: True (cuda), used: True\n",
      "TPU available: False, using: 0 TPU cores\n",
      "HPU available: False, using: 0 HPUs\n",
      "LOCAL_RANK: 0 - CUDA_VISIBLE_DEVICES: [0]\n"
     ]
    },
    {
     "data": {
      "application/vnd.jupyter.widget-view+json": {
       "model_id": "6bf8bcd69c0f4d4a8a7d6d1c161990bb",
       "version_major": 2,
       "version_minor": 0
      },
      "text/plain": [
       "Predicting: |          | 0/? [00:00<?, ?it/s]"
      ]
     },
     "metadata": {},
     "output_type": "display_data"
    },
    {
     "data": {
      "application/vnd.jupyter.widget-view+json": {
       "model_id": "fada3446257a47d6ba3e9dd083cd3a2f",
       "version_major": 2,
       "version_minor": 0
      },
      "text/plain": [
       "Generating TimeSeries:   0%|          | 0/1 [00:00<?, ?it/s]"
      ]
     },
     "metadata": {},
     "output_type": "display_data"
    },
    {
     "name": "stderr",
     "output_type": "stream",
     "text": [
      "c:\\Users\\USER\\Desktop\\Time_series_evaluation\\.venv\\Lib\\site-packages\\torch\\nn\\modules\\transformer.py:382: UserWarning: enable_nested_tensor is True, but self.use_nested_tensor is False because encoder_layer.self_attn.batch_first was not True(use batch_first for better inference performance)\n",
      "  warnings.warn(\n",
      "GPU available: True (cuda), used: True\n",
      "TPU available: False, using: 0 TPU cores\n",
      "HPU available: False, using: 0 HPUs\n",
      "LOCAL_RANK: 0 - CUDA_VISIBLE_DEVICES: [0]\n",
      "\n",
      "  | Name                | Type                | Params | Mode \n",
      "--------------------------------------------------------------------\n",
      "0 | criterion           | MSELoss             | 0      | train\n",
      "1 | train_criterion     | MSELoss             | 0      | train\n",
      "2 | val_criterion       | MSELoss             | 0      | train\n",
      "3 | train_metrics       | MetricCollection    | 0      | train\n",
      "4 | val_metrics         | MetricCollection    | 0      | train\n",
      "5 | encoder             | Linear              | 192    | train\n",
      "6 | positional_encoding | _PositionalEncoding | 0      | train\n",
      "7 | transformer         | Transformer         | 350 K  | train\n",
      "8 | decoder             | Linear              | 65     | train\n",
      "--------------------------------------------------------------------\n",
      "350 K     Trainable params\n",
      "0         Non-trainable params\n",
      "350 K     Total params\n",
      "1.403     Total estimated model params size (MB)\n",
      "88        Modules in train mode\n",
      "0         Modules in eval mode\n"
     ]
    },
    {
     "data": {
      "application/vnd.jupyter.widget-view+json": {
       "model_id": "c7579d8baa134da58600e7084a41e7b8",
       "version_major": 2,
       "version_minor": 0
      },
      "text/plain": [
       "Training: |          | 0/? [00:00<?, ?it/s]"
      ]
     },
     "metadata": {},
     "output_type": "display_data"
    },
    {
     "name": "stderr",
     "output_type": "stream",
     "text": [
      "`Trainer.fit` stopped: `max_epochs=100` reached.\n",
      "GPU available: True (cuda), used: True\n",
      "TPU available: False, using: 0 TPU cores\n",
      "HPU available: False, using: 0 HPUs\n",
      "LOCAL_RANK: 0 - CUDA_VISIBLE_DEVICES: [0]\n"
     ]
    },
    {
     "data": {
      "application/vnd.jupyter.widget-view+json": {
       "model_id": "40358fada9a342b29595264c820b242d",
       "version_major": 2,
       "version_minor": 0
      },
      "text/plain": [
       "Predicting: |          | 0/? [00:00<?, ?it/s]"
      ]
     },
     "metadata": {},
     "output_type": "display_data"
    },
    {
     "data": {
      "application/vnd.jupyter.widget-view+json": {
       "model_id": "51c8e951893149b5ad2dd68c2ecc0972",
       "version_major": 2,
       "version_minor": 0
      },
      "text/plain": [
       "Generating TimeSeries:   0%|          | 0/1 [00:00<?, ?it/s]"
      ]
     },
     "metadata": {},
     "output_type": "display_data"
    },
    {
     "name": "stderr",
     "output_type": "stream",
     "text": [
      "c:\\Users\\USER\\Desktop\\Time_series_evaluation\\.venv\\Lib\\site-packages\\torch\\nn\\modules\\transformer.py:382: UserWarning: enable_nested_tensor is True, but self.use_nested_tensor is False because encoder_layer.self_attn.batch_first was not True(use batch_first for better inference performance)\n",
      "  warnings.warn(\n",
      "GPU available: True (cuda), used: True\n",
      "TPU available: False, using: 0 TPU cores\n",
      "HPU available: False, using: 0 HPUs\n",
      "LOCAL_RANK: 0 - CUDA_VISIBLE_DEVICES: [0]\n",
      "\n",
      "  | Name                | Type                | Params | Mode \n",
      "--------------------------------------------------------------------\n",
      "0 | criterion           | MSELoss             | 0      | train\n",
      "1 | train_criterion     | MSELoss             | 0      | train\n",
      "2 | val_criterion       | MSELoss             | 0      | train\n",
      "3 | train_metrics       | MetricCollection    | 0      | train\n",
      "4 | val_metrics         | MetricCollection    | 0      | train\n",
      "5 | encoder             | Linear              | 192    | train\n",
      "6 | positional_encoding | _PositionalEncoding | 0      | train\n",
      "7 | transformer         | Transformer         | 350 K  | train\n",
      "8 | decoder             | Linear              | 65     | train\n",
      "--------------------------------------------------------------------\n",
      "350 K     Trainable params\n",
      "0         Non-trainable params\n",
      "350 K     Total params\n",
      "1.403     Total estimated model params size (MB)\n",
      "88        Modules in train mode\n",
      "0         Modules in eval mode\n"
     ]
    },
    {
     "data": {
      "application/vnd.jupyter.widget-view+json": {
       "model_id": "2218b01d0f5c45e9a77b6c6fe8f0d29f",
       "version_major": 2,
       "version_minor": 0
      },
      "text/plain": [
       "Training: |          | 0/? [00:00<?, ?it/s]"
      ]
     },
     "metadata": {},
     "output_type": "display_data"
    },
    {
     "name": "stderr",
     "output_type": "stream",
     "text": [
      "`Trainer.fit` stopped: `max_epochs=100` reached.\n",
      "GPU available: True (cuda), used: True\n",
      "TPU available: False, using: 0 TPU cores\n",
      "HPU available: False, using: 0 HPUs\n",
      "LOCAL_RANK: 0 - CUDA_VISIBLE_DEVICES: [0]\n"
     ]
    },
    {
     "data": {
      "application/vnd.jupyter.widget-view+json": {
       "model_id": "46baf7e9f4bb45e4ace7bccf1a0751ba",
       "version_major": 2,
       "version_minor": 0
      },
      "text/plain": [
       "Predicting: |          | 0/? [00:00<?, ?it/s]"
      ]
     },
     "metadata": {},
     "output_type": "display_data"
    },
    {
     "data": {
      "application/vnd.jupyter.widget-view+json": {
       "model_id": "ff60fb60d52c4068a81962aa58b14fde",
       "version_major": 2,
       "version_minor": 0
      },
      "text/plain": [
       "Generating TimeSeries:   0%|          | 0/1 [00:00<?, ?it/s]"
      ]
     },
     "metadata": {},
     "output_type": "display_data"
    },
    {
     "name": "stderr",
     "output_type": "stream",
     "text": [
      "c:\\Users\\USER\\Desktop\\Time_series_evaluation\\.venv\\Lib\\site-packages\\torch\\nn\\modules\\transformer.py:382: UserWarning: enable_nested_tensor is True, but self.use_nested_tensor is False because encoder_layer.self_attn.batch_first was not True(use batch_first for better inference performance)\n",
      "  warnings.warn(\n",
      "GPU available: True (cuda), used: True\n",
      "TPU available: False, using: 0 TPU cores\n",
      "HPU available: False, using: 0 HPUs\n",
      "LOCAL_RANK: 0 - CUDA_VISIBLE_DEVICES: [0]\n",
      "\n",
      "  | Name                | Type                | Params | Mode \n",
      "--------------------------------------------------------------------\n",
      "0 | criterion           | MSELoss             | 0      | train\n",
      "1 | train_criterion     | MSELoss             | 0      | train\n",
      "2 | val_criterion       | MSELoss             | 0      | train\n",
      "3 | train_metrics       | MetricCollection    | 0      | train\n",
      "4 | val_metrics         | MetricCollection    | 0      | train\n",
      "5 | encoder             | Linear              | 192    | train\n",
      "6 | positional_encoding | _PositionalEncoding | 0      | train\n",
      "7 | transformer         | Transformer         | 350 K  | train\n",
      "8 | decoder             | Linear              | 65     | train\n",
      "--------------------------------------------------------------------\n",
      "350 K     Trainable params\n",
      "0         Non-trainable params\n",
      "350 K     Total params\n",
      "1.403     Total estimated model params size (MB)\n",
      "88        Modules in train mode\n",
      "0         Modules in eval mode\n"
     ]
    },
    {
     "data": {
      "application/vnd.jupyter.widget-view+json": {
       "model_id": "be8b9be5433a41999e52db2a0dc18de5",
       "version_major": 2,
       "version_minor": 0
      },
      "text/plain": [
       "Training: |          | 0/? [00:00<?, ?it/s]"
      ]
     },
     "metadata": {},
     "output_type": "display_data"
    },
    {
     "name": "stderr",
     "output_type": "stream",
     "text": [
      "`Trainer.fit` stopped: `max_epochs=100` reached.\n",
      "GPU available: True (cuda), used: True\n",
      "TPU available: False, using: 0 TPU cores\n",
      "HPU available: False, using: 0 HPUs\n",
      "LOCAL_RANK: 0 - CUDA_VISIBLE_DEVICES: [0]\n"
     ]
    },
    {
     "data": {
      "application/vnd.jupyter.widget-view+json": {
       "model_id": "627a2eb8875744829f19765424a8d550",
       "version_major": 2,
       "version_minor": 0
      },
      "text/plain": [
       "Predicting: |          | 0/? [00:00<?, ?it/s]"
      ]
     },
     "metadata": {},
     "output_type": "display_data"
    },
    {
     "data": {
      "application/vnd.jupyter.widget-view+json": {
       "model_id": "54956efffa47448daba3aadcc77f0ce0",
       "version_major": 2,
       "version_minor": 0
      },
      "text/plain": [
       "Generating TimeSeries:   0%|          | 0/1 [00:00<?, ?it/s]"
      ]
     },
     "metadata": {},
     "output_type": "display_data"
    },
    {
     "name": "stderr",
     "output_type": "stream",
     "text": [
      "c:\\Users\\USER\\Desktop\\Time_series_evaluation\\.venv\\Lib\\site-packages\\torch\\nn\\modules\\transformer.py:382: UserWarning: enable_nested_tensor is True, but self.use_nested_tensor is False because encoder_layer.self_attn.batch_first was not True(use batch_first for better inference performance)\n",
      "  warnings.warn(\n",
      "GPU available: True (cuda), used: True\n",
      "TPU available: False, using: 0 TPU cores\n",
      "HPU available: False, using: 0 HPUs\n",
      "LOCAL_RANK: 0 - CUDA_VISIBLE_DEVICES: [0]\n",
      "\n",
      "  | Name                | Type                | Params | Mode \n",
      "--------------------------------------------------------------------\n",
      "0 | criterion           | MSELoss             | 0      | train\n",
      "1 | train_criterion     | MSELoss             | 0      | train\n",
      "2 | val_criterion       | MSELoss             | 0      | train\n",
      "3 | train_metrics       | MetricCollection    | 0      | train\n",
      "4 | val_metrics         | MetricCollection    | 0      | train\n",
      "5 | encoder             | Linear              | 192    | train\n",
      "6 | positional_encoding | _PositionalEncoding | 0      | train\n",
      "7 | transformer         | Transformer         | 350 K  | train\n",
      "8 | decoder             | Linear              | 65     | train\n",
      "--------------------------------------------------------------------\n",
      "350 K     Trainable params\n",
      "0         Non-trainable params\n",
      "350 K     Total params\n",
      "1.403     Total estimated model params size (MB)\n",
      "88        Modules in train mode\n",
      "0         Modules in eval mode\n"
     ]
    },
    {
     "data": {
      "application/vnd.jupyter.widget-view+json": {
       "model_id": "694928816764432ab06b4280f69e42a8",
       "version_major": 2,
       "version_minor": 0
      },
      "text/plain": [
       "Training: |          | 0/? [00:00<?, ?it/s]"
      ]
     },
     "metadata": {},
     "output_type": "display_data"
    },
    {
     "name": "stderr",
     "output_type": "stream",
     "text": [
      "`Trainer.fit` stopped: `max_epochs=100` reached.\n",
      "GPU available: True (cuda), used: True\n",
      "TPU available: False, using: 0 TPU cores\n",
      "HPU available: False, using: 0 HPUs\n",
      "LOCAL_RANK: 0 - CUDA_VISIBLE_DEVICES: [0]\n"
     ]
    },
    {
     "data": {
      "application/vnd.jupyter.widget-view+json": {
       "model_id": "63242637c46e4750b727653be98c331b",
       "version_major": 2,
       "version_minor": 0
      },
      "text/plain": [
       "Predicting: |          | 0/? [00:00<?, ?it/s]"
      ]
     },
     "metadata": {},
     "output_type": "display_data"
    },
    {
     "data": {
      "application/vnd.jupyter.widget-view+json": {
       "model_id": "76cc94bd8a084f3598e7036997ee8b2c",
       "version_major": 2,
       "version_minor": 0
      },
      "text/plain": [
       "Generating TimeSeries:   0%|          | 0/1 [00:00<?, ?it/s]"
      ]
     },
     "metadata": {},
     "output_type": "display_data"
    },
    {
     "name": "stderr",
     "output_type": "stream",
     "text": [
      "c:\\Users\\USER\\Desktop\\Time_series_evaluation\\.venv\\Lib\\site-packages\\torch\\nn\\modules\\transformer.py:382: UserWarning: enable_nested_tensor is True, but self.use_nested_tensor is False because encoder_layer.self_attn.batch_first was not True(use batch_first for better inference performance)\n",
      "  warnings.warn(\n",
      "GPU available: True (cuda), used: True\n",
      "TPU available: False, using: 0 TPU cores\n",
      "HPU available: False, using: 0 HPUs\n",
      "LOCAL_RANK: 0 - CUDA_VISIBLE_DEVICES: [0]\n",
      "\n",
      "  | Name                | Type                | Params | Mode \n",
      "--------------------------------------------------------------------\n",
      "0 | criterion           | MSELoss             | 0      | train\n",
      "1 | train_criterion     | MSELoss             | 0      | train\n",
      "2 | val_criterion       | MSELoss             | 0      | train\n",
      "3 | train_metrics       | MetricCollection    | 0      | train\n",
      "4 | val_metrics         | MetricCollection    | 0      | train\n",
      "5 | encoder             | Linear              | 192    | train\n",
      "6 | positional_encoding | _PositionalEncoding | 0      | train\n",
      "7 | transformer         | Transformer         | 350 K  | train\n",
      "8 | decoder             | Linear              | 65     | train\n",
      "--------------------------------------------------------------------\n",
      "350 K     Trainable params\n",
      "0         Non-trainable params\n",
      "350 K     Total params\n",
      "1.403     Total estimated model params size (MB)\n",
      "88        Modules in train mode\n",
      "0         Modules in eval mode\n"
     ]
    },
    {
     "data": {
      "application/vnd.jupyter.widget-view+json": {
       "model_id": "540d894460b1411387046e46d204b0a9",
       "version_major": 2,
       "version_minor": 0
      },
      "text/plain": [
       "Training: |          | 0/? [00:00<?, ?it/s]"
      ]
     },
     "metadata": {},
     "output_type": "display_data"
    },
    {
     "name": "stderr",
     "output_type": "stream",
     "text": [
      "`Trainer.fit` stopped: `max_epochs=100` reached.\n",
      "GPU available: True (cuda), used: True\n",
      "TPU available: False, using: 0 TPU cores\n",
      "HPU available: False, using: 0 HPUs\n",
      "LOCAL_RANK: 0 - CUDA_VISIBLE_DEVICES: [0]\n"
     ]
    },
    {
     "data": {
      "application/vnd.jupyter.widget-view+json": {
       "model_id": "afc3e2a889da47bab55ba7724ae12633",
       "version_major": 2,
       "version_minor": 0
      },
      "text/plain": [
       "Predicting: |          | 0/? [00:00<?, ?it/s]"
      ]
     },
     "metadata": {},
     "output_type": "display_data"
    },
    {
     "data": {
      "application/vnd.jupyter.widget-view+json": {
       "model_id": "8802721225ca4d0c92aab93ca156e594",
       "version_major": 2,
       "version_minor": 0
      },
      "text/plain": [
       "Generating TimeSeries:   0%|          | 0/1 [00:00<?, ?it/s]"
      ]
     },
     "metadata": {},
     "output_type": "display_data"
    },
    {
     "name": "stderr",
     "output_type": "stream",
     "text": [
      "c:\\Users\\USER\\Desktop\\Time_series_evaluation\\.venv\\Lib\\site-packages\\torch\\nn\\modules\\transformer.py:382: UserWarning: enable_nested_tensor is True, but self.use_nested_tensor is False because encoder_layer.self_attn.batch_first was not True(use batch_first for better inference performance)\n",
      "  warnings.warn(\n",
      "GPU available: True (cuda), used: True\n",
      "TPU available: False, using: 0 TPU cores\n",
      "HPU available: False, using: 0 HPUs\n",
      "LOCAL_RANK: 0 - CUDA_VISIBLE_DEVICES: [0]\n",
      "\n",
      "  | Name                | Type                | Params | Mode \n",
      "--------------------------------------------------------------------\n",
      "0 | criterion           | MSELoss             | 0      | train\n",
      "1 | train_criterion     | MSELoss             | 0      | train\n",
      "2 | val_criterion       | MSELoss             | 0      | train\n",
      "3 | train_metrics       | MetricCollection    | 0      | train\n",
      "4 | val_metrics         | MetricCollection    | 0      | train\n",
      "5 | encoder             | Linear              | 192    | train\n",
      "6 | positional_encoding | _PositionalEncoding | 0      | train\n",
      "7 | transformer         | Transformer         | 350 K  | train\n",
      "8 | decoder             | Linear              | 65     | train\n",
      "--------------------------------------------------------------------\n",
      "350 K     Trainable params\n",
      "0         Non-trainable params\n",
      "350 K     Total params\n",
      "1.403     Total estimated model params size (MB)\n",
      "88        Modules in train mode\n",
      "0         Modules in eval mode\n"
     ]
    },
    {
     "data": {
      "application/vnd.jupyter.widget-view+json": {
       "model_id": "b48bf3f65c8b49cbb709da07aeb58be7",
       "version_major": 2,
       "version_minor": 0
      },
      "text/plain": [
       "Training: |          | 0/? [00:00<?, ?it/s]"
      ]
     },
     "metadata": {},
     "output_type": "display_data"
    },
    {
     "name": "stderr",
     "output_type": "stream",
     "text": [
      "`Trainer.fit` stopped: `max_epochs=100` reached.\n",
      "GPU available: True (cuda), used: True\n",
      "TPU available: False, using: 0 TPU cores\n",
      "HPU available: False, using: 0 HPUs\n",
      "LOCAL_RANK: 0 - CUDA_VISIBLE_DEVICES: [0]\n"
     ]
    },
    {
     "data": {
      "application/vnd.jupyter.widget-view+json": {
       "model_id": "fbb1b240244a450b882ea19dd2320c45",
       "version_major": 2,
       "version_minor": 0
      },
      "text/plain": [
       "Predicting: |          | 0/? [00:00<?, ?it/s]"
      ]
     },
     "metadata": {},
     "output_type": "display_data"
    },
    {
     "data": {
      "application/vnd.jupyter.widget-view+json": {
       "model_id": "de2ae9b2d0c7433dbf7b75664ecc8b7a",
       "version_major": 2,
       "version_minor": 0
      },
      "text/plain": [
       "Generating TimeSeries:   0%|          | 0/1 [00:00<?, ?it/s]"
      ]
     },
     "metadata": {},
     "output_type": "display_data"
    },
    {
     "name": "stderr",
     "output_type": "stream",
     "text": [
      "c:\\Users\\USER\\Desktop\\Time_series_evaluation\\.venv\\Lib\\site-packages\\torch\\nn\\modules\\transformer.py:382: UserWarning: enable_nested_tensor is True, but self.use_nested_tensor is False because encoder_layer.self_attn.batch_first was not True(use batch_first for better inference performance)\n",
      "  warnings.warn(\n",
      "GPU available: True (cuda), used: True\n",
      "TPU available: False, using: 0 TPU cores\n",
      "HPU available: False, using: 0 HPUs\n",
      "LOCAL_RANK: 0 - CUDA_VISIBLE_DEVICES: [0]\n",
      "\n",
      "  | Name                | Type                | Params | Mode \n",
      "--------------------------------------------------------------------\n",
      "0 | criterion           | MSELoss             | 0      | train\n",
      "1 | train_criterion     | MSELoss             | 0      | train\n",
      "2 | val_criterion       | MSELoss             | 0      | train\n",
      "3 | train_metrics       | MetricCollection    | 0      | train\n",
      "4 | val_metrics         | MetricCollection    | 0      | train\n",
      "5 | encoder             | Linear              | 192    | train\n",
      "6 | positional_encoding | _PositionalEncoding | 0      | train\n",
      "7 | transformer         | Transformer         | 350 K  | train\n",
      "8 | decoder             | Linear              | 65     | train\n",
      "--------------------------------------------------------------------\n",
      "350 K     Trainable params\n",
      "0         Non-trainable params\n",
      "350 K     Total params\n",
      "1.403     Total estimated model params size (MB)\n",
      "88        Modules in train mode\n",
      "0         Modules in eval mode\n"
     ]
    },
    {
     "data": {
      "application/vnd.jupyter.widget-view+json": {
       "model_id": "bdc45f82ded247339f16097d9c4f261c",
       "version_major": 2,
       "version_minor": 0
      },
      "text/plain": [
       "Training: |          | 0/? [00:00<?, ?it/s]"
      ]
     },
     "metadata": {},
     "output_type": "display_data"
    },
    {
     "name": "stderr",
     "output_type": "stream",
     "text": [
      "`Trainer.fit` stopped: `max_epochs=100` reached.\n",
      "GPU available: True (cuda), used: True\n",
      "TPU available: False, using: 0 TPU cores\n",
      "HPU available: False, using: 0 HPUs\n",
      "LOCAL_RANK: 0 - CUDA_VISIBLE_DEVICES: [0]\n"
     ]
    },
    {
     "data": {
      "application/vnd.jupyter.widget-view+json": {
       "model_id": "c20ae991421d4ff9b2dfe19b6cdf077a",
       "version_major": 2,
       "version_minor": 0
      },
      "text/plain": [
       "Predicting: |          | 0/? [00:00<?, ?it/s]"
      ]
     },
     "metadata": {},
     "output_type": "display_data"
    },
    {
     "data": {
      "application/vnd.jupyter.widget-view+json": {
       "model_id": "9ae85653d8504038852baf1827b184e2",
       "version_major": 2,
       "version_minor": 0
      },
      "text/plain": [
       "Generating TimeSeries:   0%|          | 0/1 [00:00<?, ?it/s]"
      ]
     },
     "metadata": {},
     "output_type": "display_data"
    },
    {
     "name": "stderr",
     "output_type": "stream",
     "text": [
      "c:\\Users\\USER\\Desktop\\Time_series_evaluation\\.venv\\Lib\\site-packages\\torch\\nn\\modules\\transformer.py:382: UserWarning: enable_nested_tensor is True, but self.use_nested_tensor is False because encoder_layer.self_attn.batch_first was not True(use batch_first for better inference performance)\n",
      "  warnings.warn(\n",
      "GPU available: True (cuda), used: True\n",
      "TPU available: False, using: 0 TPU cores\n",
      "HPU available: False, using: 0 HPUs\n",
      "LOCAL_RANK: 0 - CUDA_VISIBLE_DEVICES: [0]\n",
      "\n",
      "  | Name                | Type                | Params | Mode \n",
      "--------------------------------------------------------------------\n",
      "0 | criterion           | MSELoss             | 0      | train\n",
      "1 | train_criterion     | MSELoss             | 0      | train\n",
      "2 | val_criterion       | MSELoss             | 0      | train\n",
      "3 | train_metrics       | MetricCollection    | 0      | train\n",
      "4 | val_metrics         | MetricCollection    | 0      | train\n",
      "5 | encoder             | Linear              | 192    | train\n",
      "6 | positional_encoding | _PositionalEncoding | 0      | train\n",
      "7 | transformer         | Transformer         | 350 K  | train\n",
      "8 | decoder             | Linear              | 65     | train\n",
      "--------------------------------------------------------------------\n",
      "350 K     Trainable params\n",
      "0         Non-trainable params\n",
      "350 K     Total params\n",
      "1.403     Total estimated model params size (MB)\n",
      "88        Modules in train mode\n",
      "0         Modules in eval mode\n"
     ]
    },
    {
     "data": {
      "application/vnd.jupyter.widget-view+json": {
       "model_id": "493bc156789d4beaa64eb7a58c54e12c",
       "version_major": 2,
       "version_minor": 0
      },
      "text/plain": [
       "Training: |          | 0/? [00:00<?, ?it/s]"
      ]
     },
     "metadata": {},
     "output_type": "display_data"
    },
    {
     "name": "stderr",
     "output_type": "stream",
     "text": [
      "`Trainer.fit` stopped: `max_epochs=100` reached.\n",
      "GPU available: True (cuda), used: True\n",
      "TPU available: False, using: 0 TPU cores\n",
      "HPU available: False, using: 0 HPUs\n",
      "LOCAL_RANK: 0 - CUDA_VISIBLE_DEVICES: [0]\n"
     ]
    },
    {
     "data": {
      "application/vnd.jupyter.widget-view+json": {
       "model_id": "33734a995730455b8fca62f60689c5a4",
       "version_major": 2,
       "version_minor": 0
      },
      "text/plain": [
       "Predicting: |          | 0/? [00:00<?, ?it/s]"
      ]
     },
     "metadata": {},
     "output_type": "display_data"
    },
    {
     "data": {
      "application/vnd.jupyter.widget-view+json": {
       "model_id": "c4f65b2d9c1f47688666106b5f130339",
       "version_major": 2,
       "version_minor": 0
      },
      "text/plain": [
       "Generating TimeSeries:   0%|          | 0/1 [00:00<?, ?it/s]"
      ]
     },
     "metadata": {},
     "output_type": "display_data"
    },
    {
     "name": "stderr",
     "output_type": "stream",
     "text": [
      "c:\\Users\\USER\\Desktop\\Time_series_evaluation\\.venv\\Lib\\site-packages\\torch\\nn\\modules\\transformer.py:382: UserWarning: enable_nested_tensor is True, but self.use_nested_tensor is False because encoder_layer.self_attn.batch_first was not True(use batch_first for better inference performance)\n",
      "  warnings.warn(\n",
      "GPU available: True (cuda), used: True\n",
      "TPU available: False, using: 0 TPU cores\n",
      "HPU available: False, using: 0 HPUs\n",
      "LOCAL_RANK: 0 - CUDA_VISIBLE_DEVICES: [0]\n",
      "\n",
      "  | Name                | Type                | Params | Mode \n",
      "--------------------------------------------------------------------\n",
      "0 | criterion           | MSELoss             | 0      | train\n",
      "1 | train_criterion     | MSELoss             | 0      | train\n",
      "2 | val_criterion       | MSELoss             | 0      | train\n",
      "3 | train_metrics       | MetricCollection    | 0      | train\n",
      "4 | val_metrics         | MetricCollection    | 0      | train\n",
      "5 | encoder             | Linear              | 192    | train\n",
      "6 | positional_encoding | _PositionalEncoding | 0      | train\n",
      "7 | transformer         | Transformer         | 350 K  | train\n",
      "8 | decoder             | Linear              | 65     | train\n",
      "--------------------------------------------------------------------\n",
      "350 K     Trainable params\n",
      "0         Non-trainable params\n",
      "350 K     Total params\n",
      "1.403     Total estimated model params size (MB)\n",
      "88        Modules in train mode\n",
      "0         Modules in eval mode\n"
     ]
    },
    {
     "data": {
      "application/vnd.jupyter.widget-view+json": {
       "model_id": "54c1f7092fdd46a4a903adcae7d2c8eb",
       "version_major": 2,
       "version_minor": 0
      },
      "text/plain": [
       "Training: |          | 0/? [00:00<?, ?it/s]"
      ]
     },
     "metadata": {},
     "output_type": "display_data"
    },
    {
     "name": "stderr",
     "output_type": "stream",
     "text": [
      "`Trainer.fit` stopped: `max_epochs=100` reached.\n",
      "GPU available: True (cuda), used: True\n",
      "TPU available: False, using: 0 TPU cores\n",
      "HPU available: False, using: 0 HPUs\n",
      "LOCAL_RANK: 0 - CUDA_VISIBLE_DEVICES: [0]\n"
     ]
    },
    {
     "data": {
      "application/vnd.jupyter.widget-view+json": {
       "model_id": "8ca30f6bc6cd437e83220d8e4fe4755e",
       "version_major": 2,
       "version_minor": 0
      },
      "text/plain": [
       "Predicting: |          | 0/? [00:00<?, ?it/s]"
      ]
     },
     "metadata": {},
     "output_type": "display_data"
    },
    {
     "data": {
      "application/vnd.jupyter.widget-view+json": {
       "model_id": "46bb79a81d9743d083c31629807bac4b",
       "version_major": 2,
       "version_minor": 0
      },
      "text/plain": [
       "Generating TimeSeries:   0%|          | 0/1 [00:00<?, ?it/s]"
      ]
     },
     "metadata": {},
     "output_type": "display_data"
    },
    {
     "name": "stderr",
     "output_type": "stream",
     "text": [
      "c:\\Users\\USER\\Desktop\\Time_series_evaluation\\.venv\\Lib\\site-packages\\torch\\nn\\modules\\transformer.py:382: UserWarning: enable_nested_tensor is True, but self.use_nested_tensor is False because encoder_layer.self_attn.batch_first was not True(use batch_first for better inference performance)\n",
      "  warnings.warn(\n",
      "GPU available: True (cuda), used: True\n",
      "TPU available: False, using: 0 TPU cores\n",
      "HPU available: False, using: 0 HPUs\n",
      "LOCAL_RANK: 0 - CUDA_VISIBLE_DEVICES: [0]\n",
      "\n",
      "  | Name                | Type                | Params | Mode \n",
      "--------------------------------------------------------------------\n",
      "0 | criterion           | MSELoss             | 0      | train\n",
      "1 | train_criterion     | MSELoss             | 0      | train\n",
      "2 | val_criterion       | MSELoss             | 0      | train\n",
      "3 | train_metrics       | MetricCollection    | 0      | train\n",
      "4 | val_metrics         | MetricCollection    | 0      | train\n",
      "5 | encoder             | Linear              | 192    | train\n",
      "6 | positional_encoding | _PositionalEncoding | 0      | train\n",
      "7 | transformer         | Transformer         | 350 K  | train\n",
      "8 | decoder             | Linear              | 65     | train\n",
      "--------------------------------------------------------------------\n",
      "350 K     Trainable params\n",
      "0         Non-trainable params\n",
      "350 K     Total params\n",
      "1.403     Total estimated model params size (MB)\n",
      "88        Modules in train mode\n",
      "0         Modules in eval mode\n"
     ]
    },
    {
     "data": {
      "application/vnd.jupyter.widget-view+json": {
       "model_id": "b57c9ede03224c7cb7376bb8380dab3b",
       "version_major": 2,
       "version_minor": 0
      },
      "text/plain": [
       "Training: |          | 0/? [00:00<?, ?it/s]"
      ]
     },
     "metadata": {},
     "output_type": "display_data"
    },
    {
     "name": "stderr",
     "output_type": "stream",
     "text": [
      "`Trainer.fit` stopped: `max_epochs=100` reached.\n",
      "GPU available: True (cuda), used: True\n",
      "TPU available: False, using: 0 TPU cores\n",
      "HPU available: False, using: 0 HPUs\n",
      "LOCAL_RANK: 0 - CUDA_VISIBLE_DEVICES: [0]\n"
     ]
    },
    {
     "data": {
      "application/vnd.jupyter.widget-view+json": {
       "model_id": "905ea1ef888e490abb187f1c1dcb8615",
       "version_major": 2,
       "version_minor": 0
      },
      "text/plain": [
       "Predicting: |          | 0/? [00:00<?, ?it/s]"
      ]
     },
     "metadata": {},
     "output_type": "display_data"
    },
    {
     "data": {
      "application/vnd.jupyter.widget-view+json": {
       "model_id": "a87615fc11754c92aa86f0c0f73f844f",
       "version_major": 2,
       "version_minor": 0
      },
      "text/plain": [
       "Generating TimeSeries:   0%|          | 0/1 [00:00<?, ?it/s]"
      ]
     },
     "metadata": {},
     "output_type": "display_data"
    },
    {
     "name": "stderr",
     "output_type": "stream",
     "text": [
      "c:\\Users\\USER\\Desktop\\Time_series_evaluation\\.venv\\Lib\\site-packages\\torch\\nn\\modules\\transformer.py:382: UserWarning: enable_nested_tensor is True, but self.use_nested_tensor is False because encoder_layer.self_attn.batch_first was not True(use batch_first for better inference performance)\n",
      "  warnings.warn(\n",
      "GPU available: True (cuda), used: True\n",
      "TPU available: False, using: 0 TPU cores\n",
      "HPU available: False, using: 0 HPUs\n",
      "LOCAL_RANK: 0 - CUDA_VISIBLE_DEVICES: [0]\n",
      "\n",
      "  | Name                | Type                | Params | Mode \n",
      "--------------------------------------------------------------------\n",
      "0 | criterion           | MSELoss             | 0      | train\n",
      "1 | train_criterion     | MSELoss             | 0      | train\n",
      "2 | val_criterion       | MSELoss             | 0      | train\n",
      "3 | train_metrics       | MetricCollection    | 0      | train\n",
      "4 | val_metrics         | MetricCollection    | 0      | train\n",
      "5 | encoder             | Linear              | 192    | train\n",
      "6 | positional_encoding | _PositionalEncoding | 0      | train\n",
      "7 | transformer         | Transformer         | 350 K  | train\n",
      "8 | decoder             | Linear              | 65     | train\n",
      "--------------------------------------------------------------------\n",
      "350 K     Trainable params\n",
      "0         Non-trainable params\n",
      "350 K     Total params\n",
      "1.403     Total estimated model params size (MB)\n",
      "88        Modules in train mode\n",
      "0         Modules in eval mode\n"
     ]
    },
    {
     "data": {
      "application/vnd.jupyter.widget-view+json": {
       "model_id": "4d5cb5acf7d34bcf94ab795d63e6d8ff",
       "version_major": 2,
       "version_minor": 0
      },
      "text/plain": [
       "Training: |          | 0/? [00:00<?, ?it/s]"
      ]
     },
     "metadata": {},
     "output_type": "display_data"
    },
    {
     "name": "stderr",
     "output_type": "stream",
     "text": [
      "`Trainer.fit` stopped: `max_epochs=100` reached.\n",
      "GPU available: True (cuda), used: True\n",
      "TPU available: False, using: 0 TPU cores\n",
      "HPU available: False, using: 0 HPUs\n",
      "LOCAL_RANK: 0 - CUDA_VISIBLE_DEVICES: [0]\n"
     ]
    },
    {
     "data": {
      "application/vnd.jupyter.widget-view+json": {
       "model_id": "9fa03d03a9aa4205a118f96d586bc1f2",
       "version_major": 2,
       "version_minor": 0
      },
      "text/plain": [
       "Predicting: |          | 0/? [00:00<?, ?it/s]"
      ]
     },
     "metadata": {},
     "output_type": "display_data"
    },
    {
     "data": {
      "application/vnd.jupyter.widget-view+json": {
       "model_id": "64f0909edf804fefb099a0ce56fccdb9",
       "version_major": 2,
       "version_minor": 0
      },
      "text/plain": [
       "Generating TimeSeries:   0%|          | 0/1 [00:00<?, ?it/s]"
      ]
     },
     "metadata": {},
     "output_type": "display_data"
    },
    {
     "name": "stderr",
     "output_type": "stream",
     "text": [
      "c:\\Users\\USER\\Desktop\\Time_series_evaluation\\.venv\\Lib\\site-packages\\torch\\nn\\modules\\transformer.py:382: UserWarning: enable_nested_tensor is True, but self.use_nested_tensor is False because encoder_layer.self_attn.batch_first was not True(use batch_first for better inference performance)\n",
      "  warnings.warn(\n",
      "GPU available: True (cuda), used: True\n",
      "TPU available: False, using: 0 TPU cores\n",
      "HPU available: False, using: 0 HPUs\n",
      "LOCAL_RANK: 0 - CUDA_VISIBLE_DEVICES: [0]\n",
      "\n",
      "  | Name                | Type                | Params | Mode \n",
      "--------------------------------------------------------------------\n",
      "0 | criterion           | MSELoss             | 0      | train\n",
      "1 | train_criterion     | MSELoss             | 0      | train\n",
      "2 | val_criterion       | MSELoss             | 0      | train\n",
      "3 | train_metrics       | MetricCollection    | 0      | train\n",
      "4 | val_metrics         | MetricCollection    | 0      | train\n",
      "5 | encoder             | Linear              | 192    | train\n",
      "6 | positional_encoding | _PositionalEncoding | 0      | train\n",
      "7 | transformer         | Transformer         | 350 K  | train\n",
      "8 | decoder             | Linear              | 65     | train\n",
      "--------------------------------------------------------------------\n",
      "350 K     Trainable params\n",
      "0         Non-trainable params\n",
      "350 K     Total params\n",
      "1.403     Total estimated model params size (MB)\n",
      "88        Modules in train mode\n",
      "0         Modules in eval mode\n"
     ]
    },
    {
     "data": {
      "application/vnd.jupyter.widget-view+json": {
       "model_id": "b80ff74d55d34a9fb100496caf3f9ebb",
       "version_major": 2,
       "version_minor": 0
      },
      "text/plain": [
       "Training: |          | 0/? [00:00<?, ?it/s]"
      ]
     },
     "metadata": {},
     "output_type": "display_data"
    },
    {
     "name": "stderr",
     "output_type": "stream",
     "text": [
      "`Trainer.fit` stopped: `max_epochs=100` reached.\n",
      "GPU available: True (cuda), used: True\n",
      "TPU available: False, using: 0 TPU cores\n",
      "HPU available: False, using: 0 HPUs\n",
      "LOCAL_RANK: 0 - CUDA_VISIBLE_DEVICES: [0]\n"
     ]
    },
    {
     "data": {
      "application/vnd.jupyter.widget-view+json": {
       "model_id": "8cdc3b918ff8419481db8dc255754758",
       "version_major": 2,
       "version_minor": 0
      },
      "text/plain": [
       "Predicting: |          | 0/? [00:00<?, ?it/s]"
      ]
     },
     "metadata": {},
     "output_type": "display_data"
    },
    {
     "data": {
      "application/vnd.jupyter.widget-view+json": {
       "model_id": "efb54c6d007841f18876dc76002da614",
       "version_major": 2,
       "version_minor": 0
      },
      "text/plain": [
       "Generating TimeSeries:   0%|          | 0/1 [00:00<?, ?it/s]"
      ]
     },
     "metadata": {},
     "output_type": "display_data"
    },
    {
     "name": "stderr",
     "output_type": "stream",
     "text": [
      "c:\\Users\\USER\\Desktop\\Time_series_evaluation\\.venv\\Lib\\site-packages\\torch\\nn\\modules\\transformer.py:382: UserWarning: enable_nested_tensor is True, but self.use_nested_tensor is False because encoder_layer.self_attn.batch_first was not True(use batch_first for better inference performance)\n",
      "  warnings.warn(\n",
      "GPU available: True (cuda), used: True\n",
      "TPU available: False, using: 0 TPU cores\n",
      "HPU available: False, using: 0 HPUs\n",
      "LOCAL_RANK: 0 - CUDA_VISIBLE_DEVICES: [0]\n",
      "\n",
      "  | Name                | Type                | Params | Mode \n",
      "--------------------------------------------------------------------\n",
      "0 | criterion           | MSELoss             | 0      | train\n",
      "1 | train_criterion     | MSELoss             | 0      | train\n",
      "2 | val_criterion       | MSELoss             | 0      | train\n",
      "3 | train_metrics       | MetricCollection    | 0      | train\n",
      "4 | val_metrics         | MetricCollection    | 0      | train\n",
      "5 | encoder             | Linear              | 192    | train\n",
      "6 | positional_encoding | _PositionalEncoding | 0      | train\n",
      "7 | transformer         | Transformer         | 350 K  | train\n",
      "8 | decoder             | Linear              | 65     | train\n",
      "--------------------------------------------------------------------\n",
      "350 K     Trainable params\n",
      "0         Non-trainable params\n",
      "350 K     Total params\n",
      "1.403     Total estimated model params size (MB)\n",
      "88        Modules in train mode\n",
      "0         Modules in eval mode\n"
     ]
    },
    {
     "data": {
      "application/vnd.jupyter.widget-view+json": {
       "model_id": "201166d2e3594584bbc2b8d66560f5e3",
       "version_major": 2,
       "version_minor": 0
      },
      "text/plain": [
       "Training: |          | 0/? [00:00<?, ?it/s]"
      ]
     },
     "metadata": {},
     "output_type": "display_data"
    },
    {
     "name": "stderr",
     "output_type": "stream",
     "text": [
      "`Trainer.fit` stopped: `max_epochs=100` reached.\n",
      "GPU available: True (cuda), used: True\n",
      "TPU available: False, using: 0 TPU cores\n",
      "HPU available: False, using: 0 HPUs\n",
      "LOCAL_RANK: 0 - CUDA_VISIBLE_DEVICES: [0]\n"
     ]
    },
    {
     "data": {
      "application/vnd.jupyter.widget-view+json": {
       "model_id": "53cf85fc900145b29174afa0d0108dd0",
       "version_major": 2,
       "version_minor": 0
      },
      "text/plain": [
       "Predicting: |          | 0/? [00:00<?, ?it/s]"
      ]
     },
     "metadata": {},
     "output_type": "display_data"
    },
    {
     "data": {
      "application/vnd.jupyter.widget-view+json": {
       "model_id": "995d8019d7c0497cb27d26086a4b5dee",
       "version_major": 2,
       "version_minor": 0
      },
      "text/plain": [
       "Generating TimeSeries:   0%|          | 0/1 [00:00<?, ?it/s]"
      ]
     },
     "metadata": {},
     "output_type": "display_data"
    },
    {
     "name": "stderr",
     "output_type": "stream",
     "text": [
      "c:\\Users\\USER\\Desktop\\Time_series_evaluation\\.venv\\Lib\\site-packages\\torch\\nn\\modules\\transformer.py:382: UserWarning: enable_nested_tensor is True, but self.use_nested_tensor is False because encoder_layer.self_attn.batch_first was not True(use batch_first for better inference performance)\n",
      "  warnings.warn(\n",
      "GPU available: True (cuda), used: True\n",
      "TPU available: False, using: 0 TPU cores\n",
      "HPU available: False, using: 0 HPUs\n",
      "LOCAL_RANK: 0 - CUDA_VISIBLE_DEVICES: [0]\n",
      "\n",
      "  | Name                | Type                | Params | Mode \n",
      "--------------------------------------------------------------------\n",
      "0 | criterion           | MSELoss             | 0      | train\n",
      "1 | train_criterion     | MSELoss             | 0      | train\n",
      "2 | val_criterion       | MSELoss             | 0      | train\n",
      "3 | train_metrics       | MetricCollection    | 0      | train\n",
      "4 | val_metrics         | MetricCollection    | 0      | train\n",
      "5 | encoder             | Linear              | 192    | train\n",
      "6 | positional_encoding | _PositionalEncoding | 0      | train\n",
      "7 | transformer         | Transformer         | 350 K  | train\n",
      "8 | decoder             | Linear              | 65     | train\n",
      "--------------------------------------------------------------------\n",
      "350 K     Trainable params\n",
      "0         Non-trainable params\n",
      "350 K     Total params\n",
      "1.403     Total estimated model params size (MB)\n",
      "88        Modules in train mode\n",
      "0         Modules in eval mode\n"
     ]
    },
    {
     "data": {
      "application/vnd.jupyter.widget-view+json": {
       "model_id": "1ebffd17eb994bdcbb3044d0adcd9694",
       "version_major": 2,
       "version_minor": 0
      },
      "text/plain": [
       "Training: |          | 0/? [00:00<?, ?it/s]"
      ]
     },
     "metadata": {},
     "output_type": "display_data"
    },
    {
     "name": "stderr",
     "output_type": "stream",
     "text": [
      "`Trainer.fit` stopped: `max_epochs=100` reached.\n",
      "GPU available: True (cuda), used: True\n",
      "TPU available: False, using: 0 TPU cores\n",
      "HPU available: False, using: 0 HPUs\n",
      "LOCAL_RANK: 0 - CUDA_VISIBLE_DEVICES: [0]\n"
     ]
    },
    {
     "data": {
      "application/vnd.jupyter.widget-view+json": {
       "model_id": "4d4b30777eb44092852fc08af4bad646",
       "version_major": 2,
       "version_minor": 0
      },
      "text/plain": [
       "Predicting: |          | 0/? [00:00<?, ?it/s]"
      ]
     },
     "metadata": {},
     "output_type": "display_data"
    },
    {
     "data": {
      "application/vnd.jupyter.widget-view+json": {
       "model_id": "f033096079854a15b077da23d9588ebf",
       "version_major": 2,
       "version_minor": 0
      },
      "text/plain": [
       "Generating TimeSeries:   0%|          | 0/1 [00:00<?, ?it/s]"
      ]
     },
     "metadata": {},
     "output_type": "display_data"
    },
    {
     "name": "stderr",
     "output_type": "stream",
     "text": [
      "c:\\Users\\USER\\Desktop\\Time_series_evaluation\\.venv\\Lib\\site-packages\\torch\\nn\\modules\\transformer.py:382: UserWarning: enable_nested_tensor is True, but self.use_nested_tensor is False because encoder_layer.self_attn.batch_first was not True(use batch_first for better inference performance)\n",
      "  warnings.warn(\n",
      "GPU available: True (cuda), used: True\n",
      "TPU available: False, using: 0 TPU cores\n",
      "HPU available: False, using: 0 HPUs\n",
      "LOCAL_RANK: 0 - CUDA_VISIBLE_DEVICES: [0]\n",
      "\n",
      "  | Name                | Type                | Params | Mode \n",
      "--------------------------------------------------------------------\n",
      "0 | criterion           | MSELoss             | 0      | train\n",
      "1 | train_criterion     | MSELoss             | 0      | train\n",
      "2 | val_criterion       | MSELoss             | 0      | train\n",
      "3 | train_metrics       | MetricCollection    | 0      | train\n",
      "4 | val_metrics         | MetricCollection    | 0      | train\n",
      "5 | encoder             | Linear              | 192    | train\n",
      "6 | positional_encoding | _PositionalEncoding | 0      | train\n",
      "7 | transformer         | Transformer         | 350 K  | train\n",
      "8 | decoder             | Linear              | 65     | train\n",
      "--------------------------------------------------------------------\n",
      "350 K     Trainable params\n",
      "0         Non-trainable params\n",
      "350 K     Total params\n",
      "1.403     Total estimated model params size (MB)\n",
      "88        Modules in train mode\n",
      "0         Modules in eval mode\n"
     ]
    },
    {
     "data": {
      "application/vnd.jupyter.widget-view+json": {
       "model_id": "12732e30c7264ba4b66098410a746b4e",
       "version_major": 2,
       "version_minor": 0
      },
      "text/plain": [
       "Training: |          | 0/? [00:00<?, ?it/s]"
      ]
     },
     "metadata": {},
     "output_type": "display_data"
    },
    {
     "name": "stderr",
     "output_type": "stream",
     "text": [
      "`Trainer.fit` stopped: `max_epochs=100` reached.\n",
      "GPU available: True (cuda), used: True\n",
      "TPU available: False, using: 0 TPU cores\n",
      "HPU available: False, using: 0 HPUs\n",
      "LOCAL_RANK: 0 - CUDA_VISIBLE_DEVICES: [0]\n"
     ]
    },
    {
     "data": {
      "application/vnd.jupyter.widget-view+json": {
       "model_id": "45cc7f918443434cb9c8c2871a301b23",
       "version_major": 2,
       "version_minor": 0
      },
      "text/plain": [
       "Predicting: |          | 0/? [00:00<?, ?it/s]"
      ]
     },
     "metadata": {},
     "output_type": "display_data"
    },
    {
     "data": {
      "application/vnd.jupyter.widget-view+json": {
       "model_id": "201b52054dca42b2ad823c4cc1f2d1ed",
       "version_major": 2,
       "version_minor": 0
      },
      "text/plain": [
       "Generating TimeSeries:   0%|          | 0/1 [00:00<?, ?it/s]"
      ]
     },
     "metadata": {},
     "output_type": "display_data"
    },
    {
     "name": "stderr",
     "output_type": "stream",
     "text": [
      "c:\\Users\\USER\\Desktop\\Time_series_evaluation\\.venv\\Lib\\site-packages\\torch\\nn\\modules\\transformer.py:382: UserWarning: enable_nested_tensor is True, but self.use_nested_tensor is False because encoder_layer.self_attn.batch_first was not True(use batch_first for better inference performance)\n",
      "  warnings.warn(\n",
      "GPU available: True (cuda), used: True\n",
      "TPU available: False, using: 0 TPU cores\n",
      "HPU available: False, using: 0 HPUs\n",
      "LOCAL_RANK: 0 - CUDA_VISIBLE_DEVICES: [0]\n",
      "\n",
      "  | Name                | Type                | Params | Mode \n",
      "--------------------------------------------------------------------\n",
      "0 | criterion           | MSELoss             | 0      | train\n",
      "1 | train_criterion     | MSELoss             | 0      | train\n",
      "2 | val_criterion       | MSELoss             | 0      | train\n",
      "3 | train_metrics       | MetricCollection    | 0      | train\n",
      "4 | val_metrics         | MetricCollection    | 0      | train\n",
      "5 | encoder             | Linear              | 192    | train\n",
      "6 | positional_encoding | _PositionalEncoding | 0      | train\n",
      "7 | transformer         | Transformer         | 350 K  | train\n",
      "8 | decoder             | Linear              | 65     | train\n",
      "--------------------------------------------------------------------\n",
      "350 K     Trainable params\n",
      "0         Non-trainable params\n",
      "350 K     Total params\n",
      "1.403     Total estimated model params size (MB)\n",
      "88        Modules in train mode\n",
      "0         Modules in eval mode\n"
     ]
    },
    {
     "data": {
      "application/vnd.jupyter.widget-view+json": {
       "model_id": "5fdc2649f11b4999be56ab4fc7411b73",
       "version_major": 2,
       "version_minor": 0
      },
      "text/plain": [
       "Training: |          | 0/? [00:00<?, ?it/s]"
      ]
     },
     "metadata": {},
     "output_type": "display_data"
    },
    {
     "name": "stderr",
     "output_type": "stream",
     "text": [
      "`Trainer.fit` stopped: `max_epochs=100` reached.\n",
      "GPU available: True (cuda), used: True\n",
      "TPU available: False, using: 0 TPU cores\n",
      "HPU available: False, using: 0 HPUs\n",
      "LOCAL_RANK: 0 - CUDA_VISIBLE_DEVICES: [0]\n"
     ]
    },
    {
     "data": {
      "application/vnd.jupyter.widget-view+json": {
       "model_id": "bb02d57dc7544196924bee47b670836b",
       "version_major": 2,
       "version_minor": 0
      },
      "text/plain": [
       "Predicting: |          | 0/? [00:00<?, ?it/s]"
      ]
     },
     "metadata": {},
     "output_type": "display_data"
    },
    {
     "data": {
      "application/vnd.jupyter.widget-view+json": {
       "model_id": "5600c61a4c3f4ff4a69697318ad49228",
       "version_major": 2,
       "version_minor": 0
      },
      "text/plain": [
       "Generating TimeSeries:   0%|          | 0/1 [00:00<?, ?it/s]"
      ]
     },
     "metadata": {},
     "output_type": "display_data"
    },
    {
     "name": "stderr",
     "output_type": "stream",
     "text": [
      "c:\\Users\\USER\\Desktop\\Time_series_evaluation\\.venv\\Lib\\site-packages\\torch\\nn\\modules\\transformer.py:382: UserWarning: enable_nested_tensor is True, but self.use_nested_tensor is False because encoder_layer.self_attn.batch_first was not True(use batch_first for better inference performance)\n",
      "  warnings.warn(\n",
      "GPU available: True (cuda), used: True\n",
      "TPU available: False, using: 0 TPU cores\n",
      "HPU available: False, using: 0 HPUs\n",
      "LOCAL_RANK: 0 - CUDA_VISIBLE_DEVICES: [0]\n",
      "\n",
      "  | Name                | Type                | Params | Mode \n",
      "--------------------------------------------------------------------\n",
      "0 | criterion           | MSELoss             | 0      | train\n",
      "1 | train_criterion     | MSELoss             | 0      | train\n",
      "2 | val_criterion       | MSELoss             | 0      | train\n",
      "3 | train_metrics       | MetricCollection    | 0      | train\n",
      "4 | val_metrics         | MetricCollection    | 0      | train\n",
      "5 | encoder             | Linear              | 192    | train\n",
      "6 | positional_encoding | _PositionalEncoding | 0      | train\n",
      "7 | transformer         | Transformer         | 350 K  | train\n",
      "8 | decoder             | Linear              | 65     | train\n",
      "--------------------------------------------------------------------\n",
      "350 K     Trainable params\n",
      "0         Non-trainable params\n",
      "350 K     Total params\n",
      "1.403     Total estimated model params size (MB)\n",
      "88        Modules in train mode\n",
      "0         Modules in eval mode\n"
     ]
    },
    {
     "data": {
      "application/vnd.jupyter.widget-view+json": {
       "model_id": "dd6bf8b2adfc49f7ad58c7b4a07974fa",
       "version_major": 2,
       "version_minor": 0
      },
      "text/plain": [
       "Training: |          | 0/? [00:00<?, ?it/s]"
      ]
     },
     "metadata": {},
     "output_type": "display_data"
    },
    {
     "name": "stderr",
     "output_type": "stream",
     "text": [
      "`Trainer.fit` stopped: `max_epochs=100` reached.\n",
      "GPU available: True (cuda), used: True\n",
      "TPU available: False, using: 0 TPU cores\n",
      "HPU available: False, using: 0 HPUs\n",
      "LOCAL_RANK: 0 - CUDA_VISIBLE_DEVICES: [0]\n"
     ]
    },
    {
     "data": {
      "application/vnd.jupyter.widget-view+json": {
       "model_id": "33d42ea5e8aa44d79a03831784854665",
       "version_major": 2,
       "version_minor": 0
      },
      "text/plain": [
       "Predicting: |          | 0/? [00:00<?, ?it/s]"
      ]
     },
     "metadata": {},
     "output_type": "display_data"
    },
    {
     "data": {
      "application/vnd.jupyter.widget-view+json": {
       "model_id": "326059bffea74eecba4b36a3f7dd0e52",
       "version_major": 2,
       "version_minor": 0
      },
      "text/plain": [
       "Generating TimeSeries:   0%|          | 0/1 [00:00<?, ?it/s]"
      ]
     },
     "metadata": {},
     "output_type": "display_data"
    },
    {
     "name": "stderr",
     "output_type": "stream",
     "text": [
      "c:\\Users\\USER\\Desktop\\Time_series_evaluation\\.venv\\Lib\\site-packages\\torch\\nn\\modules\\transformer.py:382: UserWarning: enable_nested_tensor is True, but self.use_nested_tensor is False because encoder_layer.self_attn.batch_first was not True(use batch_first for better inference performance)\n",
      "  warnings.warn(\n",
      "GPU available: True (cuda), used: True\n",
      "TPU available: False, using: 0 TPU cores\n",
      "HPU available: False, using: 0 HPUs\n",
      "LOCAL_RANK: 0 - CUDA_VISIBLE_DEVICES: [0]\n",
      "\n",
      "  | Name                | Type                | Params | Mode \n",
      "--------------------------------------------------------------------\n",
      "0 | criterion           | MSELoss             | 0      | train\n",
      "1 | train_criterion     | MSELoss             | 0      | train\n",
      "2 | val_criterion       | MSELoss             | 0      | train\n",
      "3 | train_metrics       | MetricCollection    | 0      | train\n",
      "4 | val_metrics         | MetricCollection    | 0      | train\n",
      "5 | encoder             | Linear              | 192    | train\n",
      "6 | positional_encoding | _PositionalEncoding | 0      | train\n",
      "7 | transformer         | Transformer         | 350 K  | train\n",
      "8 | decoder             | Linear              | 65     | train\n",
      "--------------------------------------------------------------------\n",
      "350 K     Trainable params\n",
      "0         Non-trainable params\n",
      "350 K     Total params\n",
      "1.403     Total estimated model params size (MB)\n",
      "88        Modules in train mode\n",
      "0         Modules in eval mode\n"
     ]
    },
    {
     "data": {
      "application/vnd.jupyter.widget-view+json": {
       "model_id": "00e52b208dc34b9fba258f22f7d388e4",
       "version_major": 2,
       "version_minor": 0
      },
      "text/plain": [
       "Training: |          | 0/? [00:00<?, ?it/s]"
      ]
     },
     "metadata": {},
     "output_type": "display_data"
    },
    {
     "name": "stderr",
     "output_type": "stream",
     "text": [
      "`Trainer.fit` stopped: `max_epochs=100` reached.\n",
      "GPU available: True (cuda), used: True\n",
      "TPU available: False, using: 0 TPU cores\n",
      "HPU available: False, using: 0 HPUs\n",
      "LOCAL_RANK: 0 - CUDA_VISIBLE_DEVICES: [0]\n"
     ]
    },
    {
     "data": {
      "application/vnd.jupyter.widget-view+json": {
       "model_id": "588d87cbca654167909e33c1b918cf5d",
       "version_major": 2,
       "version_minor": 0
      },
      "text/plain": [
       "Predicting: |          | 0/? [00:00<?, ?it/s]"
      ]
     },
     "metadata": {},
     "output_type": "display_data"
    },
    {
     "data": {
      "application/vnd.jupyter.widget-view+json": {
       "model_id": "858eec856bca4bdcb9489a62b848a022",
       "version_major": 2,
       "version_minor": 0
      },
      "text/plain": [
       "Generating TimeSeries:   0%|          | 0/1 [00:00<?, ?it/s]"
      ]
     },
     "metadata": {},
     "output_type": "display_data"
    },
    {
     "name": "stderr",
     "output_type": "stream",
     "text": [
      "c:\\Users\\USER\\Desktop\\Time_series_evaluation\\.venv\\Lib\\site-packages\\torch\\nn\\modules\\transformer.py:382: UserWarning: enable_nested_tensor is True, but self.use_nested_tensor is False because encoder_layer.self_attn.batch_first was not True(use batch_first for better inference performance)\n",
      "  warnings.warn(\n",
      "GPU available: True (cuda), used: True\n",
      "TPU available: False, using: 0 TPU cores\n",
      "HPU available: False, using: 0 HPUs\n",
      "LOCAL_RANK: 0 - CUDA_VISIBLE_DEVICES: [0]\n",
      "\n",
      "  | Name                | Type                | Params | Mode \n",
      "--------------------------------------------------------------------\n",
      "0 | criterion           | MSELoss             | 0      | train\n",
      "1 | train_criterion     | MSELoss             | 0      | train\n",
      "2 | val_criterion       | MSELoss             | 0      | train\n",
      "3 | train_metrics       | MetricCollection    | 0      | train\n",
      "4 | val_metrics         | MetricCollection    | 0      | train\n",
      "5 | encoder             | Linear              | 192    | train\n",
      "6 | positional_encoding | _PositionalEncoding | 0      | train\n",
      "7 | transformer         | Transformer         | 350 K  | train\n",
      "8 | decoder             | Linear              | 65     | train\n",
      "--------------------------------------------------------------------\n",
      "350 K     Trainable params\n",
      "0         Non-trainable params\n",
      "350 K     Total params\n",
      "1.403     Total estimated model params size (MB)\n",
      "88        Modules in train mode\n",
      "0         Modules in eval mode\n"
     ]
    },
    {
     "data": {
      "application/vnd.jupyter.widget-view+json": {
       "model_id": "7a7e3bc46bc64cc480413c52eaf7563c",
       "version_major": 2,
       "version_minor": 0
      },
      "text/plain": [
       "Training: |          | 0/? [00:00<?, ?it/s]"
      ]
     },
     "metadata": {},
     "output_type": "display_data"
    },
    {
     "name": "stderr",
     "output_type": "stream",
     "text": [
      "`Trainer.fit` stopped: `max_epochs=100` reached.\n",
      "GPU available: True (cuda), used: True\n",
      "TPU available: False, using: 0 TPU cores\n",
      "HPU available: False, using: 0 HPUs\n",
      "LOCAL_RANK: 0 - CUDA_VISIBLE_DEVICES: [0]\n"
     ]
    },
    {
     "data": {
      "application/vnd.jupyter.widget-view+json": {
       "model_id": "d50c345ebea348e48e8eae13c87830ce",
       "version_major": 2,
       "version_minor": 0
      },
      "text/plain": [
       "Predicting: |          | 0/? [00:00<?, ?it/s]"
      ]
     },
     "metadata": {},
     "output_type": "display_data"
    },
    {
     "data": {
      "application/vnd.jupyter.widget-view+json": {
       "model_id": "3d11bd7b2e5e4ca3ae9c1ef787e285d5",
       "version_major": 2,
       "version_minor": 0
      },
      "text/plain": [
       "Generating TimeSeries:   0%|          | 0/1 [00:00<?, ?it/s]"
      ]
     },
     "metadata": {},
     "output_type": "display_data"
    },
    {
     "name": "stderr",
     "output_type": "stream",
     "text": [
      "c:\\Users\\USER\\Desktop\\Time_series_evaluation\\.venv\\Lib\\site-packages\\torch\\nn\\modules\\transformer.py:382: UserWarning: enable_nested_tensor is True, but self.use_nested_tensor is False because encoder_layer.self_attn.batch_first was not True(use batch_first for better inference performance)\n",
      "  warnings.warn(\n",
      "GPU available: True (cuda), used: True\n",
      "TPU available: False, using: 0 TPU cores\n",
      "HPU available: False, using: 0 HPUs\n",
      "LOCAL_RANK: 0 - CUDA_VISIBLE_DEVICES: [0]\n",
      "\n",
      "  | Name                | Type                | Params | Mode \n",
      "--------------------------------------------------------------------\n",
      "0 | criterion           | MSELoss             | 0      | train\n",
      "1 | train_criterion     | MSELoss             | 0      | train\n",
      "2 | val_criterion       | MSELoss             | 0      | train\n",
      "3 | train_metrics       | MetricCollection    | 0      | train\n",
      "4 | val_metrics         | MetricCollection    | 0      | train\n",
      "5 | encoder             | Linear              | 192    | train\n",
      "6 | positional_encoding | _PositionalEncoding | 0      | train\n",
      "7 | transformer         | Transformer         | 350 K  | train\n",
      "8 | decoder             | Linear              | 65     | train\n",
      "--------------------------------------------------------------------\n",
      "350 K     Trainable params\n",
      "0         Non-trainable params\n",
      "350 K     Total params\n",
      "1.403     Total estimated model params size (MB)\n",
      "88        Modules in train mode\n",
      "0         Modules in eval mode\n"
     ]
    },
    {
     "data": {
      "application/vnd.jupyter.widget-view+json": {
       "model_id": "670cb5ce60774bd9bdabfb67133f0bbd",
       "version_major": 2,
       "version_minor": 0
      },
      "text/plain": [
       "Training: |          | 0/? [00:00<?, ?it/s]"
      ]
     },
     "metadata": {},
     "output_type": "display_data"
    },
    {
     "name": "stderr",
     "output_type": "stream",
     "text": [
      "`Trainer.fit` stopped: `max_epochs=100` reached.\n",
      "GPU available: True (cuda), used: True\n",
      "TPU available: False, using: 0 TPU cores\n",
      "HPU available: False, using: 0 HPUs\n",
      "LOCAL_RANK: 0 - CUDA_VISIBLE_DEVICES: [0]\n"
     ]
    },
    {
     "data": {
      "application/vnd.jupyter.widget-view+json": {
       "model_id": "46f95a296f884654b6fca62a9ab931d3",
       "version_major": 2,
       "version_minor": 0
      },
      "text/plain": [
       "Predicting: |          | 0/? [00:00<?, ?it/s]"
      ]
     },
     "metadata": {},
     "output_type": "display_data"
    },
    {
     "data": {
      "application/vnd.jupyter.widget-view+json": {
       "model_id": "dacb9d8a9dd948cb84c18768cc7a761a",
       "version_major": 2,
       "version_minor": 0
      },
      "text/plain": [
       "Generating TimeSeries:   0%|          | 0/1 [00:00<?, ?it/s]"
      ]
     },
     "metadata": {},
     "output_type": "display_data"
    },
    {
     "name": "stderr",
     "output_type": "stream",
     "text": [
      "c:\\Users\\USER\\Desktop\\Time_series_evaluation\\.venv\\Lib\\site-packages\\torch\\nn\\modules\\transformer.py:382: UserWarning: enable_nested_tensor is True, but self.use_nested_tensor is False because encoder_layer.self_attn.batch_first was not True(use batch_first for better inference performance)\n",
      "  warnings.warn(\n",
      "GPU available: True (cuda), used: True\n",
      "TPU available: False, using: 0 TPU cores\n",
      "HPU available: False, using: 0 HPUs\n",
      "LOCAL_RANK: 0 - CUDA_VISIBLE_DEVICES: [0]\n",
      "\n",
      "  | Name                | Type                | Params | Mode \n",
      "--------------------------------------------------------------------\n",
      "0 | criterion           | MSELoss             | 0      | train\n",
      "1 | train_criterion     | MSELoss             | 0      | train\n",
      "2 | val_criterion       | MSELoss             | 0      | train\n",
      "3 | train_metrics       | MetricCollection    | 0      | train\n",
      "4 | val_metrics         | MetricCollection    | 0      | train\n",
      "5 | encoder             | Linear              | 192    | train\n",
      "6 | positional_encoding | _PositionalEncoding | 0      | train\n",
      "7 | transformer         | Transformer         | 350 K  | train\n",
      "8 | decoder             | Linear              | 65     | train\n",
      "--------------------------------------------------------------------\n",
      "350 K     Trainable params\n",
      "0         Non-trainable params\n",
      "350 K     Total params\n",
      "1.403     Total estimated model params size (MB)\n",
      "88        Modules in train mode\n",
      "0         Modules in eval mode\n"
     ]
    },
    {
     "data": {
      "application/vnd.jupyter.widget-view+json": {
       "model_id": "ecce065cecd240d78dc90261daf5727c",
       "version_major": 2,
       "version_minor": 0
      },
      "text/plain": [
       "Training: |          | 0/? [00:00<?, ?it/s]"
      ]
     },
     "metadata": {},
     "output_type": "display_data"
    },
    {
     "name": "stderr",
     "output_type": "stream",
     "text": [
      "`Trainer.fit` stopped: `max_epochs=100` reached.\n",
      "GPU available: True (cuda), used: True\n",
      "TPU available: False, using: 0 TPU cores\n",
      "HPU available: False, using: 0 HPUs\n",
      "LOCAL_RANK: 0 - CUDA_VISIBLE_DEVICES: [0]\n"
     ]
    },
    {
     "data": {
      "application/vnd.jupyter.widget-view+json": {
       "model_id": "bec5ca735ebf477096d916d9d6c500ff",
       "version_major": 2,
       "version_minor": 0
      },
      "text/plain": [
       "Predicting: |          | 0/? [00:00<?, ?it/s]"
      ]
     },
     "metadata": {},
     "output_type": "display_data"
    },
    {
     "data": {
      "application/vnd.jupyter.widget-view+json": {
       "model_id": "e7ab12f526fd4acd99614408dbe19b5b",
       "version_major": 2,
       "version_minor": 0
      },
      "text/plain": [
       "Generating TimeSeries:   0%|          | 0/1 [00:00<?, ?it/s]"
      ]
     },
     "metadata": {},
     "output_type": "display_data"
    },
    {
     "name": "stderr",
     "output_type": "stream",
     "text": [
      "c:\\Users\\USER\\Desktop\\Time_series_evaluation\\.venv\\Lib\\site-packages\\torch\\nn\\modules\\transformer.py:382: UserWarning: enable_nested_tensor is True, but self.use_nested_tensor is False because encoder_layer.self_attn.batch_first was not True(use batch_first for better inference performance)\n",
      "  warnings.warn(\n",
      "GPU available: True (cuda), used: True\n",
      "TPU available: False, using: 0 TPU cores\n",
      "HPU available: False, using: 0 HPUs\n",
      "LOCAL_RANK: 0 - CUDA_VISIBLE_DEVICES: [0]\n",
      "\n",
      "  | Name                | Type                | Params | Mode \n",
      "--------------------------------------------------------------------\n",
      "0 | criterion           | MSELoss             | 0      | train\n",
      "1 | train_criterion     | MSELoss             | 0      | train\n",
      "2 | val_criterion       | MSELoss             | 0      | train\n",
      "3 | train_metrics       | MetricCollection    | 0      | train\n",
      "4 | val_metrics         | MetricCollection    | 0      | train\n",
      "5 | encoder             | Linear              | 192    | train\n",
      "6 | positional_encoding | _PositionalEncoding | 0      | train\n",
      "7 | transformer         | Transformer         | 350 K  | train\n",
      "8 | decoder             | Linear              | 65     | train\n",
      "--------------------------------------------------------------------\n",
      "350 K     Trainable params\n",
      "0         Non-trainable params\n",
      "350 K     Total params\n",
      "1.403     Total estimated model params size (MB)\n",
      "88        Modules in train mode\n",
      "0         Modules in eval mode\n"
     ]
    },
    {
     "data": {
      "application/vnd.jupyter.widget-view+json": {
       "model_id": "d0ce31c48cb94bfd97b99a3faad0d709",
       "version_major": 2,
       "version_minor": 0
      },
      "text/plain": [
       "Training: |          | 0/? [00:00<?, ?it/s]"
      ]
     },
     "metadata": {},
     "output_type": "display_data"
    },
    {
     "name": "stderr",
     "output_type": "stream",
     "text": [
      "`Trainer.fit` stopped: `max_epochs=100` reached.\n",
      "GPU available: True (cuda), used: True\n",
      "TPU available: False, using: 0 TPU cores\n",
      "HPU available: False, using: 0 HPUs\n",
      "LOCAL_RANK: 0 - CUDA_VISIBLE_DEVICES: [0]\n"
     ]
    },
    {
     "data": {
      "application/vnd.jupyter.widget-view+json": {
       "model_id": "66022806fce44c44ad1840290f8e821e",
       "version_major": 2,
       "version_minor": 0
      },
      "text/plain": [
       "Predicting: |          | 0/? [00:00<?, ?it/s]"
      ]
     },
     "metadata": {},
     "output_type": "display_data"
    },
    {
     "data": {
      "application/vnd.jupyter.widget-view+json": {
       "model_id": "ecf6e6fb65b848998f8dde191458a97d",
       "version_major": 2,
       "version_minor": 0
      },
      "text/plain": [
       "Generating TimeSeries:   0%|          | 0/1 [00:00<?, ?it/s]"
      ]
     },
     "metadata": {},
     "output_type": "display_data"
    },
    {
     "name": "stderr",
     "output_type": "stream",
     "text": [
      "c:\\Users\\USER\\Desktop\\Time_series_evaluation\\.venv\\Lib\\site-packages\\torch\\nn\\modules\\transformer.py:382: UserWarning: enable_nested_tensor is True, but self.use_nested_tensor is False because encoder_layer.self_attn.batch_first was not True(use batch_first for better inference performance)\n",
      "  warnings.warn(\n",
      "GPU available: True (cuda), used: True\n",
      "TPU available: False, using: 0 TPU cores\n",
      "HPU available: False, using: 0 HPUs\n",
      "LOCAL_RANK: 0 - CUDA_VISIBLE_DEVICES: [0]\n",
      "\n",
      "  | Name                | Type                | Params | Mode \n",
      "--------------------------------------------------------------------\n",
      "0 | criterion           | MSELoss             | 0      | train\n",
      "1 | train_criterion     | MSELoss             | 0      | train\n",
      "2 | val_criterion       | MSELoss             | 0      | train\n",
      "3 | train_metrics       | MetricCollection    | 0      | train\n",
      "4 | val_metrics         | MetricCollection    | 0      | train\n",
      "5 | encoder             | Linear              | 192    | train\n",
      "6 | positional_encoding | _PositionalEncoding | 0      | train\n",
      "7 | transformer         | Transformer         | 350 K  | train\n",
      "8 | decoder             | Linear              | 65     | train\n",
      "--------------------------------------------------------------------\n",
      "350 K     Trainable params\n",
      "0         Non-trainable params\n",
      "350 K     Total params\n",
      "1.403     Total estimated model params size (MB)\n",
      "88        Modules in train mode\n",
      "0         Modules in eval mode\n"
     ]
    },
    {
     "data": {
      "application/vnd.jupyter.widget-view+json": {
       "model_id": "f86a66f78c72459a92f487122dc262a4",
       "version_major": 2,
       "version_minor": 0
      },
      "text/plain": [
       "Training: |          | 0/? [00:00<?, ?it/s]"
      ]
     },
     "metadata": {},
     "output_type": "display_data"
    },
    {
     "name": "stderr",
     "output_type": "stream",
     "text": [
      "`Trainer.fit` stopped: `max_epochs=100` reached.\n",
      "GPU available: True (cuda), used: True\n",
      "TPU available: False, using: 0 TPU cores\n",
      "HPU available: False, using: 0 HPUs\n",
      "LOCAL_RANK: 0 - CUDA_VISIBLE_DEVICES: [0]\n"
     ]
    },
    {
     "data": {
      "application/vnd.jupyter.widget-view+json": {
       "model_id": "b1a88897d7f2419cbe339afb82a76c94",
       "version_major": 2,
       "version_minor": 0
      },
      "text/plain": [
       "Predicting: |          | 0/? [00:00<?, ?it/s]"
      ]
     },
     "metadata": {},
     "output_type": "display_data"
    },
    {
     "data": {
      "application/vnd.jupyter.widget-view+json": {
       "model_id": "51c660ab2db84b67a8c7434d6812e589",
       "version_major": 2,
       "version_minor": 0
      },
      "text/plain": [
       "Generating TimeSeries:   0%|          | 0/1 [00:00<?, ?it/s]"
      ]
     },
     "metadata": {},
     "output_type": "display_data"
    },
    {
     "name": "stderr",
     "output_type": "stream",
     "text": [
      "c:\\Users\\USER\\Desktop\\Time_series_evaluation\\.venv\\Lib\\site-packages\\torch\\nn\\modules\\transformer.py:382: UserWarning: enable_nested_tensor is True, but self.use_nested_tensor is False because encoder_layer.self_attn.batch_first was not True(use batch_first for better inference performance)\n",
      "  warnings.warn(\n",
      "GPU available: True (cuda), used: True\n",
      "TPU available: False, using: 0 TPU cores\n",
      "HPU available: False, using: 0 HPUs\n",
      "LOCAL_RANK: 0 - CUDA_VISIBLE_DEVICES: [0]\n",
      "\n",
      "  | Name                | Type                | Params | Mode \n",
      "--------------------------------------------------------------------\n",
      "0 | criterion           | MSELoss             | 0      | train\n",
      "1 | train_criterion     | MSELoss             | 0      | train\n",
      "2 | val_criterion       | MSELoss             | 0      | train\n",
      "3 | train_metrics       | MetricCollection    | 0      | train\n",
      "4 | val_metrics         | MetricCollection    | 0      | train\n",
      "5 | encoder             | Linear              | 192    | train\n",
      "6 | positional_encoding | _PositionalEncoding | 0      | train\n",
      "7 | transformer         | Transformer         | 350 K  | train\n",
      "8 | decoder             | Linear              | 65     | train\n",
      "--------------------------------------------------------------------\n",
      "350 K     Trainable params\n",
      "0         Non-trainable params\n",
      "350 K     Total params\n",
      "1.403     Total estimated model params size (MB)\n",
      "88        Modules in train mode\n",
      "0         Modules in eval mode\n"
     ]
    },
    {
     "data": {
      "application/vnd.jupyter.widget-view+json": {
       "model_id": "a87c5b4a1dfe45838711edd1eb767f5e",
       "version_major": 2,
       "version_minor": 0
      },
      "text/plain": [
       "Training: |          | 0/? [00:00<?, ?it/s]"
      ]
     },
     "metadata": {},
     "output_type": "display_data"
    },
    {
     "name": "stderr",
     "output_type": "stream",
     "text": [
      "`Trainer.fit` stopped: `max_epochs=100` reached.\n",
      "GPU available: True (cuda), used: True\n",
      "TPU available: False, using: 0 TPU cores\n",
      "HPU available: False, using: 0 HPUs\n",
      "LOCAL_RANK: 0 - CUDA_VISIBLE_DEVICES: [0]\n"
     ]
    },
    {
     "data": {
      "application/vnd.jupyter.widget-view+json": {
       "model_id": "5942e74bae3b492cbdda4b0562901cce",
       "version_major": 2,
       "version_minor": 0
      },
      "text/plain": [
       "Predicting: |          | 0/? [00:00<?, ?it/s]"
      ]
     },
     "metadata": {},
     "output_type": "display_data"
    },
    {
     "data": {
      "application/vnd.jupyter.widget-view+json": {
       "model_id": "a3ea1cf14f0b40ffb1e76e903dc6ee7a",
       "version_major": 2,
       "version_minor": 0
      },
      "text/plain": [
       "Generating TimeSeries:   0%|          | 0/1 [00:00<?, ?it/s]"
      ]
     },
     "metadata": {},
     "output_type": "display_data"
    },
    {
     "name": "stderr",
     "output_type": "stream",
     "text": [
      "c:\\Users\\USER\\Desktop\\Time_series_evaluation\\.venv\\Lib\\site-packages\\torch\\nn\\modules\\transformer.py:382: UserWarning: enable_nested_tensor is True, but self.use_nested_tensor is False because encoder_layer.self_attn.batch_first was not True(use batch_first for better inference performance)\n",
      "  warnings.warn(\n",
      "GPU available: True (cuda), used: True\n",
      "TPU available: False, using: 0 TPU cores\n",
      "HPU available: False, using: 0 HPUs\n",
      "LOCAL_RANK: 0 - CUDA_VISIBLE_DEVICES: [0]\n",
      "\n",
      "  | Name                | Type                | Params | Mode \n",
      "--------------------------------------------------------------------\n",
      "0 | criterion           | MSELoss             | 0      | train\n",
      "1 | train_criterion     | MSELoss             | 0      | train\n",
      "2 | val_criterion       | MSELoss             | 0      | train\n",
      "3 | train_metrics       | MetricCollection    | 0      | train\n",
      "4 | val_metrics         | MetricCollection    | 0      | train\n",
      "5 | encoder             | Linear              | 192    | train\n",
      "6 | positional_encoding | _PositionalEncoding | 0      | train\n",
      "7 | transformer         | Transformer         | 350 K  | train\n",
      "8 | decoder             | Linear              | 65     | train\n",
      "--------------------------------------------------------------------\n",
      "350 K     Trainable params\n",
      "0         Non-trainable params\n",
      "350 K     Total params\n",
      "1.403     Total estimated model params size (MB)\n",
      "88        Modules in train mode\n",
      "0         Modules in eval mode\n"
     ]
    },
    {
     "data": {
      "application/vnd.jupyter.widget-view+json": {
       "model_id": "cd126330ecae4b25a92b49ffe6baa0ed",
       "version_major": 2,
       "version_minor": 0
      },
      "text/plain": [
       "Training: |          | 0/? [00:00<?, ?it/s]"
      ]
     },
     "metadata": {},
     "output_type": "display_data"
    },
    {
     "name": "stderr",
     "output_type": "stream",
     "text": [
      "`Trainer.fit` stopped: `max_epochs=100` reached.\n",
      "GPU available: True (cuda), used: True\n",
      "TPU available: False, using: 0 TPU cores\n",
      "HPU available: False, using: 0 HPUs\n",
      "LOCAL_RANK: 0 - CUDA_VISIBLE_DEVICES: [0]\n"
     ]
    },
    {
     "data": {
      "application/vnd.jupyter.widget-view+json": {
       "model_id": "d64b1ce89a3a4a9db530c1f67e956b56",
       "version_major": 2,
       "version_minor": 0
      },
      "text/plain": [
       "Predicting: |          | 0/? [00:00<?, ?it/s]"
      ]
     },
     "metadata": {},
     "output_type": "display_data"
    },
    {
     "data": {
      "application/vnd.jupyter.widget-view+json": {
       "model_id": "a84d5631e1ae4715a319f998b4b79625",
       "version_major": 2,
       "version_minor": 0
      },
      "text/plain": [
       "Generating TimeSeries:   0%|          | 0/1 [00:00<?, ?it/s]"
      ]
     },
     "metadata": {},
     "output_type": "display_data"
    },
    {
     "name": "stderr",
     "output_type": "stream",
     "text": [
      "c:\\Users\\USER\\Desktop\\Time_series_evaluation\\.venv\\Lib\\site-packages\\torch\\nn\\modules\\transformer.py:382: UserWarning: enable_nested_tensor is True, but self.use_nested_tensor is False because encoder_layer.self_attn.batch_first was not True(use batch_first for better inference performance)\n",
      "  warnings.warn(\n",
      "GPU available: True (cuda), used: True\n",
      "TPU available: False, using: 0 TPU cores\n",
      "HPU available: False, using: 0 HPUs\n",
      "LOCAL_RANK: 0 - CUDA_VISIBLE_DEVICES: [0]\n",
      "\n",
      "  | Name                | Type                | Params | Mode \n",
      "--------------------------------------------------------------------\n",
      "0 | criterion           | MSELoss             | 0      | train\n",
      "1 | train_criterion     | MSELoss             | 0      | train\n",
      "2 | val_criterion       | MSELoss             | 0      | train\n",
      "3 | train_metrics       | MetricCollection    | 0      | train\n",
      "4 | val_metrics         | MetricCollection    | 0      | train\n",
      "5 | encoder             | Linear              | 192    | train\n",
      "6 | positional_encoding | _PositionalEncoding | 0      | train\n",
      "7 | transformer         | Transformer         | 350 K  | train\n",
      "8 | decoder             | Linear              | 65     | train\n",
      "--------------------------------------------------------------------\n",
      "350 K     Trainable params\n",
      "0         Non-trainable params\n",
      "350 K     Total params\n",
      "1.403     Total estimated model params size (MB)\n",
      "88        Modules in train mode\n",
      "0         Modules in eval mode\n"
     ]
    },
    {
     "data": {
      "application/vnd.jupyter.widget-view+json": {
       "model_id": "d342815205844ffb842971922e035be5",
       "version_major": 2,
       "version_minor": 0
      },
      "text/plain": [
       "Training: |          | 0/? [00:00<?, ?it/s]"
      ]
     },
     "metadata": {},
     "output_type": "display_data"
    },
    {
     "name": "stderr",
     "output_type": "stream",
     "text": [
      "`Trainer.fit` stopped: `max_epochs=100` reached.\n",
      "GPU available: True (cuda), used: True\n",
      "TPU available: False, using: 0 TPU cores\n",
      "HPU available: False, using: 0 HPUs\n",
      "LOCAL_RANK: 0 - CUDA_VISIBLE_DEVICES: [0]\n"
     ]
    },
    {
     "data": {
      "application/vnd.jupyter.widget-view+json": {
       "model_id": "474924abdc6041ca9686b74807351337",
       "version_major": 2,
       "version_minor": 0
      },
      "text/plain": [
       "Predicting: |          | 0/? [00:00<?, ?it/s]"
      ]
     },
     "metadata": {},
     "output_type": "display_data"
    },
    {
     "data": {
      "application/vnd.jupyter.widget-view+json": {
       "model_id": "3c49f9abc22a4f62a3a6b83e5992da88",
       "version_major": 2,
       "version_minor": 0
      },
      "text/plain": [
       "Generating TimeSeries:   0%|          | 0/1 [00:00<?, ?it/s]"
      ]
     },
     "metadata": {},
     "output_type": "display_data"
    },
    {
     "name": "stderr",
     "output_type": "stream",
     "text": [
      "c:\\Users\\USER\\Desktop\\Time_series_evaluation\\.venv\\Lib\\site-packages\\torch\\nn\\modules\\transformer.py:382: UserWarning: enable_nested_tensor is True, but self.use_nested_tensor is False because encoder_layer.self_attn.batch_first was not True(use batch_first for better inference performance)\n",
      "  warnings.warn(\n",
      "GPU available: True (cuda), used: True\n",
      "TPU available: False, using: 0 TPU cores\n",
      "HPU available: False, using: 0 HPUs\n",
      "LOCAL_RANK: 0 - CUDA_VISIBLE_DEVICES: [0]\n",
      "\n",
      "  | Name                | Type                | Params | Mode \n",
      "--------------------------------------------------------------------\n",
      "0 | criterion           | MSELoss             | 0      | train\n",
      "1 | train_criterion     | MSELoss             | 0      | train\n",
      "2 | val_criterion       | MSELoss             | 0      | train\n",
      "3 | train_metrics       | MetricCollection    | 0      | train\n",
      "4 | val_metrics         | MetricCollection    | 0      | train\n",
      "5 | encoder             | Linear              | 192    | train\n",
      "6 | positional_encoding | _PositionalEncoding | 0      | train\n",
      "7 | transformer         | Transformer         | 350 K  | train\n",
      "8 | decoder             | Linear              | 65     | train\n",
      "--------------------------------------------------------------------\n",
      "350 K     Trainable params\n",
      "0         Non-trainable params\n",
      "350 K     Total params\n",
      "1.403     Total estimated model params size (MB)\n",
      "88        Modules in train mode\n",
      "0         Modules in eval mode\n"
     ]
    },
    {
     "data": {
      "application/vnd.jupyter.widget-view+json": {
       "model_id": "90ab0cb874cd4834bf0c1b3564dbedf3",
       "version_major": 2,
       "version_minor": 0
      },
      "text/plain": [
       "Training: |          | 0/? [00:00<?, ?it/s]"
      ]
     },
     "metadata": {},
     "output_type": "display_data"
    },
    {
     "name": "stderr",
     "output_type": "stream",
     "text": [
      "`Trainer.fit` stopped: `max_epochs=100` reached.\n",
      "GPU available: True (cuda), used: True\n",
      "TPU available: False, using: 0 TPU cores\n",
      "HPU available: False, using: 0 HPUs\n",
      "LOCAL_RANK: 0 - CUDA_VISIBLE_DEVICES: [0]\n"
     ]
    },
    {
     "data": {
      "application/vnd.jupyter.widget-view+json": {
       "model_id": "3648a343470a429a984ab2fd82dc63a8",
       "version_major": 2,
       "version_minor": 0
      },
      "text/plain": [
       "Predicting: |          | 0/? [00:00<?, ?it/s]"
      ]
     },
     "metadata": {},
     "output_type": "display_data"
    },
    {
     "data": {
      "application/vnd.jupyter.widget-view+json": {
       "model_id": "05b2ba88a8324e01aa44a7e84fa1252f",
       "version_major": 2,
       "version_minor": 0
      },
      "text/plain": [
       "Generating TimeSeries:   0%|          | 0/1 [00:00<?, ?it/s]"
      ]
     },
     "metadata": {},
     "output_type": "display_data"
    },
    {
     "name": "stderr",
     "output_type": "stream",
     "text": [
      "c:\\Users\\USER\\Desktop\\Time_series_evaluation\\.venv\\Lib\\site-packages\\torch\\nn\\modules\\transformer.py:382: UserWarning: enable_nested_tensor is True, but self.use_nested_tensor is False because encoder_layer.self_attn.batch_first was not True(use batch_first for better inference performance)\n",
      "  warnings.warn(\n",
      "GPU available: True (cuda), used: True\n",
      "TPU available: False, using: 0 TPU cores\n",
      "HPU available: False, using: 0 HPUs\n",
      "LOCAL_RANK: 0 - CUDA_VISIBLE_DEVICES: [0]\n",
      "\n",
      "  | Name                | Type                | Params | Mode \n",
      "--------------------------------------------------------------------\n",
      "0 | criterion           | MSELoss             | 0      | train\n",
      "1 | train_criterion     | MSELoss             | 0      | train\n",
      "2 | val_criterion       | MSELoss             | 0      | train\n",
      "3 | train_metrics       | MetricCollection    | 0      | train\n",
      "4 | val_metrics         | MetricCollection    | 0      | train\n",
      "5 | encoder             | Linear              | 192    | train\n",
      "6 | positional_encoding | _PositionalEncoding | 0      | train\n",
      "7 | transformer         | Transformer         | 350 K  | train\n",
      "8 | decoder             | Linear              | 65     | train\n",
      "--------------------------------------------------------------------\n",
      "350 K     Trainable params\n",
      "0         Non-trainable params\n",
      "350 K     Total params\n",
      "1.403     Total estimated model params size (MB)\n",
      "88        Modules in train mode\n",
      "0         Modules in eval mode\n"
     ]
    },
    {
     "data": {
      "application/vnd.jupyter.widget-view+json": {
       "model_id": "4f0236269b0a44b6bff4ad17acbf9969",
       "version_major": 2,
       "version_minor": 0
      },
      "text/plain": [
       "Training: |          | 0/? [00:00<?, ?it/s]"
      ]
     },
     "metadata": {},
     "output_type": "display_data"
    },
    {
     "name": "stderr",
     "output_type": "stream",
     "text": [
      "`Trainer.fit` stopped: `max_epochs=100` reached.\n",
      "GPU available: True (cuda), used: True\n",
      "TPU available: False, using: 0 TPU cores\n",
      "HPU available: False, using: 0 HPUs\n",
      "LOCAL_RANK: 0 - CUDA_VISIBLE_DEVICES: [0]\n"
     ]
    },
    {
     "data": {
      "application/vnd.jupyter.widget-view+json": {
       "model_id": "62b812b25761467687da8bc762392452",
       "version_major": 2,
       "version_minor": 0
      },
      "text/plain": [
       "Predicting: |          | 0/? [00:00<?, ?it/s]"
      ]
     },
     "metadata": {},
     "output_type": "display_data"
    },
    {
     "data": {
      "application/vnd.jupyter.widget-view+json": {
       "model_id": "408ecf289e9143d88009ea31a61c7aa9",
       "version_major": 2,
       "version_minor": 0
      },
      "text/plain": [
       "Generating TimeSeries:   0%|          | 0/1 [00:00<?, ?it/s]"
      ]
     },
     "metadata": {},
     "output_type": "display_data"
    },
    {
     "name": "stderr",
     "output_type": "stream",
     "text": [
      "c:\\Users\\USER\\Desktop\\Time_series_evaluation\\.venv\\Lib\\site-packages\\torch\\nn\\modules\\transformer.py:382: UserWarning: enable_nested_tensor is True, but self.use_nested_tensor is False because encoder_layer.self_attn.batch_first was not True(use batch_first for better inference performance)\n",
      "  warnings.warn(\n",
      "GPU available: True (cuda), used: True\n",
      "TPU available: False, using: 0 TPU cores\n",
      "HPU available: False, using: 0 HPUs\n",
      "LOCAL_RANK: 0 - CUDA_VISIBLE_DEVICES: [0]\n",
      "\n",
      "  | Name                | Type                | Params | Mode \n",
      "--------------------------------------------------------------------\n",
      "0 | criterion           | MSELoss             | 0      | train\n",
      "1 | train_criterion     | MSELoss             | 0      | train\n",
      "2 | val_criterion       | MSELoss             | 0      | train\n",
      "3 | train_metrics       | MetricCollection    | 0      | train\n",
      "4 | val_metrics         | MetricCollection    | 0      | train\n",
      "5 | encoder             | Linear              | 192    | train\n",
      "6 | positional_encoding | _PositionalEncoding | 0      | train\n",
      "7 | transformer         | Transformer         | 350 K  | train\n",
      "8 | decoder             | Linear              | 65     | train\n",
      "--------------------------------------------------------------------\n",
      "350 K     Trainable params\n",
      "0         Non-trainable params\n",
      "350 K     Total params\n",
      "1.403     Total estimated model params size (MB)\n",
      "88        Modules in train mode\n",
      "0         Modules in eval mode\n"
     ]
    },
    {
     "data": {
      "application/vnd.jupyter.widget-view+json": {
       "model_id": "ba541ef2df9643d38b1659d32244faec",
       "version_major": 2,
       "version_minor": 0
      },
      "text/plain": [
       "Training: |          | 0/? [00:00<?, ?it/s]"
      ]
     },
     "metadata": {},
     "output_type": "display_data"
    },
    {
     "name": "stderr",
     "output_type": "stream",
     "text": [
      "`Trainer.fit` stopped: `max_epochs=100` reached.\n",
      "GPU available: True (cuda), used: True\n",
      "TPU available: False, using: 0 TPU cores\n",
      "HPU available: False, using: 0 HPUs\n",
      "LOCAL_RANK: 0 - CUDA_VISIBLE_DEVICES: [0]\n"
     ]
    },
    {
     "data": {
      "application/vnd.jupyter.widget-view+json": {
       "model_id": "e194d15ac6bc4ecdb37fa8ac520a976b",
       "version_major": 2,
       "version_minor": 0
      },
      "text/plain": [
       "Predicting: |          | 0/? [00:00<?, ?it/s]"
      ]
     },
     "metadata": {},
     "output_type": "display_data"
    },
    {
     "data": {
      "application/vnd.jupyter.widget-view+json": {
       "model_id": "6bc0b5203afa449b858fed0263177237",
       "version_major": 2,
       "version_minor": 0
      },
      "text/plain": [
       "Generating TimeSeries:   0%|          | 0/1 [00:00<?, ?it/s]"
      ]
     },
     "metadata": {},
     "output_type": "display_data"
    },
    {
     "name": "stderr",
     "output_type": "stream",
     "text": [
      "c:\\Users\\USER\\Desktop\\Time_series_evaluation\\.venv\\Lib\\site-packages\\torch\\nn\\modules\\transformer.py:382: UserWarning: enable_nested_tensor is True, but self.use_nested_tensor is False because encoder_layer.self_attn.batch_first was not True(use batch_first for better inference performance)\n",
      "  warnings.warn(\n",
      "GPU available: True (cuda), used: True\n",
      "TPU available: False, using: 0 TPU cores\n",
      "HPU available: False, using: 0 HPUs\n",
      "LOCAL_RANK: 0 - CUDA_VISIBLE_DEVICES: [0]\n",
      "\n",
      "  | Name                | Type                | Params | Mode \n",
      "--------------------------------------------------------------------\n",
      "0 | criterion           | MSELoss             | 0      | train\n",
      "1 | train_criterion     | MSELoss             | 0      | train\n",
      "2 | val_criterion       | MSELoss             | 0      | train\n",
      "3 | train_metrics       | MetricCollection    | 0      | train\n",
      "4 | val_metrics         | MetricCollection    | 0      | train\n",
      "5 | encoder             | Linear              | 192    | train\n",
      "6 | positional_encoding | _PositionalEncoding | 0      | train\n",
      "7 | transformer         | Transformer         | 350 K  | train\n",
      "8 | decoder             | Linear              | 65     | train\n",
      "--------------------------------------------------------------------\n",
      "350 K     Trainable params\n",
      "0         Non-trainable params\n",
      "350 K     Total params\n",
      "1.403     Total estimated model params size (MB)\n",
      "88        Modules in train mode\n",
      "0         Modules in eval mode\n"
     ]
    },
    {
     "data": {
      "application/vnd.jupyter.widget-view+json": {
       "model_id": "8a746d94b8134491b96c476043d00516",
       "version_major": 2,
       "version_minor": 0
      },
      "text/plain": [
       "Training: |          | 0/? [00:00<?, ?it/s]"
      ]
     },
     "metadata": {},
     "output_type": "display_data"
    },
    {
     "name": "stderr",
     "output_type": "stream",
     "text": [
      "`Trainer.fit` stopped: `max_epochs=100` reached.\n",
      "GPU available: True (cuda), used: True\n",
      "TPU available: False, using: 0 TPU cores\n",
      "HPU available: False, using: 0 HPUs\n",
      "LOCAL_RANK: 0 - CUDA_VISIBLE_DEVICES: [0]\n"
     ]
    },
    {
     "data": {
      "application/vnd.jupyter.widget-view+json": {
       "model_id": "6406dfc5de9c4088a16f40bff39a8dda",
       "version_major": 2,
       "version_minor": 0
      },
      "text/plain": [
       "Predicting: |          | 0/? [00:00<?, ?it/s]"
      ]
     },
     "metadata": {},
     "output_type": "display_data"
    },
    {
     "data": {
      "application/vnd.jupyter.widget-view+json": {
       "model_id": "d04673224ae24ef6a4f2223cb032f743",
       "version_major": 2,
       "version_minor": 0
      },
      "text/plain": [
       "Generating TimeSeries:   0%|          | 0/1 [00:00<?, ?it/s]"
      ]
     },
     "metadata": {},
     "output_type": "display_data"
    },
    {
     "name": "stderr",
     "output_type": "stream",
     "text": [
      "c:\\Users\\USER\\Desktop\\Time_series_evaluation\\.venv\\Lib\\site-packages\\torch\\nn\\modules\\transformer.py:382: UserWarning: enable_nested_tensor is True, but self.use_nested_tensor is False because encoder_layer.self_attn.batch_first was not True(use batch_first for better inference performance)\n",
      "  warnings.warn(\n",
      "GPU available: True (cuda), used: True\n",
      "TPU available: False, using: 0 TPU cores\n",
      "HPU available: False, using: 0 HPUs\n",
      "LOCAL_RANK: 0 - CUDA_VISIBLE_DEVICES: [0]\n",
      "\n",
      "  | Name                | Type                | Params | Mode \n",
      "--------------------------------------------------------------------\n",
      "0 | criterion           | MSELoss             | 0      | train\n",
      "1 | train_criterion     | MSELoss             | 0      | train\n",
      "2 | val_criterion       | MSELoss             | 0      | train\n",
      "3 | train_metrics       | MetricCollection    | 0      | train\n",
      "4 | val_metrics         | MetricCollection    | 0      | train\n",
      "5 | encoder             | Linear              | 192    | train\n",
      "6 | positional_encoding | _PositionalEncoding | 0      | train\n",
      "7 | transformer         | Transformer         | 350 K  | train\n",
      "8 | decoder             | Linear              | 65     | train\n",
      "--------------------------------------------------------------------\n",
      "350 K     Trainable params\n",
      "0         Non-trainable params\n",
      "350 K     Total params\n",
      "1.403     Total estimated model params size (MB)\n",
      "88        Modules in train mode\n",
      "0         Modules in eval mode\n"
     ]
    },
    {
     "data": {
      "application/vnd.jupyter.widget-view+json": {
       "model_id": "a144821856324c6296c3bb7e3bd73d66",
       "version_major": 2,
       "version_minor": 0
      },
      "text/plain": [
       "Training: |          | 0/? [00:00<?, ?it/s]"
      ]
     },
     "metadata": {},
     "output_type": "display_data"
    },
    {
     "name": "stderr",
     "output_type": "stream",
     "text": [
      "`Trainer.fit` stopped: `max_epochs=100` reached.\n",
      "GPU available: True (cuda), used: True\n",
      "TPU available: False, using: 0 TPU cores\n",
      "HPU available: False, using: 0 HPUs\n",
      "LOCAL_RANK: 0 - CUDA_VISIBLE_DEVICES: [0]\n"
     ]
    },
    {
     "data": {
      "application/vnd.jupyter.widget-view+json": {
       "model_id": "0bf804529e274c6a9fdd1d6e7a50da91",
       "version_major": 2,
       "version_minor": 0
      },
      "text/plain": [
       "Predicting: |          | 0/? [00:00<?, ?it/s]"
      ]
     },
     "metadata": {},
     "output_type": "display_data"
    },
    {
     "data": {
      "application/vnd.jupyter.widget-view+json": {
       "model_id": "f22096a281e74655b052335f8ca47a17",
       "version_major": 2,
       "version_minor": 0
      },
      "text/plain": [
       "Generating TimeSeries:   0%|          | 0/1 [00:00<?, ?it/s]"
      ]
     },
     "metadata": {},
     "output_type": "display_data"
    },
    {
     "name": "stderr",
     "output_type": "stream",
     "text": [
      "c:\\Users\\USER\\Desktop\\Time_series_evaluation\\.venv\\Lib\\site-packages\\torch\\nn\\modules\\transformer.py:382: UserWarning: enable_nested_tensor is True, but self.use_nested_tensor is False because encoder_layer.self_attn.batch_first was not True(use batch_first for better inference performance)\n",
      "  warnings.warn(\n",
      "GPU available: True (cuda), used: True\n",
      "TPU available: False, using: 0 TPU cores\n",
      "HPU available: False, using: 0 HPUs\n",
      "LOCAL_RANK: 0 - CUDA_VISIBLE_DEVICES: [0]\n",
      "\n",
      "  | Name                | Type                | Params | Mode \n",
      "--------------------------------------------------------------------\n",
      "0 | criterion           | MSELoss             | 0      | train\n",
      "1 | train_criterion     | MSELoss             | 0      | train\n",
      "2 | val_criterion       | MSELoss             | 0      | train\n",
      "3 | train_metrics       | MetricCollection    | 0      | train\n",
      "4 | val_metrics         | MetricCollection    | 0      | train\n",
      "5 | encoder             | Linear              | 192    | train\n",
      "6 | positional_encoding | _PositionalEncoding | 0      | train\n",
      "7 | transformer         | Transformer         | 350 K  | train\n",
      "8 | decoder             | Linear              | 65     | train\n",
      "--------------------------------------------------------------------\n",
      "350 K     Trainable params\n",
      "0         Non-trainable params\n",
      "350 K     Total params\n",
      "1.403     Total estimated model params size (MB)\n",
      "88        Modules in train mode\n",
      "0         Modules in eval mode\n"
     ]
    },
    {
     "data": {
      "application/vnd.jupyter.widget-view+json": {
       "model_id": "7e6481e8f9a9479881178dd0048f096b",
       "version_major": 2,
       "version_minor": 0
      },
      "text/plain": [
       "Training: |          | 0/? [00:00<?, ?it/s]"
      ]
     },
     "metadata": {},
     "output_type": "display_data"
    },
    {
     "name": "stderr",
     "output_type": "stream",
     "text": [
      "`Trainer.fit` stopped: `max_epochs=100` reached.\n",
      "GPU available: True (cuda), used: True\n",
      "TPU available: False, using: 0 TPU cores\n",
      "HPU available: False, using: 0 HPUs\n",
      "LOCAL_RANK: 0 - CUDA_VISIBLE_DEVICES: [0]\n"
     ]
    },
    {
     "data": {
      "application/vnd.jupyter.widget-view+json": {
       "model_id": "c9c7132e71d44906ab9e548105d777af",
       "version_major": 2,
       "version_minor": 0
      },
      "text/plain": [
       "Predicting: |          | 0/? [00:00<?, ?it/s]"
      ]
     },
     "metadata": {},
     "output_type": "display_data"
    },
    {
     "data": {
      "application/vnd.jupyter.widget-view+json": {
       "model_id": "14bea13514714ddb956f6ae561e2e935",
       "version_major": 2,
       "version_minor": 0
      },
      "text/plain": [
       "Generating TimeSeries:   0%|          | 0/1 [00:00<?, ?it/s]"
      ]
     },
     "metadata": {},
     "output_type": "display_data"
    }
   ],
   "source": [
    "backtest =  model.historical_forecasts(\n",
    "    series=scaled_series,\n",
    "    past_covariates=scaled_cov,\n",
    "    start=backtest_start,\n",
    "    forecast_horizon=1,      # 1 week ahead\n",
    "    stride=1,                # move forward one week each fold\n",
    "    retrain=True,            # re-fit at each fold\n",
    "    last_points_only=True,   # keep only the 1-week-ahead point\n",
    "    verbose=True\n",
    ")\n",
    "\n",
    "backtest = scaler.inverse_transform(backtest)"
   ]
  },
  {
   "cell_type": "code",
   "execution_count": 11,
   "id": "052fee9d",
   "metadata": {},
   "outputs": [
    {
     "data": {
      "image/png": "[encoded data removed]",
      "text/plain": [
       "<Figure size 1200x600 with 1 Axes>"
      ]
     },
     "metadata": {},
     "output_type": "display_data"
    },
    {
     "name": "stdout",
     "output_type": "stream",
     "text": [
      "MAPE: 3.16%\n",
      "MAE:  171.77\n",
      "RMSE: 212.36\n"
     ]
    }
   ],
   "source": [
    "actuals_bt = series[backtest_start:backtest_end]\n",
    "\n",
    "# plot actual vs RF forecasts\n",
    "plt.figure(figsize=(12,6))\n",
    "actuals_bt.plot(label=\"Actual (2024)\", color=\"green\")\n",
    "backtest.plot(label=\"Transformer 1-week ahead\", color=\"red\")\n",
    "plt.legend()\n",
    "plt.title(\"Transformer 1-week-ahead backtest (2024)\")\n",
    "plt.show()\n",
    "\n",
    "# compute metrics\n",
    "print(f\"MAPE: {mape(actuals_bt, backtest):.2f}%\")\n",
    "print(f\"MAE:  {mae(actuals_bt, backtest):.2f}\")\n",
    "print(f\"RMSE: {rmse(actuals_bt, backtest):.2f}\")"
   ]
  }
 ],
 "metadata": {
  "kernelspec": {
   "display_name": ".venv",
   "language": "python",
   "name": "python3"
  },
  "language_info": {
   "codemirror_mode": {
    "name": "ipython",
    "version": 3
   },
   "file_extension": ".py",
   "mimetype": "text/x-python",
   "name": "python",
   "nbconvert_exporter": "python",
   "pygments_lexer": "ipython3",
   "version": "3.12.4"
  }
 },
 "nbformat": 4,
 "nbformat_minor": 5
}
