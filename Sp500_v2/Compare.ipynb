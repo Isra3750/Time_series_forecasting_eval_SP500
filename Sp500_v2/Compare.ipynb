{
 "cells": [
  {
   "cell_type": "markdown",
   "id": "973c1d1c",
   "metadata": {},
   "source": [
    "### Conduct DM test comparing Naive forecast to each model"
   ]
  },
  {
   "cell_type": "code",
   "execution_count": 11,
   "id": "f89ed175",
   "metadata": {},
   "outputs": [],
   "source": [
    "from dieboldmariano import dm_test\n",
    "import pandas as pd\n",
    "from pathlib import Path"
   ]
  },
  {
   "cell_type": "markdown",
   "id": "9e52e30e",
   "metadata": {},
   "source": [
    "### Helper function"
   ]
  },
  {
   "cell_type": "code",
   "execution_count": null,
   "id": "bd5fe4f8",
   "metadata": {},
   "outputs": [],
   "source": [
    "def dm_against_naive(path_model_csv, path_naive_csv, loss=\"mae\"):\n",
    "    # load the two CSVs (must have timestamp index and columns actual,prediction)\n",
    "    m = pd.read_csv(Path(path_model_csv), index_col=\"timestamp\", parse_dates=True)\n",
    "    n = pd.read_csv(Path(path_naive_csv), index_col=\"timestamp\", parse_dates=True)\n",
    "\n",
    "    # align on timestamps, rename for clarity\n",
    "    df = (\n",
    "        m[[\"actual\", \"prediction\"]]\n",
    "        .rename(columns={\"prediction\": \"pred_model\"})\n",
    "        .join(\n",
    "            n[[\"prediction\"]]\n",
    "            .rename(columns={\"prediction\": \"pred_naive\"}),\n",
    "            how=\"inner\",\n",
    "        )\n",
    "        .dropna()\n",
    "    )\n",
    "\n",
    "    # pull arrays\n",
    "    y  = df[\"actual\"].to_numpy() # actual value\n",
    "    p1 = df[\"pred_naive\"].to_numpy() # baseline value\n",
    "    p2 = df[\"pred_model\"].to_numpy() # model value\n",
    "\n",
    "    # choose loss function\n",
    "    if loss == \"mae\":\n",
    "        loss_fn = lambda u, v: abs(u - v)\n",
    "    else:\n",
    "        loss_fn = lambda u, v: (u - v) ** 2\n",
    "\n",
    "    # run Diebold–Mariano test\n",
    "    stat, p_value = dm_test(\n",
    "        y, p1, p2,\n",
    "        loss=loss_fn,\n",
    "        one_sided=True,\n",
    "        harvey_correction=True,\n",
    "        variance_estimator=\"bartlett\"\n",
    "    )\n",
    "\n",
    "    return stat, p_value, len(df)"
   ]
  },
  {
   "cell_type": "markdown",
   "id": "97806727",
   "metadata": {},
   "source": [
    "Ideal result:\n",
    "stat ≈ 2.5,  p ≈ 0.006,  T = 52\n",
    "\n",
    "P value tells how significant (confident) the differences is, while DM stats tell us which one is better (lower loss)\n",
    "\n",
    "if stats > 2.5 and p value < 0.05 then strong evidence current model beat baseline\n",
    "\n",
    "if stats is negative and p value < 0.05 then strong evidence current model does not beat baseline"
   ]
  },
  {
   "cell_type": "markdown",
   "id": "292f8362",
   "metadata": {},
   "source": [
    "### ARIMA"
   ]
  },
  {
   "cell_type": "code",
   "execution_count": 38,
   "id": "ac86ddff",
   "metadata": {},
   "outputs": [
    {
     "name": "stdout",
     "output_type": "stream",
     "text": [
      "stat=-12.421, p=2.41e-17, T=52\n"
     ]
    }
   ],
   "source": [
    "stat, p, T = dm_against_naive(\n",
    "    \"results/ARIMA_test_2017.csv\", # current model\n",
    "    \"results/Baseline_test_2017.csv\",\n",
    "    loss=\"mae\"\n",
    ")\n",
    "print(f\"stat={stat:.3f}, p={p:.3g}, T={T}\")"
   ]
  },
  {
   "cell_type": "code",
   "execution_count": 39,
   "id": "bd9a02d0",
   "metadata": {},
   "outputs": [
    {
     "ename": "InvalidParameterException",
     "evalue": "Forecast horizon cannot be greater than the number of predictions.",
     "output_type": "error",
     "traceback": [
      "\u001b[31m---------------------------------------------------------------------------\u001b[39m",
      "\u001b[31mInvalidParameterException\u001b[39m                 Traceback (most recent call last)",
      "\u001b[36mCell\u001b[39m\u001b[36m \u001b[39m\u001b[32mIn[39]\u001b[39m\u001b[32m, line 1\u001b[39m\n\u001b[32m----> \u001b[39m\u001b[32m1\u001b[39m stat, p, T = \u001b[43mdm_against_naive\u001b[49m\u001b[43m(\u001b[49m\n\u001b[32m      2\u001b[39m \u001b[43m    \u001b[49m\u001b[33;43m\"\u001b[39;49m\u001b[33;43mresults/ARIMA_test_2023.csv\u001b[39;49m\u001b[33;43m\"\u001b[39;49m\u001b[43m,\u001b[49m\u001b[43m \u001b[49m\u001b[38;5;66;43;03m# current model\u001b[39;49;00m\n\u001b[32m      3\u001b[39m \u001b[43m    \u001b[49m\u001b[33;43m\"\u001b[39;49m\u001b[33;43mresults/Baseline_test_2023.csv\u001b[39;49m\u001b[33;43m\"\u001b[39;49m\u001b[43m,\u001b[49m\n\u001b[32m      4\u001b[39m \u001b[43m    \u001b[49m\u001b[43mloss\u001b[49m\u001b[43m=\u001b[49m\u001b[33;43m\"\u001b[39;49m\u001b[33;43mmae\u001b[39;49m\u001b[33;43m\"\u001b[39;49m\n\u001b[32m      5\u001b[39m \u001b[43m)\u001b[49m\n\u001b[32m      6\u001b[39m \u001b[38;5;28mprint\u001b[39m(\u001b[33mf\u001b[39m\u001b[33m\"\u001b[39m\u001b[33mstat=\u001b[39m\u001b[38;5;132;01m{\u001b[39;00mstat\u001b[38;5;132;01m:\u001b[39;00m\u001b[33m.3f\u001b[39m\u001b[38;5;132;01m}\u001b[39;00m\u001b[33m, p=\u001b[39m\u001b[38;5;132;01m{\u001b[39;00mp\u001b[38;5;132;01m:\u001b[39;00m\u001b[33m.3g\u001b[39m\u001b[38;5;132;01m}\u001b[39;00m\u001b[33m, T=\u001b[39m\u001b[38;5;132;01m{\u001b[39;00mT\u001b[38;5;132;01m}\u001b[39;00m\u001b[33m\"\u001b[39m)\n",
      "\u001b[36mCell\u001b[39m\u001b[36m \u001b[39m\u001b[32mIn[31]\u001b[39m\u001b[32m, line 30\u001b[39m, in \u001b[36mdm_against_naive\u001b[39m\u001b[34m(path_model_csv, path_naive_csv, loss)\u001b[39m\n\u001b[32m     27\u001b[39m     loss_fn = \u001b[38;5;28;01mlambda\u001b[39;00m u, v: (u - v) ** \u001b[32m2\u001b[39m\n\u001b[32m     29\u001b[39m \u001b[38;5;66;03m# run Diebold–Mariano test\u001b[39;00m\n\u001b[32m---> \u001b[39m\u001b[32m30\u001b[39m stat, p_value = \u001b[43mdm_test\u001b[49m\u001b[43m(\u001b[49m\n\u001b[32m     31\u001b[39m \u001b[43m    \u001b[49m\u001b[43my\u001b[49m\u001b[43m,\u001b[49m\u001b[43m \u001b[49m\u001b[43mp1\u001b[49m\u001b[43m,\u001b[49m\u001b[43m \u001b[49m\u001b[43mp2\u001b[49m\u001b[43m,\u001b[49m\n\u001b[32m     32\u001b[39m \u001b[43m    \u001b[49m\u001b[43mloss\u001b[49m\u001b[43m=\u001b[49m\u001b[43mloss_fn\u001b[49m\u001b[43m,\u001b[49m\n\u001b[32m     33\u001b[39m \u001b[43m    \u001b[49m\u001b[43mone_sided\u001b[49m\u001b[43m=\u001b[49m\u001b[38;5;28;43;01mTrue\u001b[39;49;00m\u001b[43m,\u001b[49m\n\u001b[32m     34\u001b[39m \u001b[43m    \u001b[49m\u001b[43mharvey_correction\u001b[49m\u001b[43m=\u001b[49m\u001b[38;5;28;43;01mTrue\u001b[39;49;00m\u001b[43m,\u001b[49m\n\u001b[32m     35\u001b[39m \u001b[43m    \u001b[49m\u001b[43mvariance_estimator\u001b[49m\u001b[43m=\u001b[49m\u001b[33;43m\"\u001b[39;49m\u001b[33;43mbartlett\u001b[39;49m\u001b[33;43m\"\u001b[39;49m\n\u001b[32m     36\u001b[39m \u001b[43m\u001b[49m\u001b[43m)\u001b[49m\n\u001b[32m     38\u001b[39m \u001b[38;5;28;01mreturn\u001b[39;00m stat, p_value, \u001b[38;5;28mlen\u001b[39m(df)\n",
      "\u001b[36mFile \u001b[39m\u001b[32mc:\\Users\\USER\\Desktop\\Time_series_evaluation\\.venv\\Lib\\site-packages\\dieboldmariano\\dieboldmariano.py:184\u001b[39m, in \u001b[36mdm_test\u001b[39m\u001b[34m(V, P1, P2, loss, h, one_sided, harvey_correction, variance_estimator)\u001b[39m\n\u001b[32m    179\u001b[39m     \u001b[38;5;28;01mraise\u001b[39;00m InvalidParameterException(\n\u001b[32m    180\u001b[39m         \u001b[33m\"\u001b[39m\u001b[33mInvalid parameter for horizon length. Must be a positive integer.\u001b[39m\u001b[33m\"\u001b[39m\n\u001b[32m    181\u001b[39m     )\n\u001b[32m    183\u001b[39m \u001b[38;5;28;01mif\u001b[39;00m h > \u001b[38;5;28mlen\u001b[39m(V):\n\u001b[32m--> \u001b[39m\u001b[32m184\u001b[39m     \u001b[38;5;28;01mraise\u001b[39;00m InvalidParameterException(\n\u001b[32m    185\u001b[39m         \u001b[33m\"\u001b[39m\u001b[33mForecast horizon cannot be greater than the number of predictions.\u001b[39m\u001b[33m\"\u001b[39m\n\u001b[32m    186\u001b[39m     )\n\u001b[32m    188\u001b[39m n = \u001b[38;5;28mlen\u001b[39m(P1)\n\u001b[32m    189\u001b[39m mean = \u001b[32m0.0\u001b[39m\n",
      "\u001b[31mInvalidParameterException\u001b[39m: Forecast horizon cannot be greater than the number of predictions."
     ]
    }
   ],
   "source": [
    "stat, p, T = dm_against_naive(\n",
    "    \"results/ARIMA_test_2023.csv\", # current model\n",
    "    \"results/Baseline_test_2023.csv\",\n",
    "    loss=\"mae\"\n",
    ")\n",
    "print(f\"stat={stat:.3f}, p={p:.3g}, T={T}\")"
   ]
  },
  {
   "cell_type": "code",
   "execution_count": 37,
   "id": "ceeeb6a3",
   "metadata": {},
   "outputs": [
    {
     "ename": "InvalidParameterException",
     "evalue": "Forecast horizon cannot be greater than the number of predictions.",
     "output_type": "error",
     "traceback": [
      "\u001b[31m---------------------------------------------------------------------------\u001b[39m",
      "\u001b[31mInvalidParameterException\u001b[39m                 Traceback (most recent call last)",
      "\u001b[36mCell\u001b[39m\u001b[36m \u001b[39m\u001b[32mIn[37]\u001b[39m\u001b[32m, line 1\u001b[39m\n\u001b[32m----> \u001b[39m\u001b[32m1\u001b[39m stat, p, T = \u001b[43mdm_against_naive\u001b[49m\u001b[43m(\u001b[49m\n\u001b[32m      2\u001b[39m \u001b[43m    \u001b[49m\u001b[33;43m\"\u001b[39;49m\u001b[33;43mresults/ARIMA_backtest.csv\u001b[39;49m\u001b[33;43m\"\u001b[39;49m\u001b[43m,\u001b[49m\u001b[43m \u001b[49m\u001b[38;5;66;43;03m# current model\u001b[39;49;00m\n\u001b[32m      3\u001b[39m \u001b[43m    \u001b[49m\u001b[33;43m\"\u001b[39;49m\u001b[33;43mresults/Baseline_backtest.csv\u001b[39;49m\u001b[33;43m\"\u001b[39;49m\u001b[43m,\u001b[49m\n\u001b[32m      4\u001b[39m \u001b[43m    \u001b[49m\u001b[43mloss\u001b[49m\u001b[43m=\u001b[49m\u001b[33;43m\"\u001b[39;49m\u001b[33;43mmae\u001b[39;49m\u001b[33;43m\"\u001b[39;49m\n\u001b[32m      5\u001b[39m \u001b[43m)\u001b[49m\n\u001b[32m      6\u001b[39m \u001b[38;5;28mprint\u001b[39m(\u001b[33mf\u001b[39m\u001b[33m\"\u001b[39m\u001b[33mstat=\u001b[39m\u001b[38;5;132;01m{\u001b[39;00mstat\u001b[38;5;132;01m:\u001b[39;00m\u001b[33m.3f\u001b[39m\u001b[38;5;132;01m}\u001b[39;00m\u001b[33m, p=\u001b[39m\u001b[38;5;132;01m{\u001b[39;00mp\u001b[38;5;132;01m:\u001b[39;00m\u001b[33m.3g\u001b[39m\u001b[38;5;132;01m}\u001b[39;00m\u001b[33m, T=\u001b[39m\u001b[38;5;132;01m{\u001b[39;00mT\u001b[38;5;132;01m}\u001b[39;00m\u001b[33m\"\u001b[39m)\n",
      "\u001b[36mCell\u001b[39m\u001b[36m \u001b[39m\u001b[32mIn[31]\u001b[39m\u001b[32m, line 30\u001b[39m, in \u001b[36mdm_against_naive\u001b[39m\u001b[34m(path_model_csv, path_naive_csv, loss)\u001b[39m\n\u001b[32m     27\u001b[39m     loss_fn = \u001b[38;5;28;01mlambda\u001b[39;00m u, v: (u - v) ** \u001b[32m2\u001b[39m\n\u001b[32m     29\u001b[39m \u001b[38;5;66;03m# run Diebold–Mariano test\u001b[39;00m\n\u001b[32m---> \u001b[39m\u001b[32m30\u001b[39m stat, p_value = \u001b[43mdm_test\u001b[49m\u001b[43m(\u001b[49m\n\u001b[32m     31\u001b[39m \u001b[43m    \u001b[49m\u001b[43my\u001b[49m\u001b[43m,\u001b[49m\u001b[43m \u001b[49m\u001b[43mp1\u001b[49m\u001b[43m,\u001b[49m\u001b[43m \u001b[49m\u001b[43mp2\u001b[49m\u001b[43m,\u001b[49m\n\u001b[32m     32\u001b[39m \u001b[43m    \u001b[49m\u001b[43mloss\u001b[49m\u001b[43m=\u001b[49m\u001b[43mloss_fn\u001b[49m\u001b[43m,\u001b[49m\n\u001b[32m     33\u001b[39m \u001b[43m    \u001b[49m\u001b[43mone_sided\u001b[49m\u001b[43m=\u001b[49m\u001b[38;5;28;43;01mTrue\u001b[39;49;00m\u001b[43m,\u001b[49m\n\u001b[32m     34\u001b[39m \u001b[43m    \u001b[49m\u001b[43mharvey_correction\u001b[49m\u001b[43m=\u001b[49m\u001b[38;5;28;43;01mTrue\u001b[39;49;00m\u001b[43m,\u001b[49m\n\u001b[32m     35\u001b[39m \u001b[43m    \u001b[49m\u001b[43mvariance_estimator\u001b[49m\u001b[43m=\u001b[49m\u001b[33;43m\"\u001b[39;49m\u001b[33;43mbartlett\u001b[39;49m\u001b[33;43m\"\u001b[39;49m\n\u001b[32m     36\u001b[39m \u001b[43m\u001b[49m\u001b[43m)\u001b[49m\n\u001b[32m     38\u001b[39m \u001b[38;5;28;01mreturn\u001b[39;00m stat, p_value, \u001b[38;5;28mlen\u001b[39m(df)\n",
      "\u001b[36mFile \u001b[39m\u001b[32mc:\\Users\\USER\\Desktop\\Time_series_evaluation\\.venv\\Lib\\site-packages\\dieboldmariano\\dieboldmariano.py:184\u001b[39m, in \u001b[36mdm_test\u001b[39m\u001b[34m(V, P1, P2, loss, h, one_sided, harvey_correction, variance_estimator)\u001b[39m\n\u001b[32m    179\u001b[39m     \u001b[38;5;28;01mraise\u001b[39;00m InvalidParameterException(\n\u001b[32m    180\u001b[39m         \u001b[33m\"\u001b[39m\u001b[33mInvalid parameter for horizon length. Must be a positive integer.\u001b[39m\u001b[33m\"\u001b[39m\n\u001b[32m    181\u001b[39m     )\n\u001b[32m    183\u001b[39m \u001b[38;5;28;01mif\u001b[39;00m h > \u001b[38;5;28mlen\u001b[39m(V):\n\u001b[32m--> \u001b[39m\u001b[32m184\u001b[39m     \u001b[38;5;28;01mraise\u001b[39;00m InvalidParameterException(\n\u001b[32m    185\u001b[39m         \u001b[33m\"\u001b[39m\u001b[33mForecast horizon cannot be greater than the number of predictions.\u001b[39m\u001b[33m\"\u001b[39m\n\u001b[32m    186\u001b[39m     )\n\u001b[32m    188\u001b[39m n = \u001b[38;5;28mlen\u001b[39m(P1)\n\u001b[32m    189\u001b[39m mean = \u001b[32m0.0\u001b[39m\n",
      "\u001b[31mInvalidParameterException\u001b[39m: Forecast horizon cannot be greater than the number of predictions."
     ]
    }
   ],
   "source": [
    "stat, p, T = dm_against_naive(\n",
    "    \"results/ARIMA_backtest.csv\", # current model\n",
    "    \"results/Baseline_backtest.csv\",\n",
    "    loss=\"mae\"\n",
    ")\n",
    "print(f\"stat={stat:.3f}, p={p:.3g}, T={T}\")"
   ]
  },
  {
   "cell_type": "markdown",
   "id": "04541e0d",
   "metadata": {},
   "source": [
    "### ETS"
   ]
  },
  {
   "cell_type": "code",
   "execution_count": 35,
   "id": "0b8c68b0",
   "metadata": {},
   "outputs": [
    {
     "name": "stdout",
     "output_type": "stream",
     "text": [
      "stat=-38.879, p=7.11e-40, T=52\n"
     ]
    }
   ],
   "source": [
    "stat, p, T = dm_against_naive(\n",
    "    \"results/ETS_test_2017.csv\", # baseline model\n",
    "    \"results/Baseline_test_2017.csv\",\n",
    "    loss=\"mae\"\n",
    ")\n",
    "print(f\"stat={stat:.3f}, p={p:.3g}, T={T}\")\n",
    "\n",
    "# If P value > 0.05, so we fail to reject the null hypothesis -> the model is not better than the baselines"
   ]
  },
  {
   "cell_type": "markdown",
   "id": "394d6b31",
   "metadata": {},
   "source": [
    "### Test code"
   ]
  },
  {
   "cell_type": "code",
   "execution_count": 2,
   "id": "0362b50c",
   "metadata": {},
   "outputs": [
    {
     "data": {
      "text/plain": [
       "(-2.2229922805746782, 0.04515565862099125)"
      ]
     },
     "execution_count": 2,
     "metadata": {},
     "output_type": "execute_result"
    }
   ],
   "source": [
    "T = [10, 20, 30, 40, 50]\n",
    "F = [11, 21, 29, 42, 53]\n",
    "G = [13, 26, 24, 40, 59]\n",
    "\n",
    "dm_test(T, F, G, one_sided=True)\n",
    "# (-2.2229922805746782, 0.04515565862099125)"
   ]
  }
 ],
 "metadata": {
  "kernelspec": {
   "display_name": ".venv",
   "language": "python",
   "name": "python3"
  },
  "language_info": {
   "codemirror_mode": {
    "name": "ipython",
    "version": 3
   },
   "file_extension": ".py",
   "mimetype": "text/x-python",
   "name": "python",
   "nbconvert_exporter": "python",
   "pygments_lexer": "ipython3",
   "version": "3.12.4"
  }
 },
 "nbformat": 4,
 "nbformat_minor": 5
}
